{
 "cells": [
  {
   "cell_type": "markdown",
   "id": "0191871c",
   "metadata": {},
   "source": [
    "## COMPAS Dataset Exploration"
   ]
  },
  {
   "cell_type": "markdown",
   "id": "177dd5fc",
   "metadata": {},
   "source": [
    "Amrita Acharya, Dianne Caravela, Elisabeth Nesmith, Emma Kornberg, Eunice Kim with Women At the Table"
   ]
  },
  {
   "cell_type": "code",
   "execution_count": 1,
   "id": "5532fffd",
   "metadata": {},
   "outputs": [
    {
     "name": "stdout",
     "output_type": "stream",
     "text": [
      "Requirement already satisfied: aif360 in /Users/elisabethnesmith/opt/anaconda3/lib/python3.7/site-packages (0.4.0)\n",
      "Requirement already satisfied: scipy<1.6.0,>=1.2.0 in /Users/elisabethnesmith/opt/anaconda3/lib/python3.7/site-packages (from aif360) (1.5.4)\n",
      "Requirement already satisfied: pandas>=0.24.0 in /Users/elisabethnesmith/opt/anaconda3/lib/python3.7/site-packages (from aif360) (1.3.5)\n",
      "Requirement already satisfied: scikit-learn>=0.22.1 in /Users/elisabethnesmith/opt/anaconda3/lib/python3.7/site-packages (from aif360) (0.24.2)\n",
      "Requirement already satisfied: matplotlib in /Users/elisabethnesmith/opt/anaconda3/lib/python3.7/site-packages (from aif360) (3.4.3)\n",
      "Requirement already satisfied: tempeh in /Users/elisabethnesmith/opt/anaconda3/lib/python3.7/site-packages (from aif360) (0.1.12)\n",
      "Requirement already satisfied: numpy>=1.16 in /Users/elisabethnesmith/opt/anaconda3/lib/python3.7/site-packages (from aif360) (1.19.5)\n",
      "Requirement already satisfied: python-dateutil>=2.7.3 in /Users/elisabethnesmith/opt/anaconda3/lib/python3.7/site-packages (from pandas>=0.24.0->aif360) (2.8.2)\n",
      "Requirement already satisfied: pytz>=2017.3 in /Users/elisabethnesmith/opt/anaconda3/lib/python3.7/site-packages (from pandas>=0.24.0->aif360) (2021.3)\n",
      "Requirement already satisfied: six>=1.5 in /Users/elisabethnesmith/opt/anaconda3/lib/python3.7/site-packages (from python-dateutil>=2.7.3->pandas>=0.24.0->aif360) (1.15.0)\n",
      "Requirement already satisfied: joblib>=0.11 in /Users/elisabethnesmith/opt/anaconda3/lib/python3.7/site-packages (from scikit-learn>=0.22.1->aif360) (1.1.0)\n",
      "Requirement already satisfied: threadpoolctl>=2.0.0 in /Users/elisabethnesmith/opt/anaconda3/lib/python3.7/site-packages (from scikit-learn>=0.22.1->aif360) (2.2.0)\n",
      "Requirement already satisfied: cycler>=0.10 in /Users/elisabethnesmith/opt/anaconda3/lib/python3.7/site-packages (from matplotlib->aif360) (0.10.0)\n",
      "Requirement already satisfied: kiwisolver>=1.0.1 in /Users/elisabethnesmith/opt/anaconda3/lib/python3.7/site-packages (from matplotlib->aif360) (1.3.1)\n",
      "Requirement already satisfied: pillow>=6.2.0 in /Users/elisabethnesmith/opt/anaconda3/lib/python3.7/site-packages (from matplotlib->aif360) (8.4.0)\n",
      "Requirement already satisfied: pyparsing>=2.2.1 in /Users/elisabethnesmith/opt/anaconda3/lib/python3.7/site-packages (from matplotlib->aif360) (3.0.4)\n",
      "Requirement already satisfied: pytest in /Users/elisabethnesmith/opt/anaconda3/lib/python3.7/site-packages (from tempeh->aif360) (6.2.4)\n",
      "Requirement already satisfied: memory-profiler in /Users/elisabethnesmith/opt/anaconda3/lib/python3.7/site-packages (from tempeh->aif360) (0.60.0)\n",
      "Requirement already satisfied: requests in /Users/elisabethnesmith/opt/anaconda3/lib/python3.7/site-packages (from tempeh->aif360) (2.26.0)\n",
      "Requirement already satisfied: shap in /Users/elisabethnesmith/opt/anaconda3/lib/python3.7/site-packages (from tempeh->aif360) (0.40.0)\n",
      "Requirement already satisfied: psutil in /Users/elisabethnesmith/opt/anaconda3/lib/python3.7/site-packages (from memory-profiler->tempeh->aif360) (5.8.0)\n",
      "Requirement already satisfied: attrs>=19.2.0 in /Users/elisabethnesmith/opt/anaconda3/lib/python3.7/site-packages (from pytest->tempeh->aif360) (21.2.0)\n",
      "Requirement already satisfied: iniconfig in /Users/elisabethnesmith/opt/anaconda3/lib/python3.7/site-packages (from pytest->tempeh->aif360) (1.1.1)\n",
      "Requirement already satisfied: packaging in /Users/elisabethnesmith/opt/anaconda3/lib/python3.7/site-packages (from pytest->tempeh->aif360) (21.0)\n",
      "Requirement already satisfied: pluggy<1.0.0a1,>=0.12 in /Users/elisabethnesmith/opt/anaconda3/lib/python3.7/site-packages (from pytest->tempeh->aif360) (0.13.1)\n",
      "Requirement already satisfied: py>=1.8.2 in /Users/elisabethnesmith/opt/anaconda3/lib/python3.7/site-packages (from pytest->tempeh->aif360) (1.10.0)\n",
      "Requirement already satisfied: toml in /Users/elisabethnesmith/opt/anaconda3/lib/python3.7/site-packages (from pytest->tempeh->aif360) (0.10.2)\n",
      "Requirement already satisfied: importlib-metadata>=0.12 in /Users/elisabethnesmith/opt/anaconda3/lib/python3.7/site-packages (from pytest->tempeh->aif360) (4.8.1)\n",
      "Requirement already satisfied: zipp>=0.5 in /Users/elisabethnesmith/opt/anaconda3/lib/python3.7/site-packages (from importlib-metadata>=0.12->pytest->tempeh->aif360) (3.6.0)\n",
      "Requirement already satisfied: typing-extensions>=3.6.4 in /Users/elisabethnesmith/opt/anaconda3/lib/python3.7/site-packages (from importlib-metadata>=0.12->pytest->tempeh->aif360) (3.10.0.2)\n",
      "Requirement already satisfied: idna<4,>=2.5 in /Users/elisabethnesmith/opt/anaconda3/lib/python3.7/site-packages (from requests->tempeh->aif360) (3.2)\n",
      "Requirement already satisfied: charset-normalizer~=2.0.0 in /Users/elisabethnesmith/opt/anaconda3/lib/python3.7/site-packages (from requests->tempeh->aif360) (2.0.4)\n",
      "Requirement already satisfied: certifi>=2017.4.17 in /Users/elisabethnesmith/opt/anaconda3/lib/python3.7/site-packages (from requests->tempeh->aif360) (2021.10.8)\n",
      "Requirement already satisfied: urllib3<1.27,>=1.21.1 in /Users/elisabethnesmith/opt/anaconda3/lib/python3.7/site-packages (from requests->tempeh->aif360) (1.26.7)\n",
      "Requirement already satisfied: cloudpickle in /Users/elisabethnesmith/opt/anaconda3/lib/python3.7/site-packages (from shap->tempeh->aif360) (2.0.0)\n",
      "Requirement already satisfied: numba in /Users/elisabethnesmith/opt/anaconda3/lib/python3.7/site-packages (from shap->tempeh->aif360) (0.54.1)\n",
      "Requirement already satisfied: slicer==0.0.7 in /Users/elisabethnesmith/opt/anaconda3/lib/python3.7/site-packages (from shap->tempeh->aif360) (0.0.7)\n",
      "Requirement already satisfied: tqdm>4.25.0 in /Users/elisabethnesmith/opt/anaconda3/lib/python3.7/site-packages (from shap->tempeh->aif360) (4.62.3)\n",
      "Requirement already satisfied: setuptools in /Users/elisabethnesmith/opt/anaconda3/lib/python3.7/site-packages (from numba->shap->tempeh->aif360) (58.0.4)\n",
      "Requirement already satisfied: llvmlite<0.38,>=0.37.0rc1 in /Users/elisabethnesmith/opt/anaconda3/lib/python3.7/site-packages (from numba->shap->tempeh->aif360) (0.37.0)\n",
      "Requirement already satisfied: fairlearn in /Users/elisabethnesmith/opt/anaconda3/lib/python3.7/site-packages (0.7.0)\n",
      "Requirement already satisfied: scikit-learn>=0.22.1 in /Users/elisabethnesmith/opt/anaconda3/lib/python3.7/site-packages (from fairlearn) (0.24.2)\n",
      "Requirement already satisfied: pandas>=0.25.1 in /Users/elisabethnesmith/opt/anaconda3/lib/python3.7/site-packages (from fairlearn) (1.3.5)\n",
      "Requirement already satisfied: numpy>=1.17.2 in /Users/elisabethnesmith/opt/anaconda3/lib/python3.7/site-packages (from fairlearn) (1.19.5)\n",
      "Requirement already satisfied: scipy>=1.4.1 in /Users/elisabethnesmith/opt/anaconda3/lib/python3.7/site-packages (from fairlearn) (1.5.4)\n",
      "Requirement already satisfied: pytz>=2017.3 in /Users/elisabethnesmith/opt/anaconda3/lib/python3.7/site-packages (from pandas>=0.25.1->fairlearn) (2021.3)\n",
      "Requirement already satisfied: python-dateutil>=2.7.3 in /Users/elisabethnesmith/opt/anaconda3/lib/python3.7/site-packages (from pandas>=0.25.1->fairlearn) (2.8.2)\n",
      "Requirement already satisfied: six>=1.5 in /Users/elisabethnesmith/opt/anaconda3/lib/python3.7/site-packages (from python-dateutil>=2.7.3->pandas>=0.25.1->fairlearn) (1.15.0)\n",
      "Requirement already satisfied: threadpoolctl>=2.0.0 in /Users/elisabethnesmith/opt/anaconda3/lib/python3.7/site-packages (from scikit-learn>=0.22.1->fairlearn) (2.2.0)\n",
      "Requirement already satisfied: joblib>=0.11 in /Users/elisabethnesmith/opt/anaconda3/lib/python3.7/site-packages (from scikit-learn>=0.22.1->fairlearn) (1.1.0)\n",
      "Requirement already satisfied: aif360[AdversarialDebiasing] in /Users/elisabethnesmith/opt/anaconda3/lib/python3.7/site-packages (0.4.0)\n",
      "Requirement already satisfied: scipy<1.6.0,>=1.2.0 in /Users/elisabethnesmith/opt/anaconda3/lib/python3.7/site-packages (from aif360[AdversarialDebiasing]) (1.5.4)\n",
      "Requirement already satisfied: matplotlib in /Users/elisabethnesmith/opt/anaconda3/lib/python3.7/site-packages (from aif360[AdversarialDebiasing]) (3.4.3)\n",
      "Requirement already satisfied: pandas>=0.24.0 in /Users/elisabethnesmith/opt/anaconda3/lib/python3.7/site-packages (from aif360[AdversarialDebiasing]) (1.3.5)\n",
      "Requirement already satisfied: tempeh in /Users/elisabethnesmith/opt/anaconda3/lib/python3.7/site-packages (from aif360[AdversarialDebiasing]) (0.1.12)\n",
      "Requirement already satisfied: numpy>=1.16 in /Users/elisabethnesmith/opt/anaconda3/lib/python3.7/site-packages (from aif360[AdversarialDebiasing]) (1.19.5)\n",
      "Requirement already satisfied: scikit-learn>=0.22.1 in /Users/elisabethnesmith/opt/anaconda3/lib/python3.7/site-packages (from aif360[AdversarialDebiasing]) (0.24.2)\n",
      "Requirement already satisfied: tensorflow>=1.13.1 in /Users/elisabethnesmith/opt/anaconda3/lib/python3.7/site-packages (from aif360[AdversarialDebiasing]) (2.6.3)\n"
     ]
    },
    {
     "name": "stdout",
     "output_type": "stream",
     "text": [
      "Requirement already satisfied: python-dateutil>=2.7.3 in /Users/elisabethnesmith/opt/anaconda3/lib/python3.7/site-packages (from pandas>=0.24.0->aif360[AdversarialDebiasing]) (2.8.2)\n",
      "Requirement already satisfied: pytz>=2017.3 in /Users/elisabethnesmith/opt/anaconda3/lib/python3.7/site-packages (from pandas>=0.24.0->aif360[AdversarialDebiasing]) (2021.3)\n",
      "Requirement already satisfied: six>=1.5 in /Users/elisabethnesmith/opt/anaconda3/lib/python3.7/site-packages (from python-dateutil>=2.7.3->pandas>=0.24.0->aif360[AdversarialDebiasing]) (1.15.0)\n",
      "Requirement already satisfied: threadpoolctl>=2.0.0 in /Users/elisabethnesmith/opt/anaconda3/lib/python3.7/site-packages (from scikit-learn>=0.22.1->aif360[AdversarialDebiasing]) (2.2.0)\n",
      "Requirement already satisfied: joblib>=0.11 in /Users/elisabethnesmith/opt/anaconda3/lib/python3.7/site-packages (from scikit-learn>=0.22.1->aif360[AdversarialDebiasing]) (1.1.0)\n",
      "Requirement already satisfied: clang~=5.0 in /Users/elisabethnesmith/opt/anaconda3/lib/python3.7/site-packages (from tensorflow>=1.13.1->aif360[AdversarialDebiasing]) (5.0)\n",
      "Requirement already satisfied: opt-einsum~=3.3.0 in /Users/elisabethnesmith/opt/anaconda3/lib/python3.7/site-packages (from tensorflow>=1.13.1->aif360[AdversarialDebiasing]) (3.3.0)\n",
      "Requirement already satisfied: wrapt~=1.12.1 in /Users/elisabethnesmith/opt/anaconda3/lib/python3.7/site-packages (from tensorflow>=1.13.1->aif360[AdversarialDebiasing]) (1.12.1)\n",
      "Requirement already satisfied: keras<2.7,>=2.6.0 in /Users/elisabethnesmith/opt/anaconda3/lib/python3.7/site-packages (from tensorflow>=1.13.1->aif360[AdversarialDebiasing]) (2.6.0)\n",
      "Requirement already satisfied: termcolor~=1.1.0 in /Users/elisabethnesmith/opt/anaconda3/lib/python3.7/site-packages (from tensorflow>=1.13.1->aif360[AdversarialDebiasing]) (1.1.0)\n",
      "Requirement already satisfied: keras-preprocessing~=1.1.2 in /Users/elisabethnesmith/opt/anaconda3/lib/python3.7/site-packages (from tensorflow>=1.13.1->aif360[AdversarialDebiasing]) (1.1.2)\n",
      "Requirement already satisfied: tensorflow-estimator<2.7,>=2.6.0 in /Users/elisabethnesmith/opt/anaconda3/lib/python3.7/site-packages (from tensorflow>=1.13.1->aif360[AdversarialDebiasing]) (2.6.0)\n",
      "Requirement already satisfied: google-pasta~=0.2 in /Users/elisabethnesmith/opt/anaconda3/lib/python3.7/site-packages (from tensorflow>=1.13.1->aif360[AdversarialDebiasing]) (0.2.0)\n",
      "Requirement already satisfied: grpcio<2.0,>=1.37.0 in /Users/elisabethnesmith/opt/anaconda3/lib/python3.7/site-packages (from tensorflow>=1.13.1->aif360[AdversarialDebiasing]) (1.44.0)\n",
      "Requirement already satisfied: typing-extensions<3.11,>=3.7 in /Users/elisabethnesmith/opt/anaconda3/lib/python3.7/site-packages (from tensorflow>=1.13.1->aif360[AdversarialDebiasing]) (3.10.0.2)\n",
      "Requirement already satisfied: astunparse~=1.6.3 in /Users/elisabethnesmith/opt/anaconda3/lib/python3.7/site-packages (from tensorflow>=1.13.1->aif360[AdversarialDebiasing]) (1.6.3)\n",
      "Requirement already satisfied: flatbuffers~=1.12.0 in /Users/elisabethnesmith/opt/anaconda3/lib/python3.7/site-packages (from tensorflow>=1.13.1->aif360[AdversarialDebiasing]) (1.12)\n",
      "Requirement already satisfied: tensorboard<2.7,>=2.6.0 in /Users/elisabethnesmith/opt/anaconda3/lib/python3.7/site-packages (from tensorflow>=1.13.1->aif360[AdversarialDebiasing]) (2.6.0)\n",
      "Requirement already satisfied: gast==0.4.0 in /Users/elisabethnesmith/opt/anaconda3/lib/python3.7/site-packages (from tensorflow>=1.13.1->aif360[AdversarialDebiasing]) (0.4.0)\n",
      "Requirement already satisfied: wheel~=0.35 in /Users/elisabethnesmith/opt/anaconda3/lib/python3.7/site-packages (from tensorflow>=1.13.1->aif360[AdversarialDebiasing]) (0.37.0)\n",
      "Requirement already satisfied: protobuf>=3.9.2 in /Users/elisabethnesmith/opt/anaconda3/lib/python3.7/site-packages (from tensorflow>=1.13.1->aif360[AdversarialDebiasing]) (3.19.4)\n",
      "Requirement already satisfied: absl-py~=0.10 in /Users/elisabethnesmith/opt/anaconda3/lib/python3.7/site-packages (from tensorflow>=1.13.1->aif360[AdversarialDebiasing]) (0.15.0)\n",
      "Requirement already satisfied: h5py~=3.1.0 in /Users/elisabethnesmith/opt/anaconda3/lib/python3.7/site-packages (from tensorflow>=1.13.1->aif360[AdversarialDebiasing]) (3.1.0)\n",
      "Requirement already satisfied: cached-property in /Users/elisabethnesmith/opt/anaconda3/lib/python3.7/site-packages (from h5py~=3.1.0->tensorflow>=1.13.1->aif360[AdversarialDebiasing]) (1.5.2)\n",
      "Requirement already satisfied: google-auth<2,>=1.6.3 in /Users/elisabethnesmith/opt/anaconda3/lib/python3.7/site-packages (from tensorboard<2.7,>=2.6.0->tensorflow>=1.13.1->aif360[AdversarialDebiasing]) (1.35.0)\n",
      "Requirement already satisfied: markdown>=2.6.8 in /Users/elisabethnesmith/opt/anaconda3/lib/python3.7/site-packages (from tensorboard<2.7,>=2.6.0->tensorflow>=1.13.1->aif360[AdversarialDebiasing]) (3.3.6)\n",
      "Requirement already satisfied: tensorboard-data-server<0.7.0,>=0.6.0 in /Users/elisabethnesmith/opt/anaconda3/lib/python3.7/site-packages (from tensorboard<2.7,>=2.6.0->tensorflow>=1.13.1->aif360[AdversarialDebiasing]) (0.6.1)\n",
      "Requirement already satisfied: werkzeug>=0.11.15 in /Users/elisabethnesmith/opt/anaconda3/lib/python3.7/site-packages (from tensorboard<2.7,>=2.6.0->tensorflow>=1.13.1->aif360[AdversarialDebiasing]) (2.0.2)\n",
      "Requirement already satisfied: google-auth-oauthlib<0.5,>=0.4.1 in /Users/elisabethnesmith/opt/anaconda3/lib/python3.7/site-packages (from tensorboard<2.7,>=2.6.0->tensorflow>=1.13.1->aif360[AdversarialDebiasing]) (0.4.6)\n",
      "Requirement already satisfied: tensorboard-plugin-wit>=1.6.0 in /Users/elisabethnesmith/opt/anaconda3/lib/python3.7/site-packages (from tensorboard<2.7,>=2.6.0->tensorflow>=1.13.1->aif360[AdversarialDebiasing]) (1.8.1)\n",
      "Requirement already satisfied: requests<3,>=2.21.0 in /Users/elisabethnesmith/opt/anaconda3/lib/python3.7/site-packages (from tensorboard<2.7,>=2.6.0->tensorflow>=1.13.1->aif360[AdversarialDebiasing]) (2.26.0)\n",
      "Requirement already satisfied: setuptools>=41.0.0 in /Users/elisabethnesmith/opt/anaconda3/lib/python3.7/site-packages (from tensorboard<2.7,>=2.6.0->tensorflow>=1.13.1->aif360[AdversarialDebiasing]) (58.0.4)\n",
      "Requirement already satisfied: pyasn1-modules>=0.2.1 in /Users/elisabethnesmith/opt/anaconda3/lib/python3.7/site-packages (from google-auth<2,>=1.6.3->tensorboard<2.7,>=2.6.0->tensorflow>=1.13.1->aif360[AdversarialDebiasing]) (0.2.8)\n",
      "Requirement already satisfied: cachetools<5.0,>=2.0.0 in /Users/elisabethnesmith/opt/anaconda3/lib/python3.7/site-packages (from google-auth<2,>=1.6.3->tensorboard<2.7,>=2.6.0->tensorflow>=1.13.1->aif360[AdversarialDebiasing]) (4.2.4)\n",
      "Requirement already satisfied: rsa<5,>=3.1.4 in /Users/elisabethnesmith/opt/anaconda3/lib/python3.7/site-packages (from google-auth<2,>=1.6.3->tensorboard<2.7,>=2.6.0->tensorflow>=1.13.1->aif360[AdversarialDebiasing]) (4.8)\n",
      "Requirement already satisfied: requests-oauthlib>=0.7.0 in /Users/elisabethnesmith/opt/anaconda3/lib/python3.7/site-packages (from google-auth-oauthlib<0.5,>=0.4.1->tensorboard<2.7,>=2.6.0->tensorflow>=1.13.1->aif360[AdversarialDebiasing]) (1.3.1)\n",
      "Requirement already satisfied: importlib-metadata>=4.4 in /Users/elisabethnesmith/opt/anaconda3/lib/python3.7/site-packages (from markdown>=2.6.8->tensorboard<2.7,>=2.6.0->tensorflow>=1.13.1->aif360[AdversarialDebiasing]) (4.8.1)\n",
      "Requirement already satisfied: zipp>=0.5 in /Users/elisabethnesmith/opt/anaconda3/lib/python3.7/site-packages (from importlib-metadata>=4.4->markdown>=2.6.8->tensorboard<2.7,>=2.6.0->tensorflow>=1.13.1->aif360[AdversarialDebiasing]) (3.6.0)\n",
      "Requirement already satisfied: pyasn1<0.5.0,>=0.4.6 in /Users/elisabethnesmith/opt/anaconda3/lib/python3.7/site-packages (from pyasn1-modules>=0.2.1->google-auth<2,>=1.6.3->tensorboard<2.7,>=2.6.0->tensorflow>=1.13.1->aif360[AdversarialDebiasing]) (0.4.8)\n",
      "Requirement already satisfied: idna<4,>=2.5 in /Users/elisabethnesmith/opt/anaconda3/lib/python3.7/site-packages (from requests<3,>=2.21.0->tensorboard<2.7,>=2.6.0->tensorflow>=1.13.1->aif360[AdversarialDebiasing]) (3.2)\n",
      "Requirement already satisfied: charset-normalizer~=2.0.0 in /Users/elisabethnesmith/opt/anaconda3/lib/python3.7/site-packages (from requests<3,>=2.21.0->tensorboard<2.7,>=2.6.0->tensorflow>=1.13.1->aif360[AdversarialDebiasing]) (2.0.4)\n",
      "Requirement already satisfied: urllib3<1.27,>=1.21.1 in /Users/elisabethnesmith/opt/anaconda3/lib/python3.7/site-packages (from requests<3,>=2.21.0->tensorboard<2.7,>=2.6.0->tensorflow>=1.13.1->aif360[AdversarialDebiasing]) (1.26.7)\n",
      "Requirement already satisfied: certifi>=2017.4.17 in /Users/elisabethnesmith/opt/anaconda3/lib/python3.7/site-packages (from requests<3,>=2.21.0->tensorboard<2.7,>=2.6.0->tensorflow>=1.13.1->aif360[AdversarialDebiasing]) (2021.10.8)\n"
     ]
    },
    {
     "name": "stdout",
     "output_type": "stream",
     "text": [
      "Requirement already satisfied: oauthlib>=3.0.0 in /Users/elisabethnesmith/opt/anaconda3/lib/python3.7/site-packages (from requests-oauthlib>=0.7.0->google-auth-oauthlib<0.5,>=0.4.1->tensorboard<2.7,>=2.6.0->tensorflow>=1.13.1->aif360[AdversarialDebiasing]) (3.2.0)\n",
      "Requirement already satisfied: cycler>=0.10 in /Users/elisabethnesmith/opt/anaconda3/lib/python3.7/site-packages (from matplotlib->aif360[AdversarialDebiasing]) (0.10.0)\n",
      "Requirement already satisfied: pyparsing>=2.2.1 in /Users/elisabethnesmith/opt/anaconda3/lib/python3.7/site-packages (from matplotlib->aif360[AdversarialDebiasing]) (3.0.4)\n",
      "Requirement already satisfied: kiwisolver>=1.0.1 in /Users/elisabethnesmith/opt/anaconda3/lib/python3.7/site-packages (from matplotlib->aif360[AdversarialDebiasing]) (1.3.1)\n",
      "Requirement already satisfied: pillow>=6.2.0 in /Users/elisabethnesmith/opt/anaconda3/lib/python3.7/site-packages (from matplotlib->aif360[AdversarialDebiasing]) (8.4.0)\n",
      "Requirement already satisfied: shap in /Users/elisabethnesmith/opt/anaconda3/lib/python3.7/site-packages (from tempeh->aif360[AdversarialDebiasing]) (0.40.0)\n",
      "Requirement already satisfied: memory-profiler in /Users/elisabethnesmith/opt/anaconda3/lib/python3.7/site-packages (from tempeh->aif360[AdversarialDebiasing]) (0.60.0)\n",
      "Requirement already satisfied: pytest in /Users/elisabethnesmith/opt/anaconda3/lib/python3.7/site-packages (from tempeh->aif360[AdversarialDebiasing]) (6.2.4)\n",
      "Requirement already satisfied: psutil in /Users/elisabethnesmith/opt/anaconda3/lib/python3.7/site-packages (from memory-profiler->tempeh->aif360[AdversarialDebiasing]) (5.8.0)\n",
      "Requirement already satisfied: attrs>=19.2.0 in /Users/elisabethnesmith/opt/anaconda3/lib/python3.7/site-packages (from pytest->tempeh->aif360[AdversarialDebiasing]) (21.2.0)\n",
      "Requirement already satisfied: iniconfig in /Users/elisabethnesmith/opt/anaconda3/lib/python3.7/site-packages (from pytest->tempeh->aif360[AdversarialDebiasing]) (1.1.1)\n",
      "Requirement already satisfied: packaging in /Users/elisabethnesmith/opt/anaconda3/lib/python3.7/site-packages (from pytest->tempeh->aif360[AdversarialDebiasing]) (21.0)\n",
      "Requirement already satisfied: pluggy<1.0.0a1,>=0.12 in /Users/elisabethnesmith/opt/anaconda3/lib/python3.7/site-packages (from pytest->tempeh->aif360[AdversarialDebiasing]) (0.13.1)\n",
      "Requirement already satisfied: py>=1.8.2 in /Users/elisabethnesmith/opt/anaconda3/lib/python3.7/site-packages (from pytest->tempeh->aif360[AdversarialDebiasing]) (1.10.0)\n",
      "Requirement already satisfied: toml in /Users/elisabethnesmith/opt/anaconda3/lib/python3.7/site-packages (from pytest->tempeh->aif360[AdversarialDebiasing]) (0.10.2)\n",
      "Requirement already satisfied: tqdm>4.25.0 in /Users/elisabethnesmith/opt/anaconda3/lib/python3.7/site-packages (from shap->tempeh->aif360[AdversarialDebiasing]) (4.62.3)\n",
      "Requirement already satisfied: slicer==0.0.7 in /Users/elisabethnesmith/opt/anaconda3/lib/python3.7/site-packages (from shap->tempeh->aif360[AdversarialDebiasing]) (0.0.7)\n",
      "Requirement already satisfied: numba in /Users/elisabethnesmith/opt/anaconda3/lib/python3.7/site-packages (from shap->tempeh->aif360[AdversarialDebiasing]) (0.54.1)\n",
      "Requirement already satisfied: cloudpickle in /Users/elisabethnesmith/opt/anaconda3/lib/python3.7/site-packages (from shap->tempeh->aif360[AdversarialDebiasing]) (2.0.0)\n",
      "Requirement already satisfied: llvmlite<0.38,>=0.37.0rc1 in /Users/elisabethnesmith/opt/anaconda3/lib/python3.7/site-packages (from numba->shap->tempeh->aif360[AdversarialDebiasing]) (0.37.0)\n"
     ]
    }
   ],
   "source": [
    "##Install packages \n",
    "!pip install aif360;\n",
    "!pip install fairlearn;\n",
    "!pip install 'aif360[AdversarialDebiasing]'"
   ]
  },
  {
   "cell_type": "code",
   "execution_count": 2,
   "id": "1b6b249c",
   "metadata": {},
   "outputs": [],
   "source": [
    "##Install packages to fetch data \n",
    "%matplotlib inline\n",
    "import matplotlib.pyplot as plt\n",
    "import matplotlib.patches as patches\n",
    "import numpy as np\n",
    "import pandas as pd\n",
    "import seaborn as sns\n",
    "\n",
    "import matplotlib.pyplot as plt\n",
    "import matplotlib.patches as mpatches\n",
    "\n",
    "from sklearn.compose import make_column_transformer\n",
    "from sklearn.linear_model import LogisticRegression\n",
    "\n",
    "from sklearn.model_selection import GridSearchCV, train_test_split\n",
    "from sklearn.preprocessing import OneHotEncoder\n",
    "\n",
    "from aif360.datasets import CompasDataset\n",
    "from aif360.sklearn.datasets import fetch_compas\n",
    "from aif360.algorithms.inprocessing import MetaFairClassifier\n",
    "\n",
    "from aif360.sklearn.preprocessing import ReweighingMeta\n",
    "from aif360.sklearn.inprocessing import AdversarialDebiasing\n",
    "from aif360.sklearn.postprocessing import CalibratedEqualizedOdds, PostProcessingMeta\n",
    "from aif360.sklearn.metrics import disparate_impact_ratio, average_odds_error, generalized_fpr, average_odds_difference\n",
    "from aif360.sklearn.metrics import generalized_fnr, difference, statistical_parity_difference, equal_opportunity_difference, generalized_entropy_error\n",
    "\n",
    "from IPython.display import Markdown, display"
   ]
  },
  {
   "cell_type": "code",
   "execution_count": 3,
   "id": "a3bdd036",
   "metadata": {},
   "outputs": [
    {
     "name": "stdout",
     "output_type": "stream",
     "text": [
      "There are 6167 entries and 10 features\n"
     ]
    },
    {
     "data": {
      "text/html": [
       "<div>\n",
       "<style scoped>\n",
       "    .dataframe tbody tr th:only-of-type {\n",
       "        vertical-align: middle;\n",
       "    }\n",
       "\n",
       "    .dataframe tbody tr th {\n",
       "        vertical-align: top;\n",
       "    }\n",
       "\n",
       "    .dataframe thead th {\n",
       "        text-align: right;\n",
       "    }\n",
       "</style>\n",
       "<table border=\"1\" class=\"dataframe\">\n",
       "  <thead>\n",
       "    <tr style=\"text-align: right;\">\n",
       "      <th></th>\n",
       "      <th></th>\n",
       "      <th></th>\n",
       "      <th>sex</th>\n",
       "      <th>age</th>\n",
       "      <th>age_cat</th>\n",
       "      <th>race</th>\n",
       "      <th>juv_fel_count</th>\n",
       "      <th>juv_misd_count</th>\n",
       "      <th>juv_other_count</th>\n",
       "      <th>priors_count</th>\n",
       "      <th>c_charge_degree</th>\n",
       "      <th>c_charge_desc</th>\n",
       "    </tr>\n",
       "    <tr>\n",
       "      <th>id</th>\n",
       "      <th>sex</th>\n",
       "      <th>race</th>\n",
       "      <th></th>\n",
       "      <th></th>\n",
       "      <th></th>\n",
       "      <th></th>\n",
       "      <th></th>\n",
       "      <th></th>\n",
       "      <th></th>\n",
       "      <th></th>\n",
       "      <th></th>\n",
       "      <th></th>\n",
       "    </tr>\n",
       "  </thead>\n",
       "  <tbody>\n",
       "    <tr>\n",
       "      <th>1</th>\n",
       "      <th>Male</th>\n",
       "      <th>Other</th>\n",
       "      <td>Male</td>\n",
       "      <td>69</td>\n",
       "      <td>Greater than 45</td>\n",
       "      <td>Other</td>\n",
       "      <td>0</td>\n",
       "      <td>0</td>\n",
       "      <td>0</td>\n",
       "      <td>0</td>\n",
       "      <td>F</td>\n",
       "      <td>Aggravated Assault w/Firearm</td>\n",
       "    </tr>\n",
       "    <tr>\n",
       "      <th>3</th>\n",
       "      <th>Male</th>\n",
       "      <th>African-American</th>\n",
       "      <td>Male</td>\n",
       "      <td>34</td>\n",
       "      <td>25 - 45</td>\n",
       "      <td>African-American</td>\n",
       "      <td>0</td>\n",
       "      <td>0</td>\n",
       "      <td>0</td>\n",
       "      <td>0</td>\n",
       "      <td>F</td>\n",
       "      <td>Felony Battery w/Prior Convict</td>\n",
       "    </tr>\n",
       "    <tr>\n",
       "      <th>4</th>\n",
       "      <th>Male</th>\n",
       "      <th>African-American</th>\n",
       "      <td>Male</td>\n",
       "      <td>24</td>\n",
       "      <td>Less than 25</td>\n",
       "      <td>African-American</td>\n",
       "      <td>0</td>\n",
       "      <td>0</td>\n",
       "      <td>1</td>\n",
       "      <td>4</td>\n",
       "      <td>F</td>\n",
       "      <td>Possession of Cocaine</td>\n",
       "    </tr>\n",
       "    <tr>\n",
       "      <th>7</th>\n",
       "      <th>Male</th>\n",
       "      <th>Other</th>\n",
       "      <td>Male</td>\n",
       "      <td>44</td>\n",
       "      <td>25 - 45</td>\n",
       "      <td>Other</td>\n",
       "      <td>0</td>\n",
       "      <td>0</td>\n",
       "      <td>0</td>\n",
       "      <td>0</td>\n",
       "      <td>M</td>\n",
       "      <td>Battery</td>\n",
       "    </tr>\n",
       "    <tr>\n",
       "      <th>8</th>\n",
       "      <th>Male</th>\n",
       "      <th>Caucasian</th>\n",
       "      <td>Male</td>\n",
       "      <td>41</td>\n",
       "      <td>25 - 45</td>\n",
       "      <td>Caucasian</td>\n",
       "      <td>0</td>\n",
       "      <td>0</td>\n",
       "      <td>0</td>\n",
       "      <td>14</td>\n",
       "      <td>F</td>\n",
       "      <td>Possession Burglary Tools</td>\n",
       "    </tr>\n",
       "  </tbody>\n",
       "</table>\n",
       "</div>"
      ],
      "text/plain": [
       "                           sex  age          age_cat              race  \\\n",
       "id sex  race                                                             \n",
       "1  Male Other             Male   69  Greater than 45             Other   \n",
       "3  Male African-American  Male   34          25 - 45  African-American   \n",
       "4  Male African-American  Male   24     Less than 25  African-American   \n",
       "7  Male Other             Male   44          25 - 45             Other   \n",
       "8  Male Caucasian         Male   41          25 - 45         Caucasian   \n",
       "\n",
       "                          juv_fel_count  juv_misd_count  juv_other_count  \\\n",
       "id sex  race                                                               \n",
       "1  Male Other                         0               0                0   \n",
       "3  Male African-American              0               0                0   \n",
       "4  Male African-American              0               0                1   \n",
       "7  Male Other                         0               0                0   \n",
       "8  Male Caucasian                     0               0                0   \n",
       "\n",
       "                          priors_count c_charge_degree  \\\n",
       "id sex  race                                             \n",
       "1  Male Other                        0               F   \n",
       "3  Male African-American             0               F   \n",
       "4  Male African-American             4               F   \n",
       "7  Male Other                        0               M   \n",
       "8  Male Caucasian                   14               F   \n",
       "\n",
       "                                           c_charge_desc  \n",
       "id sex  race                                              \n",
       "1  Male Other               Aggravated Assault w/Firearm  \n",
       "3  Male African-American  Felony Battery w/Prior Convict  \n",
       "4  Male African-American           Possession of Cocaine  \n",
       "7  Male Other                                    Battery  \n",
       "8  Male Caucasian              Possession Burglary Tools  "
      ]
     },
     "execution_count": 3,
     "metadata": {},
     "output_type": "execute_result"
    }
   ],
   "source": [
    "## load in data\n",
    "## In machine learning tasks, specifically with supervised learning, you have features and labels. \n",
    "## The features are the descriptive attributes (they are defined as X), and the label (y) is what you're attempting to predict or forecast\n",
    "\n",
    "X, y = fetch_compas()\n",
    "print(f'There are {X.shape[0]} entries and {X.shape[1]} features')\n",
    "X.head()"
   ]
  },
  {
   "cell_type": "code",
   "execution_count": 4,
   "id": "50b40326",
   "metadata": {
    "scrolled": true
   },
   "outputs": [
    {
     "name": "stdout",
     "output_type": "stream",
     "text": [
      "There are 5273 entries and 10 features\n"
     ]
    },
    {
     "data": {
      "text/html": [
       "<div>\n",
       "<style scoped>\n",
       "    .dataframe tbody tr th:only-of-type {\n",
       "        vertical-align: middle;\n",
       "    }\n",
       "\n",
       "    .dataframe tbody tr th {\n",
       "        vertical-align: top;\n",
       "    }\n",
       "\n",
       "    .dataframe thead th {\n",
       "        text-align: right;\n",
       "    }\n",
       "</style>\n",
       "<table border=\"1\" class=\"dataframe\">\n",
       "  <thead>\n",
       "    <tr style=\"text-align: right;\">\n",
       "      <th></th>\n",
       "      <th></th>\n",
       "      <th></th>\n",
       "      <th>sex</th>\n",
       "      <th>age</th>\n",
       "      <th>age_cat</th>\n",
       "      <th>race</th>\n",
       "      <th>juv_fel_count</th>\n",
       "      <th>juv_misd_count</th>\n",
       "      <th>juv_other_count</th>\n",
       "      <th>priors_count</th>\n",
       "      <th>c_charge_degree</th>\n",
       "      <th>c_charge_desc</th>\n",
       "    </tr>\n",
       "    <tr>\n",
       "      <th>id</th>\n",
       "      <th>sex</th>\n",
       "      <th>race</th>\n",
       "      <th></th>\n",
       "      <th></th>\n",
       "      <th></th>\n",
       "      <th></th>\n",
       "      <th></th>\n",
       "      <th></th>\n",
       "      <th></th>\n",
       "      <th></th>\n",
       "      <th></th>\n",
       "      <th></th>\n",
       "    </tr>\n",
       "  </thead>\n",
       "  <tbody>\n",
       "    <tr>\n",
       "      <th>3</th>\n",
       "      <th>Male</th>\n",
       "      <th>African-American</th>\n",
       "      <td>Male</td>\n",
       "      <td>34</td>\n",
       "      <td>25 - 45</td>\n",
       "      <td>African-American</td>\n",
       "      <td>0</td>\n",
       "      <td>0</td>\n",
       "      <td>0</td>\n",
       "      <td>0</td>\n",
       "      <td>F</td>\n",
       "      <td>Felony Battery w/Prior Convict</td>\n",
       "    </tr>\n",
       "    <tr>\n",
       "      <th>4</th>\n",
       "      <th>Male</th>\n",
       "      <th>African-American</th>\n",
       "      <td>Male</td>\n",
       "      <td>24</td>\n",
       "      <td>Less than 25</td>\n",
       "      <td>African-American</td>\n",
       "      <td>0</td>\n",
       "      <td>0</td>\n",
       "      <td>1</td>\n",
       "      <td>4</td>\n",
       "      <td>F</td>\n",
       "      <td>Possession of Cocaine</td>\n",
       "    </tr>\n",
       "    <tr>\n",
       "      <th>8</th>\n",
       "      <th>Male</th>\n",
       "      <th>Caucasian</th>\n",
       "      <td>Male</td>\n",
       "      <td>41</td>\n",
       "      <td>25 - 45</td>\n",
       "      <td>Caucasian</td>\n",
       "      <td>0</td>\n",
       "      <td>0</td>\n",
       "      <td>0</td>\n",
       "      <td>14</td>\n",
       "      <td>F</td>\n",
       "      <td>Possession Burglary Tools</td>\n",
       "    </tr>\n",
       "    <tr>\n",
       "      <th>10</th>\n",
       "      <th>Female</th>\n",
       "      <th>Caucasian</th>\n",
       "      <td>Female</td>\n",
       "      <td>39</td>\n",
       "      <td>25 - 45</td>\n",
       "      <td>Caucasian</td>\n",
       "      <td>0</td>\n",
       "      <td>0</td>\n",
       "      <td>0</td>\n",
       "      <td>0</td>\n",
       "      <td>M</td>\n",
       "      <td>Battery</td>\n",
       "    </tr>\n",
       "    <tr>\n",
       "      <th>14</th>\n",
       "      <th>Male</th>\n",
       "      <th>Caucasian</th>\n",
       "      <td>Male</td>\n",
       "      <td>27</td>\n",
       "      <td>25 - 45</td>\n",
       "      <td>Caucasian</td>\n",
       "      <td>0</td>\n",
       "      <td>0</td>\n",
       "      <td>0</td>\n",
       "      <td>0</td>\n",
       "      <td>F</td>\n",
       "      <td>Poss 3,4 MDMA (Ecstasy)</td>\n",
       "    </tr>\n",
       "  </tbody>\n",
       "</table>\n",
       "</div>"
      ],
      "text/plain": [
       "                               sex  age       age_cat              race  \\\n",
       "id sex    race                                                            \n",
       "3  Male   African-American    Male   34       25 - 45  African-American   \n",
       "4  Male   African-American    Male   24  Less than 25  African-American   \n",
       "8  Male   Caucasian           Male   41       25 - 45         Caucasian   \n",
       "10 Female Caucasian         Female   39       25 - 45         Caucasian   \n",
       "14 Male   Caucasian           Male   27       25 - 45         Caucasian   \n",
       "\n",
       "                            juv_fel_count  juv_misd_count  juv_other_count  \\\n",
       "id sex    race                                                               \n",
       "3  Male   African-American              0               0                0   \n",
       "4  Male   African-American              0               0                1   \n",
       "8  Male   Caucasian                     0               0                0   \n",
       "10 Female Caucasian                     0               0                0   \n",
       "14 Male   Caucasian                     0               0                0   \n",
       "\n",
       "                            priors_count c_charge_degree  \\\n",
       "id sex    race                                             \n",
       "3  Male   African-American             0               F   \n",
       "4  Male   African-American             4               F   \n",
       "8  Male   Caucasian                   14               F   \n",
       "10 Female Caucasian                    0               M   \n",
       "14 Male   Caucasian                    0               F   \n",
       "\n",
       "                                             c_charge_desc  \n",
       "id sex    race                                              \n",
       "3  Male   African-American  Felony Battery w/Prior Convict  \n",
       "4  Male   African-American           Possession of Cocaine  \n",
       "8  Male   Caucasian              Possession Burglary Tools  \n",
       "10 Female Caucasian                                Battery  \n",
       "14 Male   Caucasian                Poss 3,4 MDMA (Ecstasy)  "
      ]
     },
     "execution_count": 4,
     "metadata": {},
     "output_type": "execute_result"
    }
   ],
   "source": [
    "## because our analysis is mainly focusing on how the algorithm treats white and Black people differently, we are\n",
    "## dropping the rows of data where race != Caucasian or African American\n",
    "## question: do we need to do this for y as well?\n",
    "X_new = X[(X.race == \"Caucasian\") | (X.race == \"African-American\")]\n",
    "print(f'There are {X_new.shape[0]} entries and {X_new.shape[1]} features')\n",
    "X_new.head()"
   ]
  },
  {
   "cell_type": "code",
   "execution_count": 5,
   "id": "8f8f8a1d",
   "metadata": {},
   "outputs": [
    {
     "name": "stderr",
     "output_type": "stream",
     "text": [
      "\n",
      "A value is trying to be set on a copy of a slice from a DataFrame.\n",
      "Try using .loc[row_indexer,col_indexer] = value instead\n",
      "\n",
      "See the caveats in the documentation: https://pandas.pydata.org/pandas-docs/stable/user_guide/indexing.html#returning-a-view-versus-a-copy\n"
     ]
    }
   ],
   "source": [
    "## drop unused race categories\n",
    "# list of categories to be removed\n",
    "X_new[\"race\"] = X_new[\"race\"].cat.remove_unused_categories()"
   ]
  },
  {
   "cell_type": "code",
   "execution_count": 6,
   "id": "46ac5cfc",
   "metadata": {
    "scrolled": true
   },
   "outputs": [
    {
     "data": {
      "text/plain": [
       "id  sex     race            \n",
       "3   Male    African-American    Recidivated\n",
       "4   Male    African-American    Recidivated\n",
       "8   Male    Caucasian           Recidivated\n",
       "10  Female  Caucasian              Survived\n",
       "14  Male    Caucasian              Survived\n",
       "Name: two_year_recid, dtype: category\n",
       "Categories (2, object): ['Survived' < 'Recidivated']"
      ]
     },
     "execution_count": 6,
     "metadata": {},
     "output_type": "execute_result"
    }
   ],
   "source": [
    "y_new = y[(y.index.get_level_values(2) == \"Caucasian\") | (y.index.get_level_values(2) == \"African-American\")]\n",
    "y_new.head()"
   ]
  },
  {
   "cell_type": "code",
   "execution_count": 7,
   "id": "d6bae8b4",
   "metadata": {},
   "outputs": [],
   "source": [
    "# Function for visualising the confusion matrix and other statistics\n",
    "# https://github.com/DTrimarchi10/confusion_matrix/blob/master/cf_matrix.py\n",
    "\n",
    "def make_confusion_matrix(cf_matrix, model):\n",
    "  group_names = [\"True Negative\",\"False Positive\",\"False Negative\",\"True Positive\"]\n",
    "  group_counts = [\"{0:0.0f}\".format(value) for value in\n",
    "                  cf_matrix.flatten()]\n",
    "  group_percentages = [\"{0:.2%}\".format(value) for value in\n",
    "                      cf_matrix.flatten()/np.sum(cf_matrix)]\n",
    "\n",
    "  group_labels = [\"{}\\n\".format(value) for value in group_names]\n",
    "  group_counts = [\"{0:0.0f}\\n\".format(value) for value in cf_matrix.flatten()]\n",
    "  group_percentages = [\"{0:.2%}\".format(value) for value in cf_matrix.flatten()/np.sum(cf_matrix)]\n",
    "\n",
    "  box_labels = [f\"{v1}{v2}{v3}\".strip() for v1, v2, v3 in zip(group_labels,group_counts,group_percentages)]\n",
    "  box_labels = np.asarray(box_labels).reshape(cf_matrix.shape[0],cf_matrix.shape[1])\n",
    "\n",
    "\n",
    "  # add more statistics\n",
    "  accuracy  = np.trace(cf_matrix) / float(np.sum(cf_matrix))\n",
    "  precision = cf_matrix[1,1] / sum(cf_matrix[:,1])\n",
    "  recall    = cf_matrix[1,1] / sum(cf_matrix[1,:])\n",
    "  f1_score  = 2*precision*recall / (precision + recall)\n",
    "  stats_text = \"\\n\\nAccuracy={:0.3f}\\nPrecision={:0.3f}\\nRecall={:0.3f}\\nF1 Score={:0.3f}\".format(\n",
    "      accuracy,precision,recall,f1_score)\n",
    "\n",
    "\n",
    "  categories=[\"Survived\", \"Recidivated\"]\n",
    "  sns.heatmap(cf_matrix,annot=box_labels,fmt=\"\",cmap='Purples',xticklabels=categories,yticklabels=categories)\n",
    "\n",
    "  plt.ylabel('True label')\n",
    "  plt.xlabel('Predicted label' + stats_text)\n",
    "  plt.title(f\"Confusion matrix and statistics for the {model} model\");\n",
    "\n",
    "## defining function for displaying metrics of training and test data by sex \n",
    "def metrics_per_group(y_test, y_pred):\n",
    "\t# y true per group\n",
    "\ty_test_white = y_test.loc[y_test.index.get_level_values(2) == 1]\n",
    "\ty_test_black = y_test.loc[y_test.index.get_level_values(2) == 0]\n",
    "\n",
    "\t# y_pred per group\n",
    "\ty_pred_white = y_pred[y_test.index.get_level_values(2) == 1]\n",
    "\ty_pred_black = y_pred[y_test.index.get_level_values(2) == 0]\n",
    "\n",
    "\t# metrics\n",
    "\tscores = []\n",
    "\tscores.append(accuracy_score(y_test, y_pred))\n",
    "\tscores.append(recall_score(y_test, y_pred))\n",
    "\tscores.append(precision_score(y_test, y_pred))\n",
    "\n",
    "\tscores.append(accuracy_score(y_test_black, y_pred_black))\n",
    "\tscores.append(recall_score(y_test_black, y_pred_black))\n",
    "\tscores.append(precision_score(y_test_black, y_pred_black))\n",
    "\n",
    "\tscores.append(accuracy_score(y_test_white, y_pred_white))\n",
    "\tscores.append(recall_score(y_test_white, y_pred_white))\n",
    "\tscores.append(precision_score(y_test_white, y_pred_white))\n",
    "\n",
    "\tattribute = [\"all\"]*3 + [\"black\"] *3 + [\"white\"] *3\n",
    "\tmetric = [\"accuracy\", \"recall\", \"precision\"] * 3\n",
    "\t  \n",
    "\t# dictionary of lists \n",
    "\tdict = {'race': attribute, 'metrics': metric, 'score': scores} \n",
    "\t    \n",
    "\tdf = pd.DataFrame(dict)\n",
    "\n",
    "\tsns.barplot(x = \"metrics\", y = \"score\", hue = \"race\", data = df, palette = ['#dfcd1a', '#9d0677', '#236c48'])\n",
    "\tplt.title(\"Performance metrics by groups\")\n",
    " \n",
    "\n",
    "def plot_fair_metrics(fair_metrics_mitigated, model): \n",
    "  cols = ['statistical_parity_difference', 'equal_opportunity_difference', 'generalized_entropy']\n",
    "  obj_fairness = [[0,0,1]]\n",
    "\n",
    "  # row for objectives    \n",
    "  fair_metrics = pd.DataFrame(data=obj_fairness, index=['objective'], columns=cols)\n",
    "      \n",
    "  # row for baseline model\n",
    "  fair_metrics.loc['Baseline Model'] = [stat_par_diff, eq_opp_diff, gen_entr_error]\n",
    "\n",
    "  # row for mitigated bias\n",
    "  fair_metrics.loc[model] = fair_metrics_mitigated\n",
    "\n",
    "\n",
    "  metrics_len = len(cols)\n",
    "\n",
    "\n",
    "  fig, ax = plt.subplots(figsize=(20,4), ncols=metrics_len, nrows=1)\n",
    "\n",
    "  plt.subplots_adjust(\n",
    "      left    =  0.125, \n",
    "      bottom  =  0.1, \n",
    "      right   =  0.9, \n",
    "      top     =  0.9, \n",
    "      wspace  =  .5, \n",
    "      hspace  =  1.1\n",
    "  )\n",
    "\n",
    "  y_title_margin = 1.2\n",
    "\n",
    "  plt.suptitle(\"Fairness metrics\", y = 1.09, fontsize=20)\n",
    "  sns.set(style=\"dark\")\n",
    "\n",
    "  cols = fair_metrics.columns.values\n",
    "  obj = fair_metrics.loc['objective']\n",
    "  size_rect = [0.2,0.2,0.2,0.4,0.25]\n",
    "  rect = [-0.1,-0.1,-0.1,0.8,0]\n",
    "  bottom = [-1,-1,-1,0,0]\n",
    "  top = [1,1,1,2,1]\n",
    "  bound = [[-0.1,0.1],[-0.1,0.1],[-0.1,0.1],[0.8,1.2],[0,0.25]]\n",
    "\n",
    "  for i in range(0,metrics_len):\n",
    "      plt.subplot(1, metrics_len, i+1)\n",
    "      ax = sns.barplot(x=fair_metrics.index[1:len(fair_metrics)], y=fair_metrics.iloc[1:len(fair_metrics)][cols[i]])\n",
    "      \n",
    "      for j in range(0,len(fair_metrics)-1):\n",
    "          a, val = ax.patches[j], fair_metrics.iloc[j+1][cols[i]]\n",
    "          marg = -0.2 if val < 0 else 0.1\n",
    "          ax.text(a.get_x()+a.get_width()/5, a.get_y()+a.get_height()+marg, round(val, 3), fontsize=15,color='black')\n",
    "\n",
    "      plt.ylim(bottom[i], top[i])\n",
    "      plt.setp(ax.patches, linewidth=0)\n",
    "      ax.add_patch(patches.Rectangle((-5,rect[i]), 10, size_rect[i], alpha=0.3, facecolor=\"green\", linewidth=1, linestyle='solid'))\n",
    "      plt.axhline(obj[i], color='black', alpha=0.3)\n",
    "      plt.title(cols[i])\n",
    "      ax.set_ylabel('')    \n",
    "      ax.set_xlabel('')"
   ]
  },
  {
   "cell_type": "code",
   "execution_count": 8,
   "id": "fdd1af91",
   "metadata": {
    "scrolled": true
   },
   "outputs": [],
   "source": [
    "X_new.index = pd.MultiIndex.from_arrays(X_new.index.codes, names=X_new.index.names)\n",
    "y_new.index = pd.MultiIndex.from_arrays(y_new.index.codes, names=y_new.index.names)\n",
    "# 0 is Male, 1 is Female\n",
    "# 0 is African American, 1 is Caucasian"
   ]
  },
  {
   "cell_type": "code",
   "execution_count": 9,
   "id": "e2e7e664",
   "metadata": {},
   "outputs": [],
   "source": [
    "# set target class to 0/1 -- not sure what this line does\n",
    "y_new = pd.Series(y_new.factorize(sort=True)[0], index=y_new.index)"
   ]
  },
  {
   "cell_type": "markdown",
   "id": "dcee5c82",
   "metadata": {},
   "source": [
    "# Exploratory Data Analysis"
   ]
  },
  {
   "cell_type": "code",
   "execution_count": 10,
   "id": "9c4a228e",
   "metadata": {},
   "outputs": [],
   "source": [
    "## need to figure out how to keep other race categories from showing up \n",
    "df_viz = X_new.copy()\n",
    "df_viz['race'] = X_new['race'].replace({1.0: 'Caucasian', 0.0: 'African-American'})\n",
    "df_viz['two_year_recid'] = y_new.replace({1:'Recidivated', 0: 'Survived'})\n",
    "df_viz.index = df_viz.index.droplevel('race')\n",
    "\n",
    "purple = '#9d0677'\n",
    "green = '#30875c'\n",
    "workshop_palette = [purple, green]"
   ]
  },
  {
   "cell_type": "code",
   "execution_count": 11,
   "id": "a3330bd6",
   "metadata": {},
   "outputs": [
    {
     "data": {
      "text/plain": [
       "<AxesSubplot:xlabel='two_year_recid', ylabel='count'>"
      ]
     },
     "execution_count": 11,
     "metadata": {},
     "output_type": "execute_result"
    },
    {
     "data": {
      "image/png": "[encoded data removed]",
      "text/plain": [
       "<Figure size 432x288 with 1 Axes>"
      ]
     },
     "metadata": {
      "needs_background": "light"
     },
     "output_type": "display_data"
    }
   ],
   "source": [
    "# barplot of recividism\n",
    "sns.countplot(x='two_year_recid', data=df_viz, palette=workshop_palette)"
   ]
  },
  {
   "cell_type": "code",
   "execution_count": 12,
   "id": "53aac05d",
   "metadata": {},
   "outputs": [
    {
     "data": {
      "text/plain": [
       "<AxesSubplot:xlabel='count', ylabel='race'>"
      ]
     },
     "execution_count": 12,
     "metadata": {},
     "output_type": "execute_result"
    },
    {
     "data": {
      "image/png": "[encoded data removed]",
      "text/plain": [
       "<Figure size 432x288 with 1 Axes>"
      ]
     },
     "metadata": {
      "needs_background": "light"
     },
     "output_type": "display_data"
    }
   ],
   "source": [
    "# barplot of race\n",
    "sns.countplot(y=\"race\", data=df_viz, palette=[\"#30875c\"])"
   ]
  },
  {
   "cell_type": "code",
   "execution_count": 13,
   "id": "7cceb19c",
   "metadata": {},
   "outputs": [
    {
     "name": "stdout",
     "output_type": "stream",
     "text": [
      "race\n",
      "African-American    29.0\n",
      "Caucasian           35.0\n",
      "Name: age, dtype: float64\n"
     ]
    },
    {
     "data": {
      "image/png": "[encoded data removed]",
      "text/plain": [
       "<Figure size 432x288 with 1 Axes>"
      ]
     },
     "metadata": {
      "needs_background": "light"
     },
     "output_type": "display_data"
    }
   ],
   "source": [
    "# age distribution by race\n",
    "ax = sns.kdeplot(x=\"age\", hue=\"race\", data=df_viz);\n",
    "kdeline = ax.lines[0]\n",
    "mean_fem = df_viz.groupby('race').age.median()[0]\n",
    "xs = kdeline.get_xdata()\n",
    "ys = kdeline.get_ydata()\n",
    "height_fem = np.interp(mean_fem, xs, ys)\n",
    "ax.vlines(mean_fem, 0, height_fem, color=purple, ls=':')\n",
    "\n",
    "mean_m = df_viz.groupby('race').age.median()[1]\n",
    "height_m = np.interp(mean_m, xs, ys)\n",
    "ax.vlines(mean_m, 0, height_m, color=green, ls=':')\n",
    "\n",
    "\n",
    "print(df_viz.groupby('race').age.median())"
   ]
  },
  {
   "cell_type": "code",
   "execution_count": 14,
   "id": "c72dd6dd",
   "metadata": {},
   "outputs": [
    {
     "data": {
      "image/png": "[encoded data removed]",
      "text/plain": [
       "<Figure size 432x288 with 1 Axes>"
      ]
     },
     "metadata": {
      "needs_background": "light"
     },
     "output_type": "display_data"
    }
   ],
   "source": [
    "# recividism by race\n",
    "by_sex = sns.countplot(x=\"race\", hue=\"two_year_recid\", data=df_viz, palette=workshop_palette)\n",
    "\n",
    "plt.title('Two Year Recividism by Race')\n",
    "plt.show()"
   ]
  },
  {
   "cell_type": "code",
   "execution_count": null,
   "id": "7b6f314b",
   "metadata": {},
   "outputs": [],
   "source": []
  }
 ],
 "metadata": {
  "kernelspec": {
   "display_name": "Python 3 (ipykernel)",
   "language": "python",
   "name": "python3"
  },
  "language_info": {
   "codemirror_mode": {
    "name": "ipython",
    "version": 3
   },
   "file_extension": ".py",
   "mimetype": "text/x-python",
   "name": "python",
   "nbconvert_exporter": "python",
   "pygments_lexer": "ipython3",
   "version": "3.7.11"
  }
 },
 "nbformat": 4,
 "nbformat_minor": 5
}
