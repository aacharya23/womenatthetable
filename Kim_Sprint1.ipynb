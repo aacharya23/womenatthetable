{
 "cells": [
  {
   "cell_type": "code",
   "execution_count": 2,
   "id": "01adc2d3",
   "metadata": {
    "scrolled": true
   },
   "outputs": [],
   "source": [
    "%matplotlib inline\n",
    "import matplotlib.pyplot as plt\n",
    "import matplotlib.patches as patches\n",
    "import numpy as np\n",
    "import pandas as pd\n",
    "import seaborn as sns\n",
    "import aif360 as aif360"
   ]
  },
  {
   "cell_type": "code",
   "execution_count": 3,
   "id": "6a42e106",
   "metadata": {},
   "outputs": [],
   "source": [
    "from sklearn.compose import make_column_transformer\n",
    "from sklearn.linear_model import LogisticRegression\n",
    "from sklearn.metrics import accuracy_score, confusion_matrix, plot_roc_curve, recall_score, precision_score\n",
    "\n",
    "from sklearn.model_selection import GridSearchCV, train_test_split\n",
    "from sklearn.preprocessing import OneHotEncoder\n",
    "\n",
    "from aif360.datasets import BinaryLabelDataset\n",
    "from aif360.algorithms.inprocessing import MetaFairClassifier\n",
    "\n",
    "from IPython.display import Markdown, display\n",
    "\n",
    "# Having trouble with this part? ModuleNotFoundError for aif360.sklearn\n",
    "from aif360.sklearn.preprocessing import ReweighingMeta\n",
    "from aif360.sklearn.inprocessing import AdversarialDebiasing\n",
    "from aif360.sklearn.postprocessing import CalibratedEqualizedOdds, PostProcessingMeta\n",
    "from aif360.sklearn.datasets import fetch_compas\n",
    "from aif360.sklearn.metrics import disparate_impact_ratio, average_odds_error, generalized_fpr, average_odds_difference\n",
    "from aif360.sklearn.metrics import generalized_fnr, difference, statistical_parity_difference, equal_opportunity_difference, generalized_entropy_error\n",
    "\n",
    "from IPython.display import Markdown, display"
   ]
  },
  {
   "cell_type": "code",
   "execution_count": 4,
   "id": "3a283506",
   "metadata": {
    "scrolled": true
   },
   "outputs": [],
   "source": [
    "#@title Confusion matrix and Visualisation plots\n",
    "\n",
    "# Function for visualising the confusion matrix and other statistics\n",
    "# https://github.com/DTrimarchi10/confusion_matrix/blob/master/cf_matrix.py\n",
    "\n",
    "def make_confusion_matrix(cf_matrix, model):\n",
    "  group_names = [\"True Negative\",\"False Positive\",\"False Negative\",\"True Positive\"]\n",
    "  group_counts = [\"{0:0.0f}\".format(value) for value in\n",
    "                  cf_matrix.flatten()]\n",
    "  group_percentages = [\"{0:.2%}\".format(value) for value in\n",
    "                      cf_matrix.flatten()/np.sum(cf_matrix)]\n",
    "\n",
    "  group_labels = [\"{}\\n\".format(value) for value in group_names]\n",
    "  group_counts = [\"{0:0.0f}\\n\".format(value) for value in cf_matrix.flatten()]\n",
    "  group_percentages = [\"{0:.2%}\".format(value) for value in cf_matrix.flatten()/np.sum(cf_matrix)]\n",
    "\n",
    "  box_labels = [f\"{v1}{v2}{v3}\".strip() for v1, v2, v3 in zip(group_labels,group_counts,group_percentages)]\n",
    "  box_labels = np.asarray(box_labels).reshape(cf_matrix.shape[0],cf_matrix.shape[1])\n",
    "\n",
    "\n",
    "  # add more statistics\n",
    "  accuracy  = np.trace(cf_matrix) / float(np.sum(cf_matrix))\n",
    "  precision = cf_matrix[1,1] / sum(cf_matrix[:,1])\n",
    "  recall    = cf_matrix[1,1] / sum(cf_matrix[1,:])\n",
    "  f1_score  = 2*precision*recall / (precision + recall)\n",
    "  stats_text = \"\\n\\nAccuracy={:0.3f}\\nPrecision={:0.3f}\\nRecall={:0.3f}\\nF1 Score={:0.3f}\".format(\n",
    "      accuracy,precision,recall,f1_score)\n",
    "\n",
    "\n",
    "  categories=[\"Bad creadit\", \"Good credit\"]\n",
    "  sns.heatmap(cf_matrix,annot=box_labels,fmt=\"\",cmap='Purples',xticklabels=categories,yticklabels=categories)\n",
    "\n",
    "  plt.ylabel('True label')\n",
    "  plt.xlabel('Predicted label' + stats_text)\n",
    "  plt.title(f\"Confusion matrix and statistics for the {model} model\");\n",
    "\n",
    "def metrics_per_group(y_test, y_pred):\n",
    "\t# y true per group\n",
    "\ty_test_male = y_test.loc[y_test.index.get_level_values(1) == 1]\n",
    "\ty_test_female = y_test.loc[y_test.index.get_level_values(1) == 0]\n",
    "\n",
    "\t# y_pred per group\n",
    "\ty_pred_male = y_pred[y_test.index.get_level_values(1) == 1]\n",
    "\ty_pred_female = y_pred[y_test.index.get_level_values(1) == 0]\n",
    "\n",
    "\t# metrics\n",
    "\tscores = []\n",
    "\tscores.append(accuracy_score(y_test, y_pred))\n",
    "\tscores.append(recall_score(y_test, y_pred))\n",
    "\tscores.append(precision_score(y_test, y_pred))\n",
    "\n",
    "\tscores.append(accuracy_score(y_test_female, y_pred_female))\n",
    "\tscores.append(recall_score(y_test_female, y_pred_female))\n",
    "\tscores.append(precision_score(y_test_female, y_pred_female))\n",
    "\n",
    "\tscores.append(accuracy_score(y_test_male, y_pred_male))\n",
    "\tscores.append(recall_score(y_test_male, y_pred_male))\n",
    "\tscores.append(precision_score(y_test_male, y_pred_male))\n",
    "\n",
    "\tattribute = [\"all\"]*3 + [\"female\"] *3 + [\"male\"] *3\n",
    "\tmetric = [\"accuracy\", \"recall\", \"precision\"] * 3\n",
    "\t  \n",
    "\t# dictionary of lists \n",
    "\tdict = {'gender': attribute, 'metrics': metric, 'score': scores} \n",
    "\t    \n",
    "\tdf = pd.DataFrame(dict)\n",
    "\n",
    "\tsns.barplot(x = \"metrics\", y = \"score\", hue = \"gender\", data = df, palette = ['#dfcd1a', '#9d0677', '#236c48'])\n",
    "\tplt.title(\"Performance metrics by groups\")\n",
    " \n",
    "\n",
    "def plot_fair_metrics(fair_metrics_mitigated, model): \n",
    "  cols = ['statistical_parity_difference', 'equal_opportunity_difference', 'generalized_entropy']\n",
    "  obj_fairness = [[0,0,1]]\n",
    "\n",
    "  # row for objectives    \n",
    "  fair_metrics = pd.DataFrame(data=obj_fairness, index=['objective'], columns=cols)\n",
    "      \n",
    "  # row for baseline model\n",
    "  fair_metrics.loc['Baseline Model'] = [stat_par_diff, eq_opp_diff, gen_entr_error]\n",
    "\n",
    "  # row for mitigated bias\n",
    "  fair_metrics.loc[model] = fair_metrics_mitigated\n",
    "\n",
    "\n",
    "  metrics_len = len(cols)\n",
    "\n",
    "\n",
    "  fig, ax = plt.subplots(figsize=(20,4), ncols=metrics_len, nrows=1)\n",
    "\n",
    "  plt.subplots_adjust(\n",
    "      left    =  0.125, \n",
    "      bottom  =  0.1, \n",
    "      right   =  0.9, \n",
    "      top     =  0.9, \n",
    "      wspace  =  .5, \n",
    "      hspace  =  1.1\n",
    "  )\n",
    "\n",
    "  y_title_margin = 1.2\n",
    "\n",
    "  plt.suptitle(\"Fairness metrics\", y = 1.09, fontsize=20)\n",
    "  sns.set(style=\"dark\")\n",
    "\n",
    "  cols = fair_metrics.columns.values\n",
    "  obj = fair_metrics.loc['objective']\n",
    "  size_rect = [0.2,0.2,0.2,0.4,0.25]\n",
    "  rect = [-0.1,-0.1,-0.1,0.8,0]\n",
    "  bottom = [-1,-1,-1,0,0]\n",
    "  top = [1,1,1,2,1]\n",
    "  bound = [[-0.1,0.1],[-0.1,0.1],[-0.1,0.1],[0.8,1.2],[0,0.25]]\n",
    "\n",
    "  for i in range(0,metrics_len):\n",
    "      plt.subplot(1, metrics_len, i+1)\n",
    "      ax = sns.barplot(x=fair_metrics.index[1:len(fair_metrics)], y=fair_metrics.iloc[1:len(fair_metrics)][cols[i]])\n",
    "      \n",
    "      for j in range(0,len(fair_metrics)-1):\n",
    "          a, val = ax.patches[j], fair_metrics.iloc[j+1][cols[i]]\n",
    "          marg = -0.2 if val < 0 else 0.1\n",
    "          ax.text(a.get_x()+a.get_width()/5, a.get_y()+a.get_height()+marg, round(val, 3), fontsize=15,color='black')\n",
    "\n",
    "      plt.ylim(bottom[i], top[i])\n",
    "      plt.setp(ax.patches, linewidth=0)\n",
    "      ax.add_patch(patches.Rectangle((-5,rect[i]), 10, size_rect[i], alpha=0.3, facecolor=\"green\", linewidth=1, linestyle='solid'))\n",
    "      plt.axhline(obj[i], color='black', alpha=0.3)\n",
    "      plt.title(cols[i])\n",
    "      ax.set_ylabel('')    \n",
    "      ax.set_xlabel('')"
   ]
  },
  {
   "cell_type": "markdown",
   "id": "9d7995cd",
   "metadata": {},
   "source": [
    "## Exploratory Data Analysis\n",
    "\n",
    "Using code from the AI & Equity Human Rights Toolbox code."
   ]
  },
  {
   "cell_type": "code",
   "execution_count": 5,
   "id": "b3e63b84",
   "metadata": {},
   "outputs": [
    {
     "name": "stdout",
     "output_type": "stream",
     "text": [
      "There are 6167 entries and 10 features\n"
     ]
    },
    {
     "data": {
      "text/html": [
       "<div>\n",
       "<style scoped>\n",
       "    .dataframe tbody tr th:only-of-type {\n",
       "        vertical-align: middle;\n",
       "    }\n",
       "\n",
       "    .dataframe tbody tr th {\n",
       "        vertical-align: top;\n",
       "    }\n",
       "\n",
       "    .dataframe thead th {\n",
       "        text-align: right;\n",
       "    }\n",
       "</style>\n",
       "<table border=\"1\" class=\"dataframe\">\n",
       "  <thead>\n",
       "    <tr style=\"text-align: right;\">\n",
       "      <th></th>\n",
       "      <th></th>\n",
       "      <th></th>\n",
       "      <th>sex</th>\n",
       "      <th>age</th>\n",
       "      <th>age_cat</th>\n",
       "      <th>race</th>\n",
       "      <th>juv_fel_count</th>\n",
       "      <th>juv_misd_count</th>\n",
       "      <th>juv_other_count</th>\n",
       "      <th>priors_count</th>\n",
       "      <th>c_charge_degree</th>\n",
       "      <th>c_charge_desc</th>\n",
       "    </tr>\n",
       "    <tr>\n",
       "      <th>id</th>\n",
       "      <th>sex</th>\n",
       "      <th>race</th>\n",
       "      <th></th>\n",
       "      <th></th>\n",
       "      <th></th>\n",
       "      <th></th>\n",
       "      <th></th>\n",
       "      <th></th>\n",
       "      <th></th>\n",
       "      <th></th>\n",
       "      <th></th>\n",
       "      <th></th>\n",
       "    </tr>\n",
       "  </thead>\n",
       "  <tbody>\n",
       "    <tr>\n",
       "      <th>1</th>\n",
       "      <th>Male</th>\n",
       "      <th>Other</th>\n",
       "      <td>Male</td>\n",
       "      <td>69</td>\n",
       "      <td>Greater than 45</td>\n",
       "      <td>Other</td>\n",
       "      <td>0</td>\n",
       "      <td>0</td>\n",
       "      <td>0</td>\n",
       "      <td>0</td>\n",
       "      <td>F</td>\n",
       "      <td>Aggravated Assault w/Firearm</td>\n",
       "    </tr>\n",
       "    <tr>\n",
       "      <th>3</th>\n",
       "      <th>Male</th>\n",
       "      <th>African-American</th>\n",
       "      <td>Male</td>\n",
       "      <td>34</td>\n",
       "      <td>25 - 45</td>\n",
       "      <td>African-American</td>\n",
       "      <td>0</td>\n",
       "      <td>0</td>\n",
       "      <td>0</td>\n",
       "      <td>0</td>\n",
       "      <td>F</td>\n",
       "      <td>Felony Battery w/Prior Convict</td>\n",
       "    </tr>\n",
       "    <tr>\n",
       "      <th>4</th>\n",
       "      <th>Male</th>\n",
       "      <th>African-American</th>\n",
       "      <td>Male</td>\n",
       "      <td>24</td>\n",
       "      <td>Less than 25</td>\n",
       "      <td>African-American</td>\n",
       "      <td>0</td>\n",
       "      <td>0</td>\n",
       "      <td>1</td>\n",
       "      <td>4</td>\n",
       "      <td>F</td>\n",
       "      <td>Possession of Cocaine</td>\n",
       "    </tr>\n",
       "    <tr>\n",
       "      <th>7</th>\n",
       "      <th>Male</th>\n",
       "      <th>Other</th>\n",
       "      <td>Male</td>\n",
       "      <td>44</td>\n",
       "      <td>25 - 45</td>\n",
       "      <td>Other</td>\n",
       "      <td>0</td>\n",
       "      <td>0</td>\n",
       "      <td>0</td>\n",
       "      <td>0</td>\n",
       "      <td>M</td>\n",
       "      <td>Battery</td>\n",
       "    </tr>\n",
       "    <tr>\n",
       "      <th>8</th>\n",
       "      <th>Male</th>\n",
       "      <th>Caucasian</th>\n",
       "      <td>Male</td>\n",
       "      <td>41</td>\n",
       "      <td>25 - 45</td>\n",
       "      <td>Caucasian</td>\n",
       "      <td>0</td>\n",
       "      <td>0</td>\n",
       "      <td>0</td>\n",
       "      <td>14</td>\n",
       "      <td>F</td>\n",
       "      <td>Possession Burglary Tools</td>\n",
       "    </tr>\n",
       "  </tbody>\n",
       "</table>\n",
       "</div>"
      ],
      "text/plain": [
       "                           sex  age          age_cat              race  \\\n",
       "id sex  race                                                             \n",
       "1  Male Other             Male   69  Greater than 45             Other   \n",
       "3  Male African-American  Male   34          25 - 45  African-American   \n",
       "4  Male African-American  Male   24     Less than 25  African-American   \n",
       "7  Male Other             Male   44          25 - 45             Other   \n",
       "8  Male Caucasian         Male   41          25 - 45         Caucasian   \n",
       "\n",
       "                          juv_fel_count  juv_misd_count  juv_other_count  \\\n",
       "id sex  race                                                               \n",
       "1  Male Other                         0               0                0   \n",
       "3  Male African-American              0               0                0   \n",
       "4  Male African-American              0               0                1   \n",
       "7  Male Other                         0               0                0   \n",
       "8  Male Caucasian                     0               0                0   \n",
       "\n",
       "                          priors_count c_charge_degree  \\\n",
       "id sex  race                                             \n",
       "1  Male Other                        0               F   \n",
       "3  Male African-American             0               F   \n",
       "4  Male African-American             4               F   \n",
       "7  Male Other                        0               M   \n",
       "8  Male Caucasian                   14               F   \n",
       "\n",
       "                                           c_charge_desc  \n",
       "id sex  race                                              \n",
       "1  Male Other               Aggravated Assault w/Firearm  \n",
       "3  Male African-American  Felony Battery w/Prior Convict  \n",
       "4  Male African-American           Possession of Cocaine  \n",
       "7  Male Other                                    Battery  \n",
       "8  Male Caucasian              Possession Burglary Tools  "
      ]
     },
     "execution_count": 5,
     "metadata": {},
     "output_type": "execute_result"
    }
   ],
   "source": [
    "X, y = fetch_compas()\n",
    "print(f'There are {X.shape[0]} entries and {X.shape[1]} features')\n",
    "X.head()"
   ]
  },
  {
   "cell_type": "code",
   "execution_count": 6,
   "id": "a997e38f",
   "metadata": {},
   "outputs": [],
   "source": [
    "X.index = pd.MultiIndex.from_arrays(X.index.codes, names=X.index.names)\n",
    "y.index = pd.MultiIndex.from_arrays(y.index.codes, names=y.index.names)"
   ]
  },
  {
   "cell_type": "code",
   "execution_count": 7,
   "id": "a9a6a10d",
   "metadata": {},
   "outputs": [],
   "source": [
    "# set target class to 0/1\n",
    "y = pd.Series(y.factorize(sort=True)[0], index=y.index)"
   ]
  },
  {
   "cell_type": "code",
   "execution_count": 8,
   "id": "2cd0046c",
   "metadata": {},
   "outputs": [
    {
     "data": {
      "text/html": [
       "<div>\n",
       "<style scoped>\n",
       "    .dataframe tbody tr th:only-of-type {\n",
       "        vertical-align: middle;\n",
       "    }\n",
       "\n",
       "    .dataframe tbody tr th {\n",
       "        vertical-align: top;\n",
       "    }\n",
       "\n",
       "    .dataframe thead th {\n",
       "        text-align: right;\n",
       "    }\n",
       "</style>\n",
       "<table border=\"1\" class=\"dataframe\">\n",
       "  <thead>\n",
       "    <tr style=\"text-align: right;\">\n",
       "      <th></th>\n",
       "      <th></th>\n",
       "      <th></th>\n",
       "      <th>age</th>\n",
       "      <th>juv_fel_count</th>\n",
       "      <th>juv_misd_count</th>\n",
       "      <th>juv_other_count</th>\n",
       "      <th>priors_count</th>\n",
       "      <th>sex_Male</th>\n",
       "      <th>sex_Female</th>\n",
       "      <th>age_cat_25 - 45</th>\n",
       "      <th>age_cat_Greater than 45</th>\n",
       "      <th>age_cat_Less than 25</th>\n",
       "      <th>...</th>\n",
       "      <th>c_charge_desc_Video Voyeur-&lt;24Y on Child &gt;16</th>\n",
       "      <th>c_charge_desc_Viol Injunct Domestic Violence</th>\n",
       "      <th>c_charge_desc_Viol Injunction Protect Dom Vi</th>\n",
       "      <th>c_charge_desc_Viol Pretrial Release Dom Viol</th>\n",
       "      <th>c_charge_desc_Viol Prot Injunc Repeat Viol</th>\n",
       "      <th>c_charge_desc_Violation License Restrictions</th>\n",
       "      <th>c_charge_desc_Violation Of Boater Safety Id</th>\n",
       "      <th>c_charge_desc_Violation of Injunction Order/Stalking/Cyberstalking</th>\n",
       "      <th>c_charge_desc_Voyeurism</th>\n",
       "      <th>c_charge_desc_arrest case no charge</th>\n",
       "    </tr>\n",
       "    <tr>\n",
       "      <th>id</th>\n",
       "      <th>sex</th>\n",
       "      <th>race</th>\n",
       "      <th></th>\n",
       "      <th></th>\n",
       "      <th></th>\n",
       "      <th></th>\n",
       "      <th></th>\n",
       "      <th></th>\n",
       "      <th></th>\n",
       "      <th></th>\n",
       "      <th></th>\n",
       "      <th></th>\n",
       "      <th></th>\n",
       "      <th></th>\n",
       "      <th></th>\n",
       "      <th></th>\n",
       "      <th></th>\n",
       "      <th></th>\n",
       "      <th></th>\n",
       "      <th></th>\n",
       "      <th></th>\n",
       "      <th></th>\n",
       "      <th></th>\n",
       "    </tr>\n",
       "  </thead>\n",
       "  <tbody>\n",
       "    <tr>\n",
       "      <th>0</th>\n",
       "      <th>0</th>\n",
       "      <th>5</th>\n",
       "      <td>69</td>\n",
       "      <td>0</td>\n",
       "      <td>0</td>\n",
       "      <td>0</td>\n",
       "      <td>0</td>\n",
       "      <td>1</td>\n",
       "      <td>0</td>\n",
       "      <td>0</td>\n",
       "      <td>1</td>\n",
       "      <td>0</td>\n",
       "      <td>...</td>\n",
       "      <td>0</td>\n",
       "      <td>0</td>\n",
       "      <td>0</td>\n",
       "      <td>0</td>\n",
       "      <td>0</td>\n",
       "      <td>0</td>\n",
       "      <td>0</td>\n",
       "      <td>0</td>\n",
       "      <td>0</td>\n",
       "      <td>0</td>\n",
       "    </tr>\n",
       "    <tr>\n",
       "      <th>1</th>\n",
       "      <th>0</th>\n",
       "      <th>0</th>\n",
       "      <td>34</td>\n",
       "      <td>0</td>\n",
       "      <td>0</td>\n",
       "      <td>0</td>\n",
       "      <td>0</td>\n",
       "      <td>1</td>\n",
       "      <td>0</td>\n",
       "      <td>1</td>\n",
       "      <td>0</td>\n",
       "      <td>0</td>\n",
       "      <td>...</td>\n",
       "      <td>0</td>\n",
       "      <td>0</td>\n",
       "      <td>0</td>\n",
       "      <td>0</td>\n",
       "      <td>0</td>\n",
       "      <td>0</td>\n",
       "      <td>0</td>\n",
       "      <td>0</td>\n",
       "      <td>0</td>\n",
       "      <td>0</td>\n",
       "    </tr>\n",
       "    <tr>\n",
       "      <th>2</th>\n",
       "      <th>0</th>\n",
       "      <th>0</th>\n",
       "      <td>24</td>\n",
       "      <td>0</td>\n",
       "      <td>0</td>\n",
       "      <td>1</td>\n",
       "      <td>4</td>\n",
       "      <td>1</td>\n",
       "      <td>0</td>\n",
       "      <td>0</td>\n",
       "      <td>0</td>\n",
       "      <td>1</td>\n",
       "      <td>...</td>\n",
       "      <td>0</td>\n",
       "      <td>0</td>\n",
       "      <td>0</td>\n",
       "      <td>0</td>\n",
       "      <td>0</td>\n",
       "      <td>0</td>\n",
       "      <td>0</td>\n",
       "      <td>0</td>\n",
       "      <td>0</td>\n",
       "      <td>0</td>\n",
       "    </tr>\n",
       "    <tr>\n",
       "      <th>3</th>\n",
       "      <th>0</th>\n",
       "      <th>5</th>\n",
       "      <td>44</td>\n",
       "      <td>0</td>\n",
       "      <td>0</td>\n",
       "      <td>0</td>\n",
       "      <td>0</td>\n",
       "      <td>1</td>\n",
       "      <td>0</td>\n",
       "      <td>1</td>\n",
       "      <td>0</td>\n",
       "      <td>0</td>\n",
       "      <td>...</td>\n",
       "      <td>0</td>\n",
       "      <td>0</td>\n",
       "      <td>0</td>\n",
       "      <td>0</td>\n",
       "      <td>0</td>\n",
       "      <td>0</td>\n",
       "      <td>0</td>\n",
       "      <td>0</td>\n",
       "      <td>0</td>\n",
       "      <td>0</td>\n",
       "    </tr>\n",
       "    <tr>\n",
       "      <th>4</th>\n",
       "      <th>0</th>\n",
       "      <th>2</th>\n",
       "      <td>41</td>\n",
       "      <td>0</td>\n",
       "      <td>0</td>\n",
       "      <td>0</td>\n",
       "      <td>14</td>\n",
       "      <td>1</td>\n",
       "      <td>0</td>\n",
       "      <td>1</td>\n",
       "      <td>0</td>\n",
       "      <td>0</td>\n",
       "      <td>...</td>\n",
       "      <td>0</td>\n",
       "      <td>0</td>\n",
       "      <td>0</td>\n",
       "      <td>0</td>\n",
       "      <td>0</td>\n",
       "      <td>0</td>\n",
       "      <td>0</td>\n",
       "      <td>0</td>\n",
       "      <td>0</td>\n",
       "      <td>0</td>\n",
       "    </tr>\n",
       "  </tbody>\n",
       "</table>\n",
       "<p>5 rows × 407 columns</p>\n",
       "</div>"
      ],
      "text/plain": [
       "             age  juv_fel_count  juv_misd_count  juv_other_count  \\\n",
       "id sex race                                                        \n",
       "0  0   5      69              0               0                0   \n",
       "1  0   0      34              0               0                0   \n",
       "2  0   0      24              0               0                1   \n",
       "3  0   5      44              0               0                0   \n",
       "4  0   2      41              0               0                0   \n",
       "\n",
       "             priors_count  sex_Male  sex_Female  age_cat_25 - 45  \\\n",
       "id sex race                                                        \n",
       "0  0   5                0         1           0                0   \n",
       "1  0   0                0         1           0                1   \n",
       "2  0   0                4         1           0                0   \n",
       "3  0   5                0         1           0                1   \n",
       "4  0   2               14         1           0                1   \n",
       "\n",
       "             age_cat_Greater than 45  age_cat_Less than 25  ...  \\\n",
       "id sex race                                                 ...   \n",
       "0  0   5                           1                     0  ...   \n",
       "1  0   0                           0                     0  ...   \n",
       "2  0   0                           0                     1  ...   \n",
       "3  0   5                           0                     0  ...   \n",
       "4  0   2                           0                     0  ...   \n",
       "\n",
       "             c_charge_desc_Video Voyeur-<24Y on Child >16  \\\n",
       "id sex race                                                 \n",
       "0  0   5                                                0   \n",
       "1  0   0                                                0   \n",
       "2  0   0                                                0   \n",
       "3  0   5                                                0   \n",
       "4  0   2                                                0   \n",
       "\n",
       "             c_charge_desc_Viol Injunct Domestic Violence  \\\n",
       "id sex race                                                 \n",
       "0  0   5                                                0   \n",
       "1  0   0                                                0   \n",
       "2  0   0                                                0   \n",
       "3  0   5                                                0   \n",
       "4  0   2                                                0   \n",
       "\n",
       "             c_charge_desc_Viol Injunction Protect Dom Vi  \\\n",
       "id sex race                                                 \n",
       "0  0   5                                                0   \n",
       "1  0   0                                                0   \n",
       "2  0   0                                                0   \n",
       "3  0   5                                                0   \n",
       "4  0   2                                                0   \n",
       "\n",
       "             c_charge_desc_Viol Pretrial Release Dom Viol  \\\n",
       "id sex race                                                 \n",
       "0  0   5                                                0   \n",
       "1  0   0                                                0   \n",
       "2  0   0                                                0   \n",
       "3  0   5                                                0   \n",
       "4  0   2                                                0   \n",
       "\n",
       "             c_charge_desc_Viol Prot Injunc Repeat Viol  \\\n",
       "id sex race                                               \n",
       "0  0   5                                              0   \n",
       "1  0   0                                              0   \n",
       "2  0   0                                              0   \n",
       "3  0   5                                              0   \n",
       "4  0   2                                              0   \n",
       "\n",
       "             c_charge_desc_Violation License Restrictions  \\\n",
       "id sex race                                                 \n",
       "0  0   5                                                0   \n",
       "1  0   0                                                0   \n",
       "2  0   0                                                0   \n",
       "3  0   5                                                0   \n",
       "4  0   2                                                0   \n",
       "\n",
       "             c_charge_desc_Violation Of Boater Safety Id  \\\n",
       "id sex race                                                \n",
       "0  0   5                                               0   \n",
       "1  0   0                                               0   \n",
       "2  0   0                                               0   \n",
       "3  0   5                                               0   \n",
       "4  0   2                                               0   \n",
       "\n",
       "             c_charge_desc_Violation of Injunction Order/Stalking/Cyberstalking  \\\n",
       "id sex race                                                                       \n",
       "0  0   5                                                     0                    \n",
       "1  0   0                                                     0                    \n",
       "2  0   0                                                     0                    \n",
       "3  0   5                                                     0                    \n",
       "4  0   2                                                     0                    \n",
       "\n",
       "             c_charge_desc_Voyeurism  c_charge_desc_arrest case no charge  \n",
       "id sex race                                                                \n",
       "0  0   5                           0                                    0  \n",
       "1  0   0                           0                                    0  \n",
       "2  0   0                           0                                    0  \n",
       "3  0   5                           0                                    0  \n",
       "4  0   2                           0                                    0  \n",
       "\n",
       "[5 rows x 407 columns]"
      ]
     },
     "execution_count": 8,
     "metadata": {},
     "output_type": "execute_result"
    }
   ],
   "source": [
    "X_train, X_test, y_train, y_test = train_test_split(X, y, random_state=1234567)\n",
    "\n",
    "# one-hoy encode the categorical features\n",
    "data_preproc = make_column_transformer(\n",
    "        (OneHotEncoder(sparse=False, handle_unknown='ignore'), X_train.dtypes == 'category'))\n",
    "\n",
    "X_train = pd.DataFrame(data_preproc.fit_transform(X_train), index=X_train.index)\n",
    "X_test = pd.DataFrame(data_preproc.transform(X_test), index=X_test.index)\n",
    "\n",
    "# to save the information for the column names\n",
    "pd.get_dummies(X).head()"
   ]
  },
  {
   "cell_type": "code",
   "execution_count": 9,
   "id": "9728d6e6",
   "metadata": {},
   "outputs": [],
   "source": [
    "df_viz = X.copy()\n",
    "df_viz['sex'] = X['sex'].replace({1.0: 'Male', 0.0: 'Female'})\n",
    "df_viz['c_charge_degree'] = y.replace({1:'M', 0: 'F'})\n",
    "df_viz.index = df_viz.index.droplevel('sex')\n",
    "\n",
    "purple = '#9d0677'\n",
    "green = '#30875c'\n",
    "workshop_palette = [purple, green]"
   ]
  },
  {
   "cell_type": "code",
   "execution_count": 10,
   "id": "fee8ab29",
   "metadata": {},
   "outputs": [
    {
     "data": {
      "text/plain": [
       "<AxesSubplot:xlabel='c_charge_degree', ylabel='count'>"
      ]
     },
     "execution_count": 10,
     "metadata": {},
     "output_type": "execute_result"
    },
    {
     "data": {
      "image/png": "[encoded data removed]",
      "text/plain": [
       "<Figure size 432x288 with 1 Axes>"
      ]
     },
     "metadata": {
      "needs_background": "light"
     },
     "output_type": "display_data"
    }
   ],
   "source": [
    "sns.countplot(x='c_charge_degree', data=df_viz, palette=workshop_palette)"
   ]
  },
  {
   "cell_type": "code",
   "execution_count": 11,
   "id": "c2c7915a",
   "metadata": {},
   "outputs": [
    {
     "data": {
      "text/plain": [
       "<AxesSubplot:xlabel='count', ylabel='race'>"
      ]
     },
     "execution_count": 11,
     "metadata": {},
     "output_type": "execute_result"
    },
    {
     "data": {
      "image/png": "[encoded data removed]",
      "text/plain": [
       "<Figure size 432x288 with 1 Axes>"
      ]
     },
     "metadata": {
      "needs_background": "light"
     },
     "output_type": "display_data"
    }
   ],
   "source": [
    "sns.countplot(y = \"race\", data = df_viz, palette=[\"#30875c\"])"
   ]
  },
  {
   "cell_type": "markdown",
   "id": "1da75385",
   "metadata": {},
   "source": [
    "# Ethnicity and Gender"
   ]
  },
  {
   "cell_type": "code",
   "execution_count": 23,
   "id": "b940a376",
   "metadata": {},
   "outputs": [
    {
     "ename": "ValueError",
     "evalue": "'race' is both an index level and a column label, which is ambiguous.",
     "output_type": "error",
     "traceback": [
      "\u001b[1;31m---------------------------------------------------------------------------\u001b[0m",
      "\u001b[1;31mValueError\u001b[0m                                Traceback (most recent call last)",
      "\u001b[1;32m~\\AppData\\Local\\Temp/ipykernel_8808/1001860490.py\u001b[0m in \u001b[0;36m<module>\u001b[1;34m\u001b[0m\n\u001b[1;32m----> 1\u001b[1;33m occupation_counts = (df_viz.groupby(['sex', 'race'])\n\u001b[0m\u001b[0;32m      2\u001b[0m                      \u001b[1;33m.\u001b[0m\u001b[0mvalue_counts\u001b[0m\u001b[1;33m(\u001b[0m\u001b[0mnormalize\u001b[0m\u001b[1;33m=\u001b[0m\u001b[1;32mTrue\u001b[0m\u001b[1;33m)\u001b[0m\u001b[1;33m\u001b[0m\u001b[1;33m\u001b[0m\u001b[0m\n\u001b[0;32m      3\u001b[0m                      \u001b[1;33m.\u001b[0m\u001b[0mrename\u001b[0m\u001b[1;33m(\u001b[0m\u001b[1;34m'percentage'\u001b[0m\u001b[1;33m)\u001b[0m\u001b[1;33m\u001b[0m\u001b[1;33m\u001b[0m\u001b[0m\n\u001b[0;32m      4\u001b[0m                      \u001b[1;33m.\u001b[0m\u001b[0mmul\u001b[0m\u001b[1;33m(\u001b[0m\u001b[1;36m100\u001b[0m\u001b[1;33m)\u001b[0m\u001b[1;33m\u001b[0m\u001b[1;33m\u001b[0m\u001b[0m\n\u001b[0;32m      5\u001b[0m                      \u001b[1;33m.\u001b[0m\u001b[0mreset_index\u001b[0m\u001b[1;33m(\u001b[0m\u001b[1;33m)\u001b[0m\u001b[1;33m\u001b[0m\u001b[1;33m\u001b[0m\u001b[0m\n",
      "\u001b[1;32m~\\anaconda\\lib\\site-packages\\pandas\\core\\frame.py\u001b[0m in \u001b[0;36mgroupby\u001b[1;34m(self, by, axis, level, as_index, sort, group_keys, squeeze, observed, dropna)\u001b[0m\n\u001b[0;32m   7629\u001b[0m         \u001b[1;31m# error: Argument \"squeeze\" to \"DataFrameGroupBy\" has incompatible type\u001b[0m\u001b[1;33m\u001b[0m\u001b[1;33m\u001b[0m\u001b[0m\n\u001b[0;32m   7630\u001b[0m         \u001b[1;31m# \"Union[bool, NoDefault]\"; expected \"bool\"\u001b[0m\u001b[1;33m\u001b[0m\u001b[1;33m\u001b[0m\u001b[0m\n\u001b[1;32m-> 7631\u001b[1;33m         return DataFrameGroupBy(\n\u001b[0m\u001b[0;32m   7632\u001b[0m             \u001b[0mobj\u001b[0m\u001b[1;33m=\u001b[0m\u001b[0mself\u001b[0m\u001b[1;33m,\u001b[0m\u001b[1;33m\u001b[0m\u001b[1;33m\u001b[0m\u001b[0m\n\u001b[0;32m   7633\u001b[0m             \u001b[0mkeys\u001b[0m\u001b[1;33m=\u001b[0m\u001b[0mby\u001b[0m\u001b[1;33m,\u001b[0m\u001b[1;33m\u001b[0m\u001b[1;33m\u001b[0m\u001b[0m\n",
      "\u001b[1;32m~\\anaconda\\lib\\site-packages\\pandas\\core\\groupby\\groupby.py\u001b[0m in \u001b[0;36m__init__\u001b[1;34m(self, obj, keys, axis, level, grouper, exclusions, selection, as_index, sort, group_keys, squeeze, observed, mutated, dropna)\u001b[0m\n\u001b[0;32m    887\u001b[0m             \u001b[1;32mfrom\u001b[0m \u001b[0mpandas\u001b[0m\u001b[1;33m.\u001b[0m\u001b[0mcore\u001b[0m\u001b[1;33m.\u001b[0m\u001b[0mgroupby\u001b[0m\u001b[1;33m.\u001b[0m\u001b[0mgrouper\u001b[0m \u001b[1;32mimport\u001b[0m \u001b[0mget_grouper\u001b[0m\u001b[1;33m\u001b[0m\u001b[1;33m\u001b[0m\u001b[0m\n\u001b[0;32m    888\u001b[0m \u001b[1;33m\u001b[0m\u001b[0m\n\u001b[1;32m--> 889\u001b[1;33m             grouper, exclusions, obj = get_grouper(\n\u001b[0m\u001b[0;32m    890\u001b[0m                 \u001b[0mobj\u001b[0m\u001b[1;33m,\u001b[0m\u001b[1;33m\u001b[0m\u001b[1;33m\u001b[0m\u001b[0m\n\u001b[0;32m    891\u001b[0m                 \u001b[0mkeys\u001b[0m\u001b[1;33m,\u001b[0m\u001b[1;33m\u001b[0m\u001b[1;33m\u001b[0m\u001b[0m\n",
      "\u001b[1;32m~\\anaconda\\lib\\site-packages\\pandas\\core\\groupby\\grouper.py\u001b[0m in \u001b[0;36mget_grouper\u001b[1;34m(obj, key, axis, level, sort, observed, mutated, validate, dropna)\u001b[0m\n\u001b[0;32m    850\u001b[0m             \u001b[1;32mif\u001b[0m \u001b[0mgpr\u001b[0m \u001b[1;32min\u001b[0m \u001b[0mobj\u001b[0m\u001b[1;33m:\u001b[0m\u001b[1;33m\u001b[0m\u001b[1;33m\u001b[0m\u001b[0m\n\u001b[0;32m    851\u001b[0m                 \u001b[1;32mif\u001b[0m \u001b[0mvalidate\u001b[0m\u001b[1;33m:\u001b[0m\u001b[1;33m\u001b[0m\u001b[1;33m\u001b[0m\u001b[0m\n\u001b[1;32m--> 852\u001b[1;33m                     \u001b[0mobj\u001b[0m\u001b[1;33m.\u001b[0m\u001b[0m_check_label_or_level_ambiguity\u001b[0m\u001b[1;33m(\u001b[0m\u001b[0mgpr\u001b[0m\u001b[1;33m,\u001b[0m \u001b[0maxis\u001b[0m\u001b[1;33m=\u001b[0m\u001b[0maxis\u001b[0m\u001b[1;33m)\u001b[0m\u001b[1;33m\u001b[0m\u001b[1;33m\u001b[0m\u001b[0m\n\u001b[0m\u001b[0;32m    853\u001b[0m                 \u001b[0min_axis\u001b[0m\u001b[1;33m,\u001b[0m \u001b[0mname\u001b[0m\u001b[1;33m,\u001b[0m \u001b[0mgpr\u001b[0m \u001b[1;33m=\u001b[0m \u001b[1;32mTrue\u001b[0m\u001b[1;33m,\u001b[0m \u001b[0mgpr\u001b[0m\u001b[1;33m,\u001b[0m \u001b[0mobj\u001b[0m\u001b[1;33m[\u001b[0m\u001b[0mgpr\u001b[0m\u001b[1;33m]\u001b[0m\u001b[1;33m\u001b[0m\u001b[1;33m\u001b[0m\u001b[0m\n\u001b[0;32m    854\u001b[0m                 \u001b[1;32mif\u001b[0m \u001b[0mgpr\u001b[0m\u001b[1;33m.\u001b[0m\u001b[0mndim\u001b[0m \u001b[1;33m!=\u001b[0m \u001b[1;36m1\u001b[0m\u001b[1;33m:\u001b[0m\u001b[1;33m\u001b[0m\u001b[1;33m\u001b[0m\u001b[0m\n",
      "\u001b[1;32m~\\anaconda\\lib\\site-packages\\pandas\\core\\generic.py\u001b[0m in \u001b[0;36m_check_label_or_level_ambiguity\u001b[1;34m(self, key, axis)\u001b[0m\n\u001b[0;32m   1731\u001b[0m                 \u001b[1;34mf\"{label_article} {label_type} label, which is ambiguous.\"\u001b[0m\u001b[1;33m\u001b[0m\u001b[1;33m\u001b[0m\u001b[0m\n\u001b[0;32m   1732\u001b[0m             )\n\u001b[1;32m-> 1733\u001b[1;33m             \u001b[1;32mraise\u001b[0m \u001b[0mValueError\u001b[0m\u001b[1;33m(\u001b[0m\u001b[0mmsg\u001b[0m\u001b[1;33m)\u001b[0m\u001b[1;33m\u001b[0m\u001b[1;33m\u001b[0m\u001b[0m\n\u001b[0m\u001b[0;32m   1734\u001b[0m \u001b[1;33m\u001b[0m\u001b[0m\n\u001b[0;32m   1735\u001b[0m     \u001b[1;33m@\u001b[0m\u001b[0mfinal\u001b[0m\u001b[1;33m\u001b[0m\u001b[1;33m\u001b[0m\u001b[0m\n",
      "\u001b[1;31mValueError\u001b[0m: 'race' is both an index level and a column label, which is ambiguous."
     ]
    }
   ],
   "source": [
    "occupation_counts = (df_viz.groupby(['sex', 'race'])\n",
    "                     .value_counts(normalize=True)\n",
    "                     .rename('percentage')\n",
    "                     .mul(100)\n",
    "                     .reset_index()\n",
    "                     .sort_values('race'))\n",
    "p = sns.barplot(y=\"race\", x=\"percentage\", hue=\"sex\", data=occupation_counts, palette=workshop_palette)"
   ]
  },
  {
   "cell_type": "markdown",
   "id": "14fd25be",
   "metadata": {},
   "source": [
    "## Age Category Distribution by Sex"
   ]
  },
  {
   "cell_type": "code",
   "execution_count": 16,
   "id": "8487a021",
   "metadata": {},
   "outputs": [
    {
     "data": {
      "image/png": "[encoded data removed]",
      "text/plain": [
       "<Figure size 432x288 with 1 Axes>"
      ]
     },
     "metadata": {
      "needs_background": "light"
     },
     "output_type": "display_data"
    }
   ],
   "source": [
    "by_sex = sns.countplot(x=\"age_cat\", hue=\"sex\", data=df_viz, palette=workshop_palette)\n",
    "\n",
    "plt.title('Age Category Distribution by sex')\n",
    "plt.show()"
   ]
  },
  {
   "cell_type": "code",
   "execution_count": 12,
   "id": "b3decfb9",
   "metadata": {
    "scrolled": true
   },
   "outputs": [
    {
     "data": {
      "text/plain": [
       "<AxesSubplot:xlabel='age', ylabel='priors_count'>"
      ]
     },
     "execution_count": 12,
     "metadata": {},
     "output_type": "execute_result"
    },
    {
     "data": {
      "image/png": "[encoded data removed]",
      "text/plain": [
       "<Figure size 432x288 with 1 Axes>"
      ]
     },
     "metadata": {
      "needs_background": "light"
     },
     "output_type": "display_data"
    }
   ],
   "source": [
    "# Trying to make my own plot of race and age\n",
    "sns.scatterplot(data = df_viz, x = \"age\", y = \"priors_count\", hue = \"race\")"
   ]
  },
  {
   "cell_type": "markdown",
   "id": "705b08cc",
   "metadata": {},
   "source": [
    "# Metrics"
   ]
  },
  {
   "cell_type": "code",
   "execution_count": 18,
   "id": "23c34de5",
   "metadata": {
    "scrolled": true
   },
   "outputs": [
    {
     "data": {
      "text/html": [
       "<div>\n",
       "<style scoped>\n",
       "    .dataframe tbody tr th:only-of-type {\n",
       "        vertical-align: middle;\n",
       "    }\n",
       "\n",
       "    .dataframe tbody tr th {\n",
       "        vertical-align: top;\n",
       "    }\n",
       "\n",
       "    .dataframe thead th {\n",
       "        text-align: right;\n",
       "    }\n",
       "</style>\n",
       "<table border=\"1\" class=\"dataframe\">\n",
       "  <thead>\n",
       "    <tr style=\"text-align: right;\">\n",
       "      <th></th>\n",
       "      <th></th>\n",
       "      <th></th>\n",
       "      <th>age</th>\n",
       "      <th>juv_fel_count</th>\n",
       "      <th>juv_misd_count</th>\n",
       "      <th>juv_other_count</th>\n",
       "      <th>priors_count</th>\n",
       "      <th>sex_Male</th>\n",
       "      <th>sex_Female</th>\n",
       "      <th>age_cat_25 - 45</th>\n",
       "      <th>age_cat_Greater than 45</th>\n",
       "      <th>age_cat_Less than 25</th>\n",
       "      <th>...</th>\n",
       "      <th>c_charge_desc_Video Voyeur-&lt;24Y on Child &gt;16</th>\n",
       "      <th>c_charge_desc_Viol Injunct Domestic Violence</th>\n",
       "      <th>c_charge_desc_Viol Injunction Protect Dom Vi</th>\n",
       "      <th>c_charge_desc_Viol Pretrial Release Dom Viol</th>\n",
       "      <th>c_charge_desc_Viol Prot Injunc Repeat Viol</th>\n",
       "      <th>c_charge_desc_Violation License Restrictions</th>\n",
       "      <th>c_charge_desc_Violation Of Boater Safety Id</th>\n",
       "      <th>c_charge_desc_Violation of Injunction Order/Stalking/Cyberstalking</th>\n",
       "      <th>c_charge_desc_Voyeurism</th>\n",
       "      <th>c_charge_desc_arrest case no charge</th>\n",
       "    </tr>\n",
       "    <tr>\n",
       "      <th>id</th>\n",
       "      <th>sex</th>\n",
       "      <th>race</th>\n",
       "      <th></th>\n",
       "      <th></th>\n",
       "      <th></th>\n",
       "      <th></th>\n",
       "      <th></th>\n",
       "      <th></th>\n",
       "      <th></th>\n",
       "      <th></th>\n",
       "      <th></th>\n",
       "      <th></th>\n",
       "      <th></th>\n",
       "      <th></th>\n",
       "      <th></th>\n",
       "      <th></th>\n",
       "      <th></th>\n",
       "      <th></th>\n",
       "      <th></th>\n",
       "      <th></th>\n",
       "      <th></th>\n",
       "      <th></th>\n",
       "      <th></th>\n",
       "    </tr>\n",
       "  </thead>\n",
       "  <tbody>\n",
       "    <tr>\n",
       "      <th>0</th>\n",
       "      <th>0</th>\n",
       "      <th>5</th>\n",
       "      <td>69</td>\n",
       "      <td>0</td>\n",
       "      <td>0</td>\n",
       "      <td>0</td>\n",
       "      <td>0</td>\n",
       "      <td>1</td>\n",
       "      <td>0</td>\n",
       "      <td>0</td>\n",
       "      <td>1</td>\n",
       "      <td>0</td>\n",
       "      <td>...</td>\n",
       "      <td>0</td>\n",
       "      <td>0</td>\n",
       "      <td>0</td>\n",
       "      <td>0</td>\n",
       "      <td>0</td>\n",
       "      <td>0</td>\n",
       "      <td>0</td>\n",
       "      <td>0</td>\n",
       "      <td>0</td>\n",
       "      <td>0</td>\n",
       "    </tr>\n",
       "    <tr>\n",
       "      <th>1</th>\n",
       "      <th>0</th>\n",
       "      <th>0</th>\n",
       "      <td>34</td>\n",
       "      <td>0</td>\n",
       "      <td>0</td>\n",
       "      <td>0</td>\n",
       "      <td>0</td>\n",
       "      <td>1</td>\n",
       "      <td>0</td>\n",
       "      <td>1</td>\n",
       "      <td>0</td>\n",
       "      <td>0</td>\n",
       "      <td>...</td>\n",
       "      <td>0</td>\n",
       "      <td>0</td>\n",
       "      <td>0</td>\n",
       "      <td>0</td>\n",
       "      <td>0</td>\n",
       "      <td>0</td>\n",
       "      <td>0</td>\n",
       "      <td>0</td>\n",
       "      <td>0</td>\n",
       "      <td>0</td>\n",
       "    </tr>\n",
       "    <tr>\n",
       "      <th>2</th>\n",
       "      <th>0</th>\n",
       "      <th>0</th>\n",
       "      <td>24</td>\n",
       "      <td>0</td>\n",
       "      <td>0</td>\n",
       "      <td>1</td>\n",
       "      <td>4</td>\n",
       "      <td>1</td>\n",
       "      <td>0</td>\n",
       "      <td>0</td>\n",
       "      <td>0</td>\n",
       "      <td>1</td>\n",
       "      <td>...</td>\n",
       "      <td>0</td>\n",
       "      <td>0</td>\n",
       "      <td>0</td>\n",
       "      <td>0</td>\n",
       "      <td>0</td>\n",
       "      <td>0</td>\n",
       "      <td>0</td>\n",
       "      <td>0</td>\n",
       "      <td>0</td>\n",
       "      <td>0</td>\n",
       "    </tr>\n",
       "    <tr>\n",
       "      <th>3</th>\n",
       "      <th>0</th>\n",
       "      <th>5</th>\n",
       "      <td>44</td>\n",
       "      <td>0</td>\n",
       "      <td>0</td>\n",
       "      <td>0</td>\n",
       "      <td>0</td>\n",
       "      <td>1</td>\n",
       "      <td>0</td>\n",
       "      <td>1</td>\n",
       "      <td>0</td>\n",
       "      <td>0</td>\n",
       "      <td>...</td>\n",
       "      <td>0</td>\n",
       "      <td>0</td>\n",
       "      <td>0</td>\n",
       "      <td>0</td>\n",
       "      <td>0</td>\n",
       "      <td>0</td>\n",
       "      <td>0</td>\n",
       "      <td>0</td>\n",
       "      <td>0</td>\n",
       "      <td>0</td>\n",
       "    </tr>\n",
       "    <tr>\n",
       "      <th>4</th>\n",
       "      <th>0</th>\n",
       "      <th>2</th>\n",
       "      <td>41</td>\n",
       "      <td>0</td>\n",
       "      <td>0</td>\n",
       "      <td>0</td>\n",
       "      <td>14</td>\n",
       "      <td>1</td>\n",
       "      <td>0</td>\n",
       "      <td>1</td>\n",
       "      <td>0</td>\n",
       "      <td>0</td>\n",
       "      <td>...</td>\n",
       "      <td>0</td>\n",
       "      <td>0</td>\n",
       "      <td>0</td>\n",
       "      <td>0</td>\n",
       "      <td>0</td>\n",
       "      <td>0</td>\n",
       "      <td>0</td>\n",
       "      <td>0</td>\n",
       "      <td>0</td>\n",
       "      <td>0</td>\n",
       "    </tr>\n",
       "  </tbody>\n",
       "</table>\n",
       "<p>5 rows × 407 columns</p>\n",
       "</div>"
      ],
      "text/plain": [
       "             age  juv_fel_count  juv_misd_count  juv_other_count  \\\n",
       "id sex race                                                        \n",
       "0  0   5      69              0               0                0   \n",
       "1  0   0      34              0               0                0   \n",
       "2  0   0      24              0               0                1   \n",
       "3  0   5      44              0               0                0   \n",
       "4  0   2      41              0               0                0   \n",
       "\n",
       "             priors_count  sex_Male  sex_Female  age_cat_25 - 45  \\\n",
       "id sex race                                                        \n",
       "0  0   5                0         1           0                0   \n",
       "1  0   0                0         1           0                1   \n",
       "2  0   0                4         1           0                0   \n",
       "3  0   5                0         1           0                1   \n",
       "4  0   2               14         1           0                1   \n",
       "\n",
       "             age_cat_Greater than 45  age_cat_Less than 25  ...  \\\n",
       "id sex race                                                 ...   \n",
       "0  0   5                           1                     0  ...   \n",
       "1  0   0                           0                     0  ...   \n",
       "2  0   0                           0                     1  ...   \n",
       "3  0   5                           0                     0  ...   \n",
       "4  0   2                           0                     0  ...   \n",
       "\n",
       "             c_charge_desc_Video Voyeur-<24Y on Child >16  \\\n",
       "id sex race                                                 \n",
       "0  0   5                                                0   \n",
       "1  0   0                                                0   \n",
       "2  0   0                                                0   \n",
       "3  0   5                                                0   \n",
       "4  0   2                                                0   \n",
       "\n",
       "             c_charge_desc_Viol Injunct Domestic Violence  \\\n",
       "id sex race                                                 \n",
       "0  0   5                                                0   \n",
       "1  0   0                                                0   \n",
       "2  0   0                                                0   \n",
       "3  0   5                                                0   \n",
       "4  0   2                                                0   \n",
       "\n",
       "             c_charge_desc_Viol Injunction Protect Dom Vi  \\\n",
       "id sex race                                                 \n",
       "0  0   5                                                0   \n",
       "1  0   0                                                0   \n",
       "2  0   0                                                0   \n",
       "3  0   5                                                0   \n",
       "4  0   2                                                0   \n",
       "\n",
       "             c_charge_desc_Viol Pretrial Release Dom Viol  \\\n",
       "id sex race                                                 \n",
       "0  0   5                                                0   \n",
       "1  0   0                                                0   \n",
       "2  0   0                                                0   \n",
       "3  0   5                                                0   \n",
       "4  0   2                                                0   \n",
       "\n",
       "             c_charge_desc_Viol Prot Injunc Repeat Viol  \\\n",
       "id sex race                                               \n",
       "0  0   5                                              0   \n",
       "1  0   0                                              0   \n",
       "2  0   0                                              0   \n",
       "3  0   5                                              0   \n",
       "4  0   2                                              0   \n",
       "\n",
       "             c_charge_desc_Violation License Restrictions  \\\n",
       "id sex race                                                 \n",
       "0  0   5                                                0   \n",
       "1  0   0                                                0   \n",
       "2  0   0                                                0   \n",
       "3  0   5                                                0   \n",
       "4  0   2                                                0   \n",
       "\n",
       "             c_charge_desc_Violation Of Boater Safety Id  \\\n",
       "id sex race                                                \n",
       "0  0   5                                               0   \n",
       "1  0   0                                               0   \n",
       "2  0   0                                               0   \n",
       "3  0   5                                               0   \n",
       "4  0   2                                               0   \n",
       "\n",
       "             c_charge_desc_Violation of Injunction Order/Stalking/Cyberstalking  \\\n",
       "id sex race                                                                       \n",
       "0  0   5                                                     0                    \n",
       "1  0   0                                                     0                    \n",
       "2  0   0                                                     0                    \n",
       "3  0   5                                                     0                    \n",
       "4  0   2                                                     0                    \n",
       "\n",
       "             c_charge_desc_Voyeurism  c_charge_desc_arrest case no charge  \n",
       "id sex race                                                                \n",
       "0  0   5                           0                                    0  \n",
       "1  0   0                           0                                    0  \n",
       "2  0   0                           0                                    0  \n",
       "3  0   5                           0                                    0  \n",
       "4  0   2                           0                                    0  \n",
       "\n",
       "[5 rows x 407 columns]"
      ]
     },
     "execution_count": 18,
     "metadata": {},
     "output_type": "execute_result"
    }
   ],
   "source": [
    "##create dummies\n",
    "\n",
    "X_train, X_test, y_train, y_test = train_test_split(X, y, random_state=1234567)\n",
    "\n",
    "# one-hoy encode the categorical features\n",
    "data_preproc = make_column_transformer(\n",
    "        (OneHotEncoder(sparse=False, handle_unknown='ignore'), X_train.dtypes == 'category'))\n",
    "\n",
    "X_train = pd.DataFrame(data_preproc.fit_transform(X_train), index=X_train.index)\n",
    "X_test = pd.DataFrame(data_preproc.transform(X_test), index=X_test.index)\n",
    "\n",
    "# to save the information for the column names\n",
    "pd.get_dummies(X).head()"
   ]
  },
  {
   "cell_type": "code",
   "execution_count": 19,
   "id": "69e40974",
   "metadata": {},
   "outputs": [
    {
     "name": "stdout",
     "output_type": "stream",
     "text": [
      "[Baseline] The test accuracy of the algorithm is:  60.77%\n"
     ]
    },
    {
     "name": "stderr",
     "output_type": "stream",
     "text": [
      "lbfgs failed to converge (status=1):\n",
      "STOP: TOTAL NO. of ITERATIONS REACHED LIMIT.\n",
      "\n",
      "Increase the number of iterations (max_iter) or scale the data as shown in:\n",
      "    https://scikit-learn.org/stable/modules/preprocessing.html\n",
      "Please also refer to the documentation for alternative solver options:\n",
      "    https://scikit-learn.org/stable/modules/linear_model.html#logistic-regression\n"
     ]
    }
   ],
   "source": [
    "from aif360.sklearn.preprocessing import ReweighingMeta, Reweighing\n",
    "from sklearn.metrics import accuracy_score, confusion_matrix, plot_roc_curve, recall_score, precision_score\n",
    "\n",
    "lr = LogisticRegression(solver='lbfgs')\n",
    "reg = lr.fit(X_train, y_train)\n",
    "y_pred = reg.predict(X_test)\n",
    "\n",
    "acc_base = accuracy_score(y_test, y_pred)\n",
    "print(f'[Baseline] The test accuracy of the algorithm is: {acc_base: .2%}')"
   ]
  },
  {
   "cell_type": "markdown",
   "id": "49f88449",
   "metadata": {},
   "source": [
    "## Confusion Matrix"
   ]
  },
  {
   "cell_type": "code",
   "execution_count": 20,
   "id": "2b689877",
   "metadata": {},
   "outputs": [
    {
     "data": {
      "image/png": "[encoded data removed]",
      "text/plain": [
       "<Figure size 432x288 with 2 Axes>"
      ]
     },
     "metadata": {
      "needs_background": "light"
     },
     "output_type": "display_data"
    }
   ],
   "source": [
    "##Sex predicting score \n",
    "cf_matrix = confusion_matrix(y_test, y_pred)\n",
    "make_confusion_matrix(cf_matrix, \"[Baseline]\")"
   ]
  },
  {
   "cell_type": "markdown",
   "id": "321f4d61",
   "metadata": {},
   "source": [
    "## Performance Metrics"
   ]
  },
  {
   "cell_type": "code",
   "execution_count": 21,
   "id": "4c46b4ff",
   "metadata": {},
   "outputs": [
    {
     "data": {
      "image/png": "[encoded data removed]",
      "text/plain": [
       "<Figure size 432x288 with 1 Axes>"
      ]
     },
     "metadata": {
      "needs_background": "light"
     },
     "output_type": "display_data"
    }
   ],
   "source": [
    "metrics_per_group(y_test, y_pred)"
   ]
  },
  {
   "cell_type": "markdown",
   "id": "01b07f26",
   "metadata": {},
   "source": [
    "Statistical Parity Difference Computed as the difference of the rate of favorable outcomes received by the unprivileged group to the privileged group. It essentially equalizes the outcomes across the protected and non-protected groups."
   ]
  },
  {
   "cell_type": "code",
   "execution_count": 24,
   "id": "1d5f9b32",
   "metadata": {},
   "outputs": [
    {
     "name": "stdout",
     "output_type": "stream",
     "text": [
      "[Baseline] The statistical parity difference is  0.14\n"
     ]
    }
   ],
   "source": [
    "stat_par_diff = statistical_parity_difference(y_test, prot_attr='sex')\n",
    "\n",
    "print(f'[Baseline] The statistical parity difference is {stat_par_diff: .2}')"
   ]
  },
  {
   "cell_type": "markdown",
   "id": "bf70f473",
   "metadata": {},
   "source": [
    "Generalized entropy error Generalized entropy index is proposed as a unified individual and group fairness measure. It measures the inequality in benefit allocation for individuals. A value of 0 implies perfect fairness. Fairness is indicated by lower scores, higher scores are problematic"
   ]
  },
  {
   "cell_type": "code",
   "execution_count": 25,
   "id": "33bed014",
   "metadata": {},
   "outputs": [
    {
     "name": "stdout",
     "output_type": "stream",
     "text": [
      "[Baseline] The generalized entropy error is  0.31\n"
     ]
    }
   ],
   "source": [
    "gen_entr_error = generalized_entropy_error(y_test, y_pred, alpha=1)\n",
    "\n",
    "print(f'[Baseline] The generalized entropy error is {gen_entr_error: .2}')"
   ]
  },
  {
   "cell_type": "markdown",
   "id": "3c9e4380",
   "metadata": {},
   "source": [
    "Equal Opportunity Difference This metric is computed as the difference of true positive rates between the unprivileged and the privileged groups. The true positive rate is the ratio of true positives to the total number of actual positives for a given group. The ideal value is 0. A value of < 0 implies higher benefit for the privileged group and a value > 0 implies higher benefit for the unprivileged group."
   ]
  },
  {
   "cell_type": "code",
   "execution_count": 26,
   "id": "6a6788b7",
   "metadata": {},
   "outputs": [
    {
     "name": "stdout",
     "output_type": "stream",
     "text": [
      "[Baseline] The equal opportunity difference is  0.33\n"
     ]
    }
   ],
   "source": [
    "eq_opp_diff = equal_opportunity_difference(y_test, y_pred, prot_attr='sex')\n",
    "\n",
    "print(f'[Baseline] The equal opportunity difference is {eq_opp_diff: .2}')"
   ]
  },
  {
   "cell_type": "markdown",
   "id": "62f08535",
   "metadata": {},
   "source": [
    "## Fairness Metrics"
   ]
  },
  {
   "cell_type": "code",
   "execution_count": 27,
   "id": "71cef425",
   "metadata": {},
   "outputs": [
    {
     "data": {
      "image/png": "[encoded data removed]",
      "text/plain": [
       "<Figure size 1440x288 with 3 Axes>"
      ]
     },
     "metadata": {
      "needs_background": "light"
     },
     "output_type": "display_data"
    }
   ],
   "source": [
    "plot_fair_metrics([0, 0, 0], '')"
   ]
  },
  {
   "cell_type": "markdown",
   "id": "d657b704",
   "metadata": {},
   "source": [
    "# Rebalancing Data"
   ]
  },
  {
   "cell_type": "code",
   "execution_count": null,
   "id": "21edd290",
   "metadata": {},
   "outputs": [],
   "source": []
  }
 ],
 "metadata": {
  "kernelspec": {
   "display_name": "Python 3 (ipykernel)",
   "language": "python",
   "name": "python3"
  },
  "language_info": {
   "codemirror_mode": {
    "name": "ipython",
    "version": 3
   },
   "file_extension": ".py",
   "mimetype": "text/x-python",
   "name": "python",
   "nbconvert_exporter": "python",
   "pygments_lexer": "ipython3",
   "version": "3.9.7"
  }
 },
 "nbformat": 4,
 "nbformat_minor": 5
}
