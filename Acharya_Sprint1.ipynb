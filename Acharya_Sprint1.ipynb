{
 "cells": [
  {
   "cell_type": "markdown",
   "metadata": {},
   "source": [
    "# CompasDataset Exploration"
   ]
  },
  {
   "cell_type": "markdown",
   "metadata": {},
   "source": [
    "Amrita Acharya, Dianne Caravela, Elisabeth Nesmith, Emma Kornberg, Eunice Kim\n",
    "with Women At the Table"
   ]
  },
  {
   "cell_type": "code",
   "execution_count": 1,
   "metadata": {},
   "outputs": [
    {
     "name": "stdout",
     "output_type": "stream",
     "text": [
      "Requirement already satisfied: aif360 in /Users/amritaacharya/opt/anaconda3/lib/python3.7/site-packages (0.4.0)\n",
      "Requirement already satisfied: scipy<1.6.0,>=1.2.0 in /Users/amritaacharya/opt/anaconda3/lib/python3.7/site-packages (from aif360) (1.4.1)\n",
      "Requirement already satisfied: scikit-learn>=0.22.1 in /Users/amritaacharya/opt/anaconda3/lib/python3.7/site-packages (from aif360) (0.22.1)\n",
      "Requirement already satisfied: numpy>=1.16 in /Users/amritaacharya/opt/anaconda3/lib/python3.7/site-packages (from aif360) (1.21.5)\n",
      "Requirement already satisfied: tempeh in /Users/amritaacharya/opt/anaconda3/lib/python3.7/site-packages (from aif360) (0.1.12)\n",
      "Requirement already satisfied: pandas>=0.24.0 in /Users/amritaacharya/opt/anaconda3/lib/python3.7/site-packages (from aif360) (1.0.1)\n",
      "Requirement already satisfied: matplotlib in /Users/amritaacharya/opt/anaconda3/lib/python3.7/site-packages (from aif360) (3.1.3)\n",
      "Requirement already satisfied: joblib>=0.11 in /Users/amritaacharya/opt/anaconda3/lib/python3.7/site-packages (from scikit-learn>=0.22.1->aif360) (0.14.1)\n",
      "Requirement already satisfied: memory-profiler in /Users/amritaacharya/opt/anaconda3/lib/python3.7/site-packages (from tempeh->aif360) (0.60.0)\n",
      "Requirement already satisfied: shap in /Users/amritaacharya/opt/anaconda3/lib/python3.7/site-packages (from tempeh->aif360) (0.40.0)\n",
      "Requirement already satisfied: requests in /Users/amritaacharya/opt/anaconda3/lib/python3.7/site-packages (from tempeh->aif360) (2.22.0)\n",
      "Requirement already satisfied: pytest in /Users/amritaacharya/opt/anaconda3/lib/python3.7/site-packages (from tempeh->aif360) (5.3.5)\n",
      "Requirement already satisfied: python-dateutil>=2.6.1 in /Users/amritaacharya/opt/anaconda3/lib/python3.7/site-packages (from pandas>=0.24.0->aif360) (2.8.1)\n",
      "Requirement already satisfied: pytz>=2017.2 in /Users/amritaacharya/opt/anaconda3/lib/python3.7/site-packages (from pandas>=0.24.0->aif360) (2019.3)\n",
      "Requirement already satisfied: cycler>=0.10 in /Users/amritaacharya/opt/anaconda3/lib/python3.7/site-packages (from matplotlib->aif360) (0.10.0)\n",
      "Requirement already satisfied: kiwisolver>=1.0.1 in /Users/amritaacharya/opt/anaconda3/lib/python3.7/site-packages (from matplotlib->aif360) (1.1.0)\n",
      "Requirement already satisfied: pyparsing!=2.0.4,!=2.1.2,!=2.1.6,>=2.0.1 in /Users/amritaacharya/opt/anaconda3/lib/python3.7/site-packages (from matplotlib->aif360) (2.4.6)\n",
      "Requirement already satisfied: psutil in /Users/amritaacharya/opt/anaconda3/lib/python3.7/site-packages (from memory-profiler->tempeh->aif360) (5.6.7)\n",
      "Requirement already satisfied: slicer==0.0.7 in /Users/amritaacharya/opt/anaconda3/lib/python3.7/site-packages (from shap->tempeh->aif360) (0.0.7)\n",
      "Requirement already satisfied: numba in /Users/amritaacharya/opt/anaconda3/lib/python3.7/site-packages (from shap->tempeh->aif360) (0.48.0)\n",
      "Requirement already satisfied: packaging>20.9 in /Users/amritaacharya/opt/anaconda3/lib/python3.7/site-packages (from shap->tempeh->aif360) (21.3)\n",
      "Requirement already satisfied: cloudpickle in /Users/amritaacharya/opt/anaconda3/lib/python3.7/site-packages (from shap->tempeh->aif360) (1.3.0)\n",
      "Requirement already satisfied: tqdm>4.25.0 in /Users/amritaacharya/opt/anaconda3/lib/python3.7/site-packages (from shap->tempeh->aif360) (4.42.1)\n",
      "Requirement already satisfied: urllib3!=1.25.0,!=1.25.1,<1.26,>=1.21.1 in /Users/amritaacharya/opt/anaconda3/lib/python3.7/site-packages (from requests->tempeh->aif360) (1.25.8)\n",
      "Requirement already satisfied: certifi>=2017.4.17 in /Users/amritaacharya/opt/anaconda3/lib/python3.7/site-packages (from requests->tempeh->aif360) (2019.11.28)\n",
      "Requirement already satisfied: idna<2.9,>=2.5 in /Users/amritaacharya/opt/anaconda3/lib/python3.7/site-packages (from requests->tempeh->aif360) (2.8)\n",
      "Requirement already satisfied: chardet<3.1.0,>=3.0.2 in /Users/amritaacharya/opt/anaconda3/lib/python3.7/site-packages (from requests->tempeh->aif360) (3.0.4)\n",
      "Requirement already satisfied: py>=1.5.0 in /Users/amritaacharya/opt/anaconda3/lib/python3.7/site-packages (from pytest->tempeh->aif360) (1.8.1)\n",
      "Requirement already satisfied: attrs>=17.4.0 in /Users/amritaacharya/opt/anaconda3/lib/python3.7/site-packages (from pytest->tempeh->aif360) (19.3.0)\n",
      "Requirement already satisfied: more-itertools>=4.0.0 in /Users/amritaacharya/opt/anaconda3/lib/python3.7/site-packages (from pytest->tempeh->aif360) (8.2.0)\n",
      "Requirement already satisfied: pluggy<1.0,>=0.12 in /Users/amritaacharya/opt/anaconda3/lib/python3.7/site-packages (from pytest->tempeh->aif360) (0.13.1)\n",
      "Requirement already satisfied: wcwidth in /Users/amritaacharya/opt/anaconda3/lib/python3.7/site-packages (from pytest->tempeh->aif360) (0.1.8)\n",
      "Requirement already satisfied: importlib-metadata>=0.12 in /Users/amritaacharya/opt/anaconda3/lib/python3.7/site-packages (from pytest->tempeh->aif360) (1.5.0)\n",
      "Requirement already satisfied: six>=1.5 in /Users/amritaacharya/opt/anaconda3/lib/python3.7/site-packages (from python-dateutil>=2.6.1->pandas>=0.24.0->aif360) (1.14.0)\n",
      "Requirement already satisfied: setuptools in /Users/amritaacharya/opt/anaconda3/lib/python3.7/site-packages (from kiwisolver>=1.0.1->matplotlib->aif360) (46.0.0.post20200309)\n",
      "Requirement already satisfied: llvmlite<0.32.0,>=0.31.0dev0 in /Users/amritaacharya/opt/anaconda3/lib/python3.7/site-packages (from numba->shap->tempeh->aif360) (0.31.0)\n",
      "Requirement already satisfied: zipp>=0.5 in /Users/amritaacharya/opt/anaconda3/lib/python3.7/site-packages (from importlib-metadata>=0.12->pytest->tempeh->aif360) (2.2.0)\n",
      "Requirement already satisfied: fairlearn in /Users/amritaacharya/opt/anaconda3/lib/python3.7/site-packages (0.7.0)\n",
      "Requirement already satisfied: numpy>=1.17.2 in /Users/amritaacharya/opt/anaconda3/lib/python3.7/site-packages (from fairlearn) (1.21.5)\n",
      "Requirement already satisfied: pandas>=0.25.1 in /Users/amritaacharya/opt/anaconda3/lib/python3.7/site-packages (from fairlearn) (1.0.1)\n",
      "Requirement already satisfied: scikit-learn>=0.22.1 in /Users/amritaacharya/opt/anaconda3/lib/python3.7/site-packages (from fairlearn) (0.22.1)\n",
      "Requirement already satisfied: scipy>=1.4.1 in /Users/amritaacharya/opt/anaconda3/lib/python3.7/site-packages (from fairlearn) (1.4.1)\n",
      "Requirement already satisfied: python-dateutil>=2.6.1 in /Users/amritaacharya/opt/anaconda3/lib/python3.7/site-packages (from pandas>=0.25.1->fairlearn) (2.8.1)\n",
      "Requirement already satisfied: pytz>=2017.2 in /Users/amritaacharya/opt/anaconda3/lib/python3.7/site-packages (from pandas>=0.25.1->fairlearn) (2019.3)\n",
      "Requirement already satisfied: joblib>=0.11 in /Users/amritaacharya/opt/anaconda3/lib/python3.7/site-packages (from scikit-learn>=0.22.1->fairlearn) (0.14.1)\n",
      "Requirement already satisfied: six>=1.5 in /Users/amritaacharya/opt/anaconda3/lib/python3.7/site-packages (from python-dateutil>=2.6.1->pandas>=0.25.1->fairlearn) (1.14.0)\n",
      "Requirement already satisfied: aif360[AdversarialDebiasing] in /Users/amritaacharya/opt/anaconda3/lib/python3.7/site-packages (0.4.0)\n",
      "Requirement already satisfied: tempeh in /Users/amritaacharya/opt/anaconda3/lib/python3.7/site-packages (from aif360[AdversarialDebiasing]) (0.1.12)\n",
      "Requirement already satisfied: scikit-learn>=0.22.1 in /Users/amritaacharya/opt/anaconda3/lib/python3.7/site-packages (from aif360[AdversarialDebiasing]) (0.22.1)\n",
      "Requirement already satisfied: pandas>=0.24.0 in /Users/amritaacharya/opt/anaconda3/lib/python3.7/site-packages (from aif360[AdversarialDebiasing]) (1.0.1)\n",
      "Requirement already satisfied: matplotlib in /Users/amritaacharya/opt/anaconda3/lib/python3.7/site-packages (from aif360[AdversarialDebiasing]) (3.1.3)\n",
      "Requirement already satisfied: scipy<1.6.0,>=1.2.0 in /Users/amritaacharya/opt/anaconda3/lib/python3.7/site-packages (from aif360[AdversarialDebiasing]) (1.4.1)\n",
      "Requirement already satisfied: numpy>=1.16 in /Users/amritaacharya/opt/anaconda3/lib/python3.7/site-packages (from aif360[AdversarialDebiasing]) (1.21.5)\n",
      "Requirement already satisfied: tensorflow>=1.13.1; extra == \"adversarialdebiasing\" in /Users/amritaacharya/opt/anaconda3/lib/python3.7/site-packages (from aif360[AdversarialDebiasing]) (2.8.0)\n",
      "Requirement already satisfied: memory-profiler in /Users/amritaacharya/opt/anaconda3/lib/python3.7/site-packages (from tempeh->aif360[AdversarialDebiasing]) (0.60.0)\n",
      "Requirement already satisfied: shap in /Users/amritaacharya/opt/anaconda3/lib/python3.7/site-packages (from tempeh->aif360[AdversarialDebiasing]) (0.40.0)\n"
     ]
    },
    {
     "name": "stdout",
     "output_type": "stream",
     "text": [
      "Requirement already satisfied: requests in /Users/amritaacharya/opt/anaconda3/lib/python3.7/site-packages (from tempeh->aif360[AdversarialDebiasing]) (2.22.0)\n",
      "Requirement already satisfied: pytest in /Users/amritaacharya/opt/anaconda3/lib/python3.7/site-packages (from tempeh->aif360[AdversarialDebiasing]) (5.3.5)\n",
      "Requirement already satisfied: joblib>=0.11 in /Users/amritaacharya/opt/anaconda3/lib/python3.7/site-packages (from scikit-learn>=0.22.1->aif360[AdversarialDebiasing]) (0.14.1)\n",
      "Requirement already satisfied: python-dateutil>=2.6.1 in /Users/amritaacharya/opt/anaconda3/lib/python3.7/site-packages (from pandas>=0.24.0->aif360[AdversarialDebiasing]) (2.8.1)\n",
      "Requirement already satisfied: pytz>=2017.2 in /Users/amritaacharya/opt/anaconda3/lib/python3.7/site-packages (from pandas>=0.24.0->aif360[AdversarialDebiasing]) (2019.3)\n",
      "Requirement already satisfied: kiwisolver>=1.0.1 in /Users/amritaacharya/opt/anaconda3/lib/python3.7/site-packages (from matplotlib->aif360[AdversarialDebiasing]) (1.1.0)\n",
      "Requirement already satisfied: pyparsing!=2.0.4,!=2.1.2,!=2.1.6,>=2.0.1 in /Users/amritaacharya/opt/anaconda3/lib/python3.7/site-packages (from matplotlib->aif360[AdversarialDebiasing]) (2.4.6)\n",
      "Requirement already satisfied: cycler>=0.10 in /Users/amritaacharya/opt/anaconda3/lib/python3.7/site-packages (from matplotlib->aif360[AdversarialDebiasing]) (0.10.0)\n",
      "Requirement already satisfied: protobuf>=3.9.2 in /Users/amritaacharya/opt/anaconda3/lib/python3.7/site-packages (from tensorflow>=1.13.1; extra == \"adversarialdebiasing\"->aif360[AdversarialDebiasing]) (3.19.4)\n",
      "Requirement already satisfied: flatbuffers>=1.12 in /Users/amritaacharya/opt/anaconda3/lib/python3.7/site-packages (from tensorflow>=1.13.1; extra == \"adversarialdebiasing\"->aif360[AdversarialDebiasing]) (2.0)\n",
      "Requirement already satisfied: six>=1.12.0 in /Users/amritaacharya/opt/anaconda3/lib/python3.7/site-packages (from tensorflow>=1.13.1; extra == \"adversarialdebiasing\"->aif360[AdversarialDebiasing]) (1.14.0)\n",
      "Requirement already satisfied: typing-extensions>=3.6.6 in /Users/amritaacharya/opt/anaconda3/lib/python3.7/site-packages (from tensorflow>=1.13.1; extra == \"adversarialdebiasing\"->aif360[AdversarialDebiasing]) (4.0.1)\n",
      "Requirement already satisfied: grpcio<2.0,>=1.24.3 in /Users/amritaacharya/opt/anaconda3/lib/python3.7/site-packages (from tensorflow>=1.13.1; extra == \"adversarialdebiasing\"->aif360[AdversarialDebiasing]) (1.43.0)\n",
      "Requirement already satisfied: h5py>=2.9.0 in /Users/amritaacharya/opt/anaconda3/lib/python3.7/site-packages (from tensorflow>=1.13.1; extra == \"adversarialdebiasing\"->aif360[AdversarialDebiasing]) (2.10.0)\n",
      "Requirement already satisfied: absl-py>=0.4.0 in /Users/amritaacharya/opt/anaconda3/lib/python3.7/site-packages (from tensorflow>=1.13.1; extra == \"adversarialdebiasing\"->aif360[AdversarialDebiasing]) (1.0.0)\n",
      "Requirement already satisfied: tensorflow-io-gcs-filesystem>=0.23.1 in /Users/amritaacharya/opt/anaconda3/lib/python3.7/site-packages (from tensorflow>=1.13.1; extra == \"adversarialdebiasing\"->aif360[AdversarialDebiasing]) (0.24.0)\n",
      "Requirement already satisfied: google-pasta>=0.1.1 in /Users/amritaacharya/opt/anaconda3/lib/python3.7/site-packages (from tensorflow>=1.13.1; extra == \"adversarialdebiasing\"->aif360[AdversarialDebiasing]) (0.2.0)\n",
      "Requirement already satisfied: termcolor>=1.1.0 in /Users/amritaacharya/opt/anaconda3/lib/python3.7/site-packages (from tensorflow>=1.13.1; extra == \"adversarialdebiasing\"->aif360[AdversarialDebiasing]) (1.1.0)\n",
      "Requirement already satisfied: opt-einsum>=2.3.2 in /Users/amritaacharya/opt/anaconda3/lib/python3.7/site-packages (from tensorflow>=1.13.1; extra == \"adversarialdebiasing\"->aif360[AdversarialDebiasing]) (3.3.0)\n",
      "Requirement already satisfied: astunparse>=1.6.0 in /Users/amritaacharya/opt/anaconda3/lib/python3.7/site-packages (from tensorflow>=1.13.1; extra == \"adversarialdebiasing\"->aif360[AdversarialDebiasing]) (1.6.3)\n",
      "Requirement already satisfied: setuptools in /Users/amritaacharya/opt/anaconda3/lib/python3.7/site-packages (from tensorflow>=1.13.1; extra == \"adversarialdebiasing\"->aif360[AdversarialDebiasing]) (46.0.0.post20200309)\n",
      "Requirement already satisfied: tf-estimator-nightly==2.8.0.dev2021122109 in /Users/amritaacharya/opt/anaconda3/lib/python3.7/site-packages (from tensorflow>=1.13.1; extra == \"adversarialdebiasing\"->aif360[AdversarialDebiasing]) (2.8.0.dev2021122109)\n",
      "Requirement already satisfied: libclang>=9.0.1 in /Users/amritaacharya/opt/anaconda3/lib/python3.7/site-packages (from tensorflow>=1.13.1; extra == \"adversarialdebiasing\"->aif360[AdversarialDebiasing]) (13.0.0)\n",
      "Requirement already satisfied: keras-preprocessing>=1.1.1 in /Users/amritaacharya/opt/anaconda3/lib/python3.7/site-packages (from tensorflow>=1.13.1; extra == \"adversarialdebiasing\"->aif360[AdversarialDebiasing]) (1.1.2)\n",
      "Requirement already satisfied: tensorboard<2.9,>=2.8 in /Users/amritaacharya/opt/anaconda3/lib/python3.7/site-packages (from tensorflow>=1.13.1; extra == \"adversarialdebiasing\"->aif360[AdversarialDebiasing]) (2.8.0)\n",
      "Requirement already satisfied: gast>=0.2.1 in /Users/amritaacharya/opt/anaconda3/lib/python3.7/site-packages (from tensorflow>=1.13.1; extra == \"adversarialdebiasing\"->aif360[AdversarialDebiasing]) (0.5.3)\n",
      "Requirement already satisfied: wrapt>=1.11.0 in /Users/amritaacharya/opt/anaconda3/lib/python3.7/site-packages (from tensorflow>=1.13.1; extra == \"adversarialdebiasing\"->aif360[AdversarialDebiasing]) (1.11.2)\n",
      "Requirement already satisfied: keras<2.9,>=2.8.0rc0 in /Users/amritaacharya/opt/anaconda3/lib/python3.7/site-packages (from tensorflow>=1.13.1; extra == \"adversarialdebiasing\"->aif360[AdversarialDebiasing]) (2.8.0)\n",
      "Requirement already satisfied: psutil in /Users/amritaacharya/opt/anaconda3/lib/python3.7/site-packages (from memory-profiler->tempeh->aif360[AdversarialDebiasing]) (5.6.7)\n",
      "Requirement already satisfied: numba in /Users/amritaacharya/opt/anaconda3/lib/python3.7/site-packages (from shap->tempeh->aif360[AdversarialDebiasing]) (0.48.0)\n",
      "Requirement already satisfied: packaging>20.9 in /Users/amritaacharya/opt/anaconda3/lib/python3.7/site-packages (from shap->tempeh->aif360[AdversarialDebiasing]) (21.3)\n",
      "Requirement already satisfied: cloudpickle in /Users/amritaacharya/opt/anaconda3/lib/python3.7/site-packages (from shap->tempeh->aif360[AdversarialDebiasing]) (1.3.0)\n",
      "Requirement already satisfied: tqdm>4.25.0 in /Users/amritaacharya/opt/anaconda3/lib/python3.7/site-packages (from shap->tempeh->aif360[AdversarialDebiasing]) (4.42.1)\n",
      "Requirement already satisfied: slicer==0.0.7 in /Users/amritaacharya/opt/anaconda3/lib/python3.7/site-packages (from shap->tempeh->aif360[AdversarialDebiasing]) (0.0.7)\n",
      "Requirement already satisfied: urllib3!=1.25.0,!=1.25.1,<1.26,>=1.21.1 in /Users/amritaacharya/opt/anaconda3/lib/python3.7/site-packages (from requests->tempeh->aif360[AdversarialDebiasing]) (1.25.8)\n",
      "Requirement already satisfied: chardet<3.1.0,>=3.0.2 in /Users/amritaacharya/opt/anaconda3/lib/python3.7/site-packages (from requests->tempeh->aif360[AdversarialDebiasing]) (3.0.4)\n",
      "Requirement already satisfied: idna<2.9,>=2.5 in /Users/amritaacharya/opt/anaconda3/lib/python3.7/site-packages (from requests->tempeh->aif360[AdversarialDebiasing]) (2.8)\n",
      "Requirement already satisfied: certifi>=2017.4.17 in /Users/amritaacharya/opt/anaconda3/lib/python3.7/site-packages (from requests->tempeh->aif360[AdversarialDebiasing]) (2019.11.28)\n",
      "Requirement already satisfied: py>=1.5.0 in /Users/amritaacharya/opt/anaconda3/lib/python3.7/site-packages (from pytest->tempeh->aif360[AdversarialDebiasing]) (1.8.1)\n",
      "Requirement already satisfied: attrs>=17.4.0 in /Users/amritaacharya/opt/anaconda3/lib/python3.7/site-packages (from pytest->tempeh->aif360[AdversarialDebiasing]) (19.3.0)\n",
      "Requirement already satisfied: more-itertools>=4.0.0 in /Users/amritaacharya/opt/anaconda3/lib/python3.7/site-packages (from pytest->tempeh->aif360[AdversarialDebiasing]) (8.2.0)\n",
      "Requirement already satisfied: pluggy<1.0,>=0.12 in /Users/amritaacharya/opt/anaconda3/lib/python3.7/site-packages (from pytest->tempeh->aif360[AdversarialDebiasing]) (0.13.1)\n",
      "Requirement already satisfied: wcwidth in /Users/amritaacharya/opt/anaconda3/lib/python3.7/site-packages (from pytest->tempeh->aif360[AdversarialDebiasing]) (0.1.8)\n",
      "Requirement already satisfied: importlib-metadata>=0.12 in /Users/amritaacharya/opt/anaconda3/lib/python3.7/site-packages (from pytest->tempeh->aif360[AdversarialDebiasing]) (1.5.0)\n",
      "Requirement already satisfied: wheel<1.0,>=0.23.0 in /Users/amritaacharya/opt/anaconda3/lib/python3.7/site-packages (from astunparse>=1.6.0->tensorflow>=1.13.1; extra == \"adversarialdebiasing\"->aif360[AdversarialDebiasing]) (0.34.2)\n"
     ]
    },
    {
     "name": "stdout",
     "output_type": "stream",
     "text": [
      "Requirement already satisfied: tensorboard-plugin-wit>=1.6.0 in /Users/amritaacharya/opt/anaconda3/lib/python3.7/site-packages (from tensorboard<2.9,>=2.8->tensorflow>=1.13.1; extra == \"adversarialdebiasing\"->aif360[AdversarialDebiasing]) (1.8.1)\n",
      "Requirement already satisfied: google-auth-oauthlib<0.5,>=0.4.1 in /Users/amritaacharya/opt/anaconda3/lib/python3.7/site-packages (from tensorboard<2.9,>=2.8->tensorflow>=1.13.1; extra == \"adversarialdebiasing\"->aif360[AdversarialDebiasing]) (0.4.6)\n",
      "Requirement already satisfied: tensorboard-data-server<0.7.0,>=0.6.0 in /Users/amritaacharya/opt/anaconda3/lib/python3.7/site-packages (from tensorboard<2.9,>=2.8->tensorflow>=1.13.1; extra == \"adversarialdebiasing\"->aif360[AdversarialDebiasing]) (0.6.1)\n",
      "Requirement already satisfied: werkzeug>=0.11.15 in /Users/amritaacharya/opt/anaconda3/lib/python3.7/site-packages (from tensorboard<2.9,>=2.8->tensorflow>=1.13.1; extra == \"adversarialdebiasing\"->aif360[AdversarialDebiasing]) (1.0.0)\n",
      "Requirement already satisfied: google-auth<3,>=1.6.3 in /Users/amritaacharya/opt/anaconda3/lib/python3.7/site-packages (from tensorboard<2.9,>=2.8->tensorflow>=1.13.1; extra == \"adversarialdebiasing\"->aif360[AdversarialDebiasing]) (2.6.0)\n",
      "Requirement already satisfied: markdown>=2.6.8 in /Users/amritaacharya/opt/anaconda3/lib/python3.7/site-packages (from tensorboard<2.9,>=2.8->tensorflow>=1.13.1; extra == \"adversarialdebiasing\"->aif360[AdversarialDebiasing]) (3.3.6)\n",
      "Requirement already satisfied: llvmlite<0.32.0,>=0.31.0dev0 in /Users/amritaacharya/opt/anaconda3/lib/python3.7/site-packages (from numba->shap->tempeh->aif360[AdversarialDebiasing]) (0.31.0)\n",
      "Requirement already satisfied: zipp>=0.5 in /Users/amritaacharya/opt/anaconda3/lib/python3.7/site-packages (from importlib-metadata>=0.12->pytest->tempeh->aif360[AdversarialDebiasing]) (2.2.0)\n",
      "Requirement already satisfied: requests-oauthlib>=0.7.0 in /Users/amritaacharya/opt/anaconda3/lib/python3.7/site-packages (from google-auth-oauthlib<0.5,>=0.4.1->tensorboard<2.9,>=2.8->tensorflow>=1.13.1; extra == \"adversarialdebiasing\"->aif360[AdversarialDebiasing]) (1.3.1)\n",
      "Requirement already satisfied: rsa<5,>=3.1.4; python_version >= \"3.6\" in /Users/amritaacharya/opt/anaconda3/lib/python3.7/site-packages (from google-auth<3,>=1.6.3->tensorboard<2.9,>=2.8->tensorflow>=1.13.1; extra == \"adversarialdebiasing\"->aif360[AdversarialDebiasing]) (4.8)\n",
      "Requirement already satisfied: cachetools<6.0,>=2.0.0 in /Users/amritaacharya/opt/anaconda3/lib/python3.7/site-packages (from google-auth<3,>=1.6.3->tensorboard<2.9,>=2.8->tensorflow>=1.13.1; extra == \"adversarialdebiasing\"->aif360[AdversarialDebiasing]) (5.0.0)\n",
      "Requirement already satisfied: pyasn1-modules>=0.2.1 in /Users/amritaacharya/opt/anaconda3/lib/python3.7/site-packages (from google-auth<3,>=1.6.3->tensorboard<2.9,>=2.8->tensorflow>=1.13.1; extra == \"adversarialdebiasing\"->aif360[AdversarialDebiasing]) (0.2.8)\n",
      "Requirement already satisfied: oauthlib>=3.0.0 in /Users/amritaacharya/opt/anaconda3/lib/python3.7/site-packages (from requests-oauthlib>=0.7.0->google-auth-oauthlib<0.5,>=0.4.1->tensorboard<2.9,>=2.8->tensorflow>=1.13.1; extra == \"adversarialdebiasing\"->aif360[AdversarialDebiasing]) (3.2.0)\n",
      "Requirement already satisfied: pyasn1>=0.1.3 in /Users/amritaacharya/opt/anaconda3/lib/python3.7/site-packages (from rsa<5,>=3.1.4; python_version >= \"3.6\"->google-auth<3,>=1.6.3->tensorboard<2.9,>=2.8->tensorflow>=1.13.1; extra == \"adversarialdebiasing\"->aif360[AdversarialDebiasing]) (0.4.8)\n"
     ]
    }
   ],
   "source": [
    "##Install packages \n",
    "!pip install aif360;\n",
    "!pip install fairlearn;\n",
    "!pip install 'aif360[AdversarialDebiasing]'"
   ]
  },
  {
   "cell_type": "code",
   "execution_count": 37,
   "metadata": {},
   "outputs": [],
   "source": [
    "##Install packages and API to fetch data \n",
    "%matplotlib inline\n",
    "import matplotlib.pyplot as plt\n",
    "import matplotlib.patches as patches\n",
    "import numpy as np\n",
    "import pandas as pd\n",
    "import seaborn as sns\n",
    "\n",
    "import matplotlib.pyplot as plt\n",
    "import matplotlib.patches as mpatches\n",
    "\n",
    "from sklearn.compose import make_column_transformer\n",
    "from sklearn.linear_model import LogisticRegression\n",
    "\n",
    "from sklearn.model_selection import GridSearchCV, train_test_split\n",
    "from sklearn.preprocessing import OneHotEncoder\n",
    "\n",
    "from aif360.datasets import CompasDataset\n",
    "from aif360.sklearn.datasets import fetch_compas\n",
    "from aif360.algorithms.inprocessing import MetaFairClassifier\n",
    "\n",
    "from aif360.sklearn.preprocessing import ReweighingMeta\n",
    "from aif360.sklearn.inprocessing import AdversarialDebiasing\n",
    "from aif360.sklearn.postprocessing import CalibratedEqualizedOdds, PostProcessingMeta\n",
    "from aif360.sklearn.metrics import disparate_impact_ratio, average_odds_error, generalized_fpr, average_odds_difference\n",
    "from aif360.sklearn.metrics import generalized_fnr, difference, statistical_parity_difference, equal_opportunity_difference, generalized_entropy_error\n",
    "\n",
    "from IPython.display import Markdown, display"
   ]
  },
  {
   "cell_type": "code",
   "execution_count": 3,
   "metadata": {
    "scrolled": true
   },
   "outputs": [],
   "source": [
    "#Data = pd.read_csv(\"https://raw.githubusercontent.com/propublica/compas-analysis/master/compas-scores-raw.csv\")\n",
    "#Data.head()"
   ]
  },
  {
   "cell_type": "code",
   "execution_count": 4,
   "metadata": {},
   "outputs": [],
   "source": [
    "#@title Confusion matrix and Visualisation plots, creating function for later \n",
    "\n",
    "# Function for visualising the confusion matrix and other statistics\n",
    "# https://github.com/DTrimarchi10/confusion_matrix/blob/master/cf_matrix.py\n",
    "\n",
    "def make_confusion_matrix(cf_matrix, model):\n",
    "  group_names = [\"True Negative\",\"False Positive\",\"False Negative\",\"True Positive\"]\n",
    "  group_counts = [\"{0:0.0f}\".format(value) for value in\n",
    "                  cf_matrix.flatten()]\n",
    "  group_percentages = [\"{0:.2%}\".format(value) for value in\n",
    "                      cf_matrix.flatten()/np.sum(cf_matrix)]\n",
    "\n",
    "  group_labels = [\"{}\\n\".format(value) for value in group_names]\n",
    "  group_counts = [\"{0:0.0f}\\n\".format(value) for value in cf_matrix.flatten()]\n",
    "  group_percentages = [\"{0:.2%}\".format(value) for value in cf_matrix.flatten()/np.sum(cf_matrix)]\n",
    "\n",
    "  box_labels = [f\"{v1}{v2}{v3}\".strip() for v1, v2, v3 in zip(group_labels,group_counts,group_percentages)]\n",
    "  box_labels = np.asarray(box_labels).reshape(cf_matrix.shape[0],cf_matrix.shape[1])\n",
    "\n",
    "\n",
    "  # add more statistics\n",
    "  accuracy  = np.trace(cf_matrix) / float(np.sum(cf_matrix))\n",
    "  precision = cf_matrix[1,1] / sum(cf_matrix[:,1])\n",
    "  recall    = cf_matrix[1,1] / sum(cf_matrix[1,:])\n",
    "  f1_score  = 2*precision*recall / (precision + recall)\n",
    "  stats_text = \"\\n\\nAccuracy={:0.3f}\\nPrecision={:0.3f}\\nRecall={:0.3f}\\nF1 Score={:0.3f}\".format(\n",
    "      accuracy,precision,recall,f1_score)\n",
    "\n",
    "\n",
    "  categories=[\"Low score\", \"High score\"]\n",
    "  sns.heatmap(cf_matrix,annot=box_labels,fmt=\"\",cmap='Purples',xticklabels=categories,yticklabels=categories)\n",
    "\n",
    "  plt.ylabel('True label')\n",
    "  plt.xlabel('Predicted label' + stats_text)\n",
    "  plt.title(f\"Confusion matrix and statistics for the {model} model\");\n",
    "\n",
    "## defining function for displaying metrics of training and test data by sex \n",
    "def metrics_per_group(y_test, y_pred):\n",
    "\t# y true per group\n",
    "\ty_test_male = y_test.loc[y_test.index.get_level_values(1) == 1]\n",
    "\ty_test_female = y_test.loc[y_test.index.get_level_values(1) == 0]\n",
    "\n",
    "\t# y_pred per group\n",
    "\ty_pred_male = y_pred[y_test.index.get_level_values(1) == 1]\n",
    "\ty_pred_female = y_pred[y_test.index.get_level_values(1) == 0]\n",
    "\n",
    "\t# metrics\n",
    "\tscores = []\n",
    "\tscores.append(accuracy_score(y_test, y_pred))\n",
    "\tscores.append(recall_score(y_test, y_pred))\n",
    "\tscores.append(precision_score(y_test, y_pred))\n",
    "\n",
    "\tscores.append(accuracy_score(y_test_female, y_pred_female))\n",
    "\tscores.append(recall_score(y_test_female, y_pred_female))\n",
    "\tscores.append(precision_score(y_test_female, y_pred_female))\n",
    "\n",
    "\tscores.append(accuracy_score(y_test_male, y_pred_male))\n",
    "\tscores.append(recall_score(y_test_male, y_pred_male))\n",
    "\tscores.append(precision_score(y_test_male, y_pred_male))\n",
    "\n",
    "\tattribute = [\"all\"]*3 + [\"female\"] *3 + [\"male\"] *3\n",
    "\tmetric = [\"accuracy\", \"recall\", \"precision\"] * 3\n",
    "\t  \n",
    "\t# dictionary of lists \n",
    "\tdict = {'gender': attribute, 'metrics': metric, 'score': scores} \n",
    "\t    \n",
    "\tdf = pd.DataFrame(dict)\n",
    "\n",
    "\tsns.barplot(x = \"metrics\", y = \"score\", hue = \"gender\", data = df, palette = ['#dfcd1a', '#9d0677', '#236c48'])\n",
    "\tplt.title(\"Performance metrics by groups\")\n",
    " \n",
    "\n",
    "def plot_fair_metrics(fair_metrics_mitigated, model): \n",
    "  cols = ['statistical_parity_difference', 'equal_opportunity_difference', 'generalized_entropy']\n",
    "  obj_fairness = [[0,0,1]]\n",
    "\n",
    "  # row for objectives    \n",
    "  fair_metrics = pd.DataFrame(data=obj_fairness, index=['objective'], columns=cols)\n",
    "      \n",
    "  # row for baseline model\n",
    "  fair_metrics.loc['Baseline Model'] = [stat_par_diff, eq_opp_diff, gen_entr_error]\n",
    "\n",
    "  # row for mitigated bias\n",
    "  fair_metrics.loc[model] = fair_metrics_mitigated\n",
    "\n",
    "\n",
    "  metrics_len = len(cols)\n",
    "\n",
    "\n",
    "  fig, ax = plt.subplots(figsize=(20,4), ncols=metrics_len, nrows=1)\n",
    "\n",
    "  plt.subplots_adjust(\n",
    "      left    =  0.125, \n",
    "      bottom  =  0.1, \n",
    "      right   =  0.9, \n",
    "      top     =  0.9, \n",
    "      wspace  =  .5, \n",
    "      hspace  =  1.1\n",
    "  )\n",
    "\n",
    "  y_title_margin = 1.2\n",
    "\n",
    "  plt.suptitle(\"Fairness metrics\", y = 1.09, fontsize=20)\n",
    "  sns.set(style=\"dark\")\n",
    "\n",
    "  cols = fair_metrics.columns.values\n",
    "  obj = fair_metrics.loc['objective']\n",
    "  size_rect = [0.2,0.2,0.2,0.4,0.25]\n",
    "  rect = [-0.1,-0.1,-0.1,0.8,0]\n",
    "  bottom = [-1,-1,-1,0,0]\n",
    "  top = [1,1,1,2,1]\n",
    "  bound = [[-0.1,0.1],[-0.1,0.1],[-0.1,0.1],[0.8,1.2],[0,0.25]]\n",
    "\n",
    "  for i in range(0,metrics_len):\n",
    "      plt.subplot(1, metrics_len, i+1)\n",
    "      ax = sns.barplot(x=fair_metrics.index[1:len(fair_metrics)], y=fair_metrics.iloc[1:len(fair_metrics)][cols[i]])\n",
    "      \n",
    "      for j in range(0,len(fair_metrics)-1):\n",
    "          a, val = ax.patches[j], fair_metrics.iloc[j+1][cols[i]]\n",
    "          marg = -0.2 if val < 0 else 0.1\n",
    "          ax.text(a.get_x()+a.get_width()/5, a.get_y()+a.get_height()+marg, round(val, 3), fontsize=15,color='black')\n",
    "\n",
    "      plt.ylim(bottom[i], top[i])\n",
    "      plt.setp(ax.patches, linewidth=0)\n",
    "      ax.add_patch(patches.Rectangle((-5,rect[i]), 10, size_rect[i], alpha=0.3, facecolor=\"green\", linewidth=1, linestyle='solid'))\n",
    "      plt.axhline(obj[i], color='black', alpha=0.3)\n",
    "      plt.title(cols[i])\n",
    "      ax.set_ylabel('')    \n",
    "      ax.set_xlabel('')"
   ]
  },
  {
   "cell_type": "code",
   "execution_count": 5,
   "metadata": {},
   "outputs": [
    {
     "name": "stdout",
     "output_type": "stream",
     "text": [
      "There are 6167 entries and 10 features\n"
     ]
    },
    {
     "data": {
      "text/html": [
       "<div>\n",
       "<style scoped>\n",
       "    .dataframe tbody tr th:only-of-type {\n",
       "        vertical-align: middle;\n",
       "    }\n",
       "\n",
       "    .dataframe tbody tr th {\n",
       "        vertical-align: top;\n",
       "    }\n",
       "\n",
       "    .dataframe thead th {\n",
       "        text-align: right;\n",
       "    }\n",
       "</style>\n",
       "<table border=\"1\" class=\"dataframe\">\n",
       "  <thead>\n",
       "    <tr style=\"text-align: right;\">\n",
       "      <th></th>\n",
       "      <th></th>\n",
       "      <th></th>\n",
       "      <th>sex</th>\n",
       "      <th>age</th>\n",
       "      <th>age_cat</th>\n",
       "      <th>race</th>\n",
       "      <th>juv_fel_count</th>\n",
       "      <th>juv_misd_count</th>\n",
       "      <th>juv_other_count</th>\n",
       "      <th>priors_count</th>\n",
       "      <th>c_charge_degree</th>\n",
       "      <th>c_charge_desc</th>\n",
       "    </tr>\n",
       "    <tr>\n",
       "      <th>id</th>\n",
       "      <th>sex</th>\n",
       "      <th>race</th>\n",
       "      <th></th>\n",
       "      <th></th>\n",
       "      <th></th>\n",
       "      <th></th>\n",
       "      <th></th>\n",
       "      <th></th>\n",
       "      <th></th>\n",
       "      <th></th>\n",
       "      <th></th>\n",
       "      <th></th>\n",
       "    </tr>\n",
       "  </thead>\n",
       "  <tbody>\n",
       "    <tr>\n",
       "      <th>1</th>\n",
       "      <th>Male</th>\n",
       "      <th>Other</th>\n",
       "      <td>Male</td>\n",
       "      <td>69</td>\n",
       "      <td>Greater than 45</td>\n",
       "      <td>Other</td>\n",
       "      <td>0</td>\n",
       "      <td>0</td>\n",
       "      <td>0</td>\n",
       "      <td>0</td>\n",
       "      <td>F</td>\n",
       "      <td>Aggravated Assault w/Firearm</td>\n",
       "    </tr>\n",
       "    <tr>\n",
       "      <th>3</th>\n",
       "      <th>Male</th>\n",
       "      <th>African-American</th>\n",
       "      <td>Male</td>\n",
       "      <td>34</td>\n",
       "      <td>25 - 45</td>\n",
       "      <td>African-American</td>\n",
       "      <td>0</td>\n",
       "      <td>0</td>\n",
       "      <td>0</td>\n",
       "      <td>0</td>\n",
       "      <td>F</td>\n",
       "      <td>Felony Battery w/Prior Convict</td>\n",
       "    </tr>\n",
       "    <tr>\n",
       "      <th>4</th>\n",
       "      <th>Male</th>\n",
       "      <th>African-American</th>\n",
       "      <td>Male</td>\n",
       "      <td>24</td>\n",
       "      <td>Less than 25</td>\n",
       "      <td>African-American</td>\n",
       "      <td>0</td>\n",
       "      <td>0</td>\n",
       "      <td>1</td>\n",
       "      <td>4</td>\n",
       "      <td>F</td>\n",
       "      <td>Possession of Cocaine</td>\n",
       "    </tr>\n",
       "    <tr>\n",
       "      <th>7</th>\n",
       "      <th>Male</th>\n",
       "      <th>Other</th>\n",
       "      <td>Male</td>\n",
       "      <td>44</td>\n",
       "      <td>25 - 45</td>\n",
       "      <td>Other</td>\n",
       "      <td>0</td>\n",
       "      <td>0</td>\n",
       "      <td>0</td>\n",
       "      <td>0</td>\n",
       "      <td>M</td>\n",
       "      <td>Battery</td>\n",
       "    </tr>\n",
       "    <tr>\n",
       "      <th>8</th>\n",
       "      <th>Male</th>\n",
       "      <th>Caucasian</th>\n",
       "      <td>Male</td>\n",
       "      <td>41</td>\n",
       "      <td>25 - 45</td>\n",
       "      <td>Caucasian</td>\n",
       "      <td>0</td>\n",
       "      <td>0</td>\n",
       "      <td>0</td>\n",
       "      <td>14</td>\n",
       "      <td>F</td>\n",
       "      <td>Possession Burglary Tools</td>\n",
       "    </tr>\n",
       "  </tbody>\n",
       "</table>\n",
       "</div>"
      ],
      "text/plain": [
       "                           sex  age          age_cat              race  \\\n",
       "id sex  race                                                             \n",
       "1  Male Other             Male   69  Greater than 45             Other   \n",
       "3  Male African-American  Male   34          25 - 45  African-American   \n",
       "4  Male African-American  Male   24     Less than 25  African-American   \n",
       "7  Male Other             Male   44          25 - 45             Other   \n",
       "8  Male Caucasian         Male   41          25 - 45         Caucasian   \n",
       "\n",
       "                          juv_fel_count  juv_misd_count  juv_other_count  \\\n",
       "id sex  race                                                               \n",
       "1  Male Other                         0               0                0   \n",
       "3  Male African-American              0               0                0   \n",
       "4  Male African-American              0               0                1   \n",
       "7  Male Other                         0               0                0   \n",
       "8  Male Caucasian                     0               0                0   \n",
       "\n",
       "                          priors_count c_charge_degree  \\\n",
       "id sex  race                                             \n",
       "1  Male Other                        0               F   \n",
       "3  Male African-American             0               F   \n",
       "4  Male African-American             4               F   \n",
       "7  Male Other                        0               M   \n",
       "8  Male Caucasian                   14               F   \n",
       "\n",
       "                                           c_charge_desc  \n",
       "id sex  race                                              \n",
       "1  Male Other               Aggravated Assault w/Firearm  \n",
       "3  Male African-American  Felony Battery w/Prior Convict  \n",
       "4  Male African-American           Possession of Cocaine  \n",
       "7  Male Other                                    Battery  \n",
       "8  Male Caucasian              Possession Burglary Tools  "
      ]
     },
     "execution_count": 5,
     "metadata": {},
     "output_type": "execute_result"
    }
   ],
   "source": [
    "## In machine learning tasks, specifically with supervised learning, you have features and labels. \n",
    "## The features are the descriptive attributes (they are defined as X), and the label (y) is what you're attempting to predict or forecast\n",
    "\n",
    "X, y = fetch_compas()\n",
    "print(f'There are {X.shape[0]} entries and {X.shape[1]} features')\n",
    "X.head()"
   ]
  },
  {
   "cell_type": "code",
   "execution_count": 6,
   "metadata": {},
   "outputs": [],
   "source": [
    "X.index = pd.MultiIndex.from_arrays(X.index.codes, names=X.index.names)\n",
    "y.index = pd.MultiIndex.from_arrays(y.index.codes, names=y.index.names)"
   ]
  },
  {
   "cell_type": "code",
   "execution_count": 7,
   "metadata": {},
   "outputs": [],
   "source": [
    "# set target class to 0/1\n",
    "y = pd.Series(y.factorize(sort=True)[0], index=y.index)"
   ]
  },
  {
   "cell_type": "markdown",
   "metadata": {},
   "source": [
    "# Exploratory Data Analysis"
   ]
  },
  {
   "cell_type": "code",
   "execution_count": 8,
   "metadata": {},
   "outputs": [],
   "source": [
    "df_viz = X.copy()\n",
    "df_viz['sex'] = X['sex'].replace({1.0: 'Male', 0.0: 'Female'})\n",
    "df_viz['c_charge_degree'] = y.replace({1:'M', 0: 'F'})\n",
    "df_viz.index = df_viz.index.droplevel('sex')\n",
    "\n",
    "purple = '#9d0677'\n",
    "green = '#30875c'\n",
    "workshop_palette = [purple, green]"
   ]
  },
  {
   "cell_type": "code",
   "execution_count": 9,
   "metadata": {},
   "outputs": [
    {
     "data": {
      "text/plain": [
       "<matplotlib.axes._subplots.AxesSubplot at 0x7fbf04ad8650>"
      ]
     },
     "execution_count": 9,
     "metadata": {},
     "output_type": "execute_result"
    },
    {
     "data": {
      "image/png": "[encoded data removed]",
      "text/plain": [
       "<Figure size 432x288 with 1 Axes>"
      ]
     },
     "metadata": {
      "needs_background": "light"
     },
     "output_type": "display_data"
    }
   ],
   "source": [
    "sns.countplot(x='c_charge_degree', data=df_viz, palette=workshop_palette)"
   ]
  },
  {
   "cell_type": "markdown",
   "metadata": {},
   "source": [
    "Ethnicity Plot"
   ]
  },
  {
   "cell_type": "code",
   "execution_count": 10,
   "metadata": {},
   "outputs": [
    {
     "data": {
      "text/plain": [
       "<matplotlib.axes._subplots.AxesSubplot at 0x7fbf049de490>"
      ]
     },
     "execution_count": 10,
     "metadata": {},
     "output_type": "execute_result"
    },
    {
     "data": {
      "image/png": "[encoded data removed]",
      "text/plain": [
       "<Figure size 432x288 with 1 Axes>"
      ]
     },
     "metadata": {
      "needs_background": "light"
     },
     "output_type": "display_data"
    }
   ],
   "source": [
    "sns.countplot(y=\"race\", data=df_viz, palette=[\"#30875c\"])"
   ]
  },
  {
   "cell_type": "code",
   "execution_count": 11,
   "metadata": {},
   "outputs": [],
   "source": [
    "#Ethnicity by Gender"
   ]
  },
  {
   "cell_type": "code",
   "execution_count": 12,
   "metadata": {},
   "outputs": [
    {
     "data": {
      "image/png": "[encoded data removed]",
      "text/plain": [
       "<Figure size 432x288 with 1 Axes>"
      ]
     },
     "metadata": {
      "needs_background": "light"
     },
     "output_type": "display_data"
    }
   ],
   "source": [
    "occupation_counts = (df_viz.groupby(['sex'])['race']\n",
    "                     .value_counts(normalize=True)\n",
    "                     .rename('percentage')\n",
    "                     .mul(100)\n",
    "                     .reset_index()\n",
    "                     .sort_values('race'))\n",
    "p = sns.barplot(y=\"race\", x=\"percentage\", hue=\"sex\", data=occupation_counts, palette=workshop_palette)"
   ]
  },
  {
   "cell_type": "markdown",
   "metadata": {},
   "source": [
    "Age Category Distribution by Sex"
   ]
  },
  {
   "cell_type": "code",
   "execution_count": 13,
   "metadata": {
    "scrolled": true
   },
   "outputs": [
    {
     "data": {
      "image/png": "[encoded data removed]",
      "text/plain": [
       "<Figure size 432x288 with 1 Axes>"
      ]
     },
     "metadata": {
      "needs_background": "light"
     },
     "output_type": "display_data"
    }
   ],
   "source": [
    "by_sex = sns.countplot(x=\"age_cat\", hue=\"sex\", data=df_viz, palette=workshop_palette)\n",
    "\n",
    "plt.title('Age Category Distribution by sex')\n",
    "plt.show()"
   ]
  },
  {
   "cell_type": "markdown",
   "metadata": {},
   "source": [
    "# Metrics"
   ]
  },
  {
   "cell_type": "code",
   "execution_count": 14,
   "metadata": {},
   "outputs": [
    {
     "data": {
      "text/html": [
       "<div>\n",
       "<style scoped>\n",
       "    .dataframe tbody tr th:only-of-type {\n",
       "        vertical-align: middle;\n",
       "    }\n",
       "\n",
       "    .dataframe tbody tr th {\n",
       "        vertical-align: top;\n",
       "    }\n",
       "\n",
       "    .dataframe thead th {\n",
       "        text-align: right;\n",
       "    }\n",
       "</style>\n",
       "<table border=\"1\" class=\"dataframe\">\n",
       "  <thead>\n",
       "    <tr style=\"text-align: right;\">\n",
       "      <th></th>\n",
       "      <th></th>\n",
       "      <th></th>\n",
       "      <th>age</th>\n",
       "      <th>juv_fel_count</th>\n",
       "      <th>juv_misd_count</th>\n",
       "      <th>juv_other_count</th>\n",
       "      <th>priors_count</th>\n",
       "      <th>sex_Male</th>\n",
       "      <th>sex_Female</th>\n",
       "      <th>age_cat_25 - 45</th>\n",
       "      <th>age_cat_Greater than 45</th>\n",
       "      <th>age_cat_Less than 25</th>\n",
       "      <th>...</th>\n",
       "      <th>c_charge_desc_Video Voyeur-&lt;24Y on Child &gt;16</th>\n",
       "      <th>c_charge_desc_Viol Injunct Domestic Violence</th>\n",
       "      <th>c_charge_desc_Viol Injunction Protect Dom Vi</th>\n",
       "      <th>c_charge_desc_Viol Pretrial Release Dom Viol</th>\n",
       "      <th>c_charge_desc_Viol Prot Injunc Repeat Viol</th>\n",
       "      <th>c_charge_desc_Violation License Restrictions</th>\n",
       "      <th>c_charge_desc_Violation Of Boater Safety Id</th>\n",
       "      <th>c_charge_desc_Violation of Injunction Order/Stalking/Cyberstalking</th>\n",
       "      <th>c_charge_desc_Voyeurism</th>\n",
       "      <th>c_charge_desc_arrest case no charge</th>\n",
       "    </tr>\n",
       "    <tr>\n",
       "      <th>id</th>\n",
       "      <th>sex</th>\n",
       "      <th>race</th>\n",
       "      <th></th>\n",
       "      <th></th>\n",
       "      <th></th>\n",
       "      <th></th>\n",
       "      <th></th>\n",
       "      <th></th>\n",
       "      <th></th>\n",
       "      <th></th>\n",
       "      <th></th>\n",
       "      <th></th>\n",
       "      <th></th>\n",
       "      <th></th>\n",
       "      <th></th>\n",
       "      <th></th>\n",
       "      <th></th>\n",
       "      <th></th>\n",
       "      <th></th>\n",
       "      <th></th>\n",
       "      <th></th>\n",
       "      <th></th>\n",
       "      <th></th>\n",
       "    </tr>\n",
       "  </thead>\n",
       "  <tbody>\n",
       "    <tr>\n",
       "      <th>0</th>\n",
       "      <th>0</th>\n",
       "      <th>5</th>\n",
       "      <td>69</td>\n",
       "      <td>0</td>\n",
       "      <td>0</td>\n",
       "      <td>0</td>\n",
       "      <td>0</td>\n",
       "      <td>1</td>\n",
       "      <td>0</td>\n",
       "      <td>0</td>\n",
       "      <td>1</td>\n",
       "      <td>0</td>\n",
       "      <td>...</td>\n",
       "      <td>0</td>\n",
       "      <td>0</td>\n",
       "      <td>0</td>\n",
       "      <td>0</td>\n",
       "      <td>0</td>\n",
       "      <td>0</td>\n",
       "      <td>0</td>\n",
       "      <td>0</td>\n",
       "      <td>0</td>\n",
       "      <td>0</td>\n",
       "    </tr>\n",
       "    <tr>\n",
       "      <th>1</th>\n",
       "      <th>0</th>\n",
       "      <th>0</th>\n",
       "      <td>34</td>\n",
       "      <td>0</td>\n",
       "      <td>0</td>\n",
       "      <td>0</td>\n",
       "      <td>0</td>\n",
       "      <td>1</td>\n",
       "      <td>0</td>\n",
       "      <td>1</td>\n",
       "      <td>0</td>\n",
       "      <td>0</td>\n",
       "      <td>...</td>\n",
       "      <td>0</td>\n",
       "      <td>0</td>\n",
       "      <td>0</td>\n",
       "      <td>0</td>\n",
       "      <td>0</td>\n",
       "      <td>0</td>\n",
       "      <td>0</td>\n",
       "      <td>0</td>\n",
       "      <td>0</td>\n",
       "      <td>0</td>\n",
       "    </tr>\n",
       "    <tr>\n",
       "      <th>2</th>\n",
       "      <th>0</th>\n",
       "      <th>0</th>\n",
       "      <td>24</td>\n",
       "      <td>0</td>\n",
       "      <td>0</td>\n",
       "      <td>1</td>\n",
       "      <td>4</td>\n",
       "      <td>1</td>\n",
       "      <td>0</td>\n",
       "      <td>0</td>\n",
       "      <td>0</td>\n",
       "      <td>1</td>\n",
       "      <td>...</td>\n",
       "      <td>0</td>\n",
       "      <td>0</td>\n",
       "      <td>0</td>\n",
       "      <td>0</td>\n",
       "      <td>0</td>\n",
       "      <td>0</td>\n",
       "      <td>0</td>\n",
       "      <td>0</td>\n",
       "      <td>0</td>\n",
       "      <td>0</td>\n",
       "    </tr>\n",
       "    <tr>\n",
       "      <th>3</th>\n",
       "      <th>0</th>\n",
       "      <th>5</th>\n",
       "      <td>44</td>\n",
       "      <td>0</td>\n",
       "      <td>0</td>\n",
       "      <td>0</td>\n",
       "      <td>0</td>\n",
       "      <td>1</td>\n",
       "      <td>0</td>\n",
       "      <td>1</td>\n",
       "      <td>0</td>\n",
       "      <td>0</td>\n",
       "      <td>...</td>\n",
       "      <td>0</td>\n",
       "      <td>0</td>\n",
       "      <td>0</td>\n",
       "      <td>0</td>\n",
       "      <td>0</td>\n",
       "      <td>0</td>\n",
       "      <td>0</td>\n",
       "      <td>0</td>\n",
       "      <td>0</td>\n",
       "      <td>0</td>\n",
       "    </tr>\n",
       "    <tr>\n",
       "      <th>4</th>\n",
       "      <th>0</th>\n",
       "      <th>2</th>\n",
       "      <td>41</td>\n",
       "      <td>0</td>\n",
       "      <td>0</td>\n",
       "      <td>0</td>\n",
       "      <td>14</td>\n",
       "      <td>1</td>\n",
       "      <td>0</td>\n",
       "      <td>1</td>\n",
       "      <td>0</td>\n",
       "      <td>0</td>\n",
       "      <td>...</td>\n",
       "      <td>0</td>\n",
       "      <td>0</td>\n",
       "      <td>0</td>\n",
       "      <td>0</td>\n",
       "      <td>0</td>\n",
       "      <td>0</td>\n",
       "      <td>0</td>\n",
       "      <td>0</td>\n",
       "      <td>0</td>\n",
       "      <td>0</td>\n",
       "    </tr>\n",
       "  </tbody>\n",
       "</table>\n",
       "<p>5 rows × 407 columns</p>\n",
       "</div>"
      ],
      "text/plain": [
       "             age  juv_fel_count  juv_misd_count  juv_other_count  \\\n",
       "id sex race                                                        \n",
       "0  0   5      69              0               0                0   \n",
       "1  0   0      34              0               0                0   \n",
       "2  0   0      24              0               0                1   \n",
       "3  0   5      44              0               0                0   \n",
       "4  0   2      41              0               0                0   \n",
       "\n",
       "             priors_count  sex_Male  sex_Female  age_cat_25 - 45  \\\n",
       "id sex race                                                        \n",
       "0  0   5                0         1           0                0   \n",
       "1  0   0                0         1           0                1   \n",
       "2  0   0                4         1           0                0   \n",
       "3  0   5                0         1           0                1   \n",
       "4  0   2               14         1           0                1   \n",
       "\n",
       "             age_cat_Greater than 45  age_cat_Less than 25  ...  \\\n",
       "id sex race                                                 ...   \n",
       "0  0   5                           1                     0  ...   \n",
       "1  0   0                           0                     0  ...   \n",
       "2  0   0                           0                     1  ...   \n",
       "3  0   5                           0                     0  ...   \n",
       "4  0   2                           0                     0  ...   \n",
       "\n",
       "             c_charge_desc_Video Voyeur-<24Y on Child >16  \\\n",
       "id sex race                                                 \n",
       "0  0   5                                                0   \n",
       "1  0   0                                                0   \n",
       "2  0   0                                                0   \n",
       "3  0   5                                                0   \n",
       "4  0   2                                                0   \n",
       "\n",
       "             c_charge_desc_Viol Injunct Domestic Violence  \\\n",
       "id sex race                                                 \n",
       "0  0   5                                                0   \n",
       "1  0   0                                                0   \n",
       "2  0   0                                                0   \n",
       "3  0   5                                                0   \n",
       "4  0   2                                                0   \n",
       "\n",
       "             c_charge_desc_Viol Injunction Protect Dom Vi  \\\n",
       "id sex race                                                 \n",
       "0  0   5                                                0   \n",
       "1  0   0                                                0   \n",
       "2  0   0                                                0   \n",
       "3  0   5                                                0   \n",
       "4  0   2                                                0   \n",
       "\n",
       "             c_charge_desc_Viol Pretrial Release Dom Viol  \\\n",
       "id sex race                                                 \n",
       "0  0   5                                                0   \n",
       "1  0   0                                                0   \n",
       "2  0   0                                                0   \n",
       "3  0   5                                                0   \n",
       "4  0   2                                                0   \n",
       "\n",
       "             c_charge_desc_Viol Prot Injunc Repeat Viol  \\\n",
       "id sex race                                               \n",
       "0  0   5                                              0   \n",
       "1  0   0                                              0   \n",
       "2  0   0                                              0   \n",
       "3  0   5                                              0   \n",
       "4  0   2                                              0   \n",
       "\n",
       "             c_charge_desc_Violation License Restrictions  \\\n",
       "id sex race                                                 \n",
       "0  0   5                                                0   \n",
       "1  0   0                                                0   \n",
       "2  0   0                                                0   \n",
       "3  0   5                                                0   \n",
       "4  0   2                                                0   \n",
       "\n",
       "             c_charge_desc_Violation Of Boater Safety Id  \\\n",
       "id sex race                                                \n",
       "0  0   5                                               0   \n",
       "1  0   0                                               0   \n",
       "2  0   0                                               0   \n",
       "3  0   5                                               0   \n",
       "4  0   2                                               0   \n",
       "\n",
       "             c_charge_desc_Violation of Injunction Order/Stalking/Cyberstalking  \\\n",
       "id sex race                                                                       \n",
       "0  0   5                                                     0                    \n",
       "1  0   0                                                     0                    \n",
       "2  0   0                                                     0                    \n",
       "3  0   5                                                     0                    \n",
       "4  0   2                                                     0                    \n",
       "\n",
       "             c_charge_desc_Voyeurism  c_charge_desc_arrest case no charge  \n",
       "id sex race                                                                \n",
       "0  0   5                           0                                    0  \n",
       "1  0   0                           0                                    0  \n",
       "2  0   0                           0                                    0  \n",
       "3  0   5                           0                                    0  \n",
       "4  0   2                           0                                    0  \n",
       "\n",
       "[5 rows x 407 columns]"
      ]
     },
     "execution_count": 14,
     "metadata": {},
     "output_type": "execute_result"
    }
   ],
   "source": [
    "##create dummies\n",
    "\n",
    "X_train, X_test, y_train, y_test = train_test_split(X, y, random_state=1234567)\n",
    "\n",
    "# one-hoy encode the categorical features\n",
    "data_preproc = make_column_transformer(\n",
    "        (OneHotEncoder(sparse=False, handle_unknown='ignore'), X_train.dtypes == 'category'))\n",
    "\n",
    "X_train = pd.DataFrame(data_preproc.fit_transform(X_train), index=X_train.index)\n",
    "X_test = pd.DataFrame(data_preproc.transform(X_test), index=X_test.index)\n",
    "\n",
    "# to save the information for the column names\n",
    "pd.get_dummies(X).head()"
   ]
  },
  {
   "cell_type": "code",
   "execution_count": 15,
   "metadata": {
    "scrolled": true
   },
   "outputs": [
    {
     "name": "stdout",
     "output_type": "stream",
     "text": [
      "[Baseline] The test accuracy of the algorithm is:  60.77%\n"
     ]
    },
    {
     "name": "stderr",
     "output_type": "stream",
     "text": [
      "lbfgs failed to converge (status=1):\n",
      "STOP: TOTAL NO. of ITERATIONS REACHED LIMIT.\n",
      "\n",
      "Increase the number of iterations (max_iter) or scale the data as shown in:\n",
      "    https://scikit-learn.org/stable/modules/preprocessing.html\n",
      "Please also refer to the documentation for alternative solver options:\n",
      "    https://scikit-learn.org/stable/modules/linear_model.html#logistic-regression\n"
     ]
    }
   ],
   "source": [
    "from aif360.sklearn.preprocessing import ReweighingMeta, Reweighing\n",
    "from sklearn.metrics import accuracy_score, confusion_matrix, plot_roc_curve, recall_score, precision_score\n",
    "\n",
    "lr = LogisticRegression(solver='lbfgs')\n",
    "reg = lr.fit(X_train, y_train)\n",
    "y_pred = reg.predict(X_test)\n",
    "\n",
    "acc_base = accuracy_score(y_test, y_pred)\n",
    "print(f'[Baseline] The test accuracy of the algorithm is: {acc_base: .2%}')"
   ]
  },
  {
   "cell_type": "markdown",
   "metadata": {},
   "source": [
    "Confusion Matrix"
   ]
  },
  {
   "cell_type": "code",
   "execution_count": 16,
   "metadata": {
    "scrolled": false
   },
   "outputs": [
    {
     "data": {
      "image/png": "[encoded data removed]",
      "text/plain": [
       "<Figure size 432x288 with 2 Axes>"
      ]
     },
     "metadata": {
      "needs_background": "light"
     },
     "output_type": "display_data"
    }
   ],
   "source": [
    "##Sex predicting score \n",
    "cf_matrix = confusion_matrix(y_test, y_pred)\n",
    "make_confusion_matrix(cf_matrix, \"[Baseline]\")"
   ]
  },
  {
   "cell_type": "markdown",
   "metadata": {},
   "source": [
    "Performance Metrics"
   ]
  },
  {
   "cell_type": "code",
   "execution_count": 17,
   "metadata": {
    "scrolled": false
   },
   "outputs": [
    {
     "data": {
      "image/png": "[encoded data removed]",
      "text/plain": [
       "<Figure size 432x288 with 1 Axes>"
      ]
     },
     "metadata": {
      "needs_background": "light"
     },
     "output_type": "display_data"
    }
   ],
   "source": [
    "metrics_per_group(y_test, y_pred)"
   ]
  },
  {
   "cell_type": "markdown",
   "metadata": {},
   "source": [
    "Statistical Parity Difference Computed as the difference of the rate of favorable outcomes received by the unprivileged group to the privileged group. It essentially equalizes the outcomes across the protected and non-protected groups."
   ]
  },
  {
   "cell_type": "code",
   "execution_count": 18,
   "metadata": {},
   "outputs": [
    {
     "name": "stdout",
     "output_type": "stream",
     "text": [
      "[Baseline] The statistical parity difference is  0.14\n"
     ]
    }
   ],
   "source": [
    "stat_par_diff = statistical_parity_difference(y_test, prot_attr='sex')\n",
    "\n",
    "print(f'[Baseline] The statistical parity difference is {stat_par_diff: .2}')"
   ]
  },
  {
   "cell_type": "markdown",
   "metadata": {},
   "source": [
    "Generalized entropy error Generalized entropy index is proposed as a unified individual and group fairness measure. It measures the inequality in benefit allocation for individuals.\n",
    "A value of 0 implies perfect fairness.\n",
    "Fairness is indicated by lower scores, higher scores are problematic"
   ]
  },
  {
   "cell_type": "code",
   "execution_count": 19,
   "metadata": {},
   "outputs": [
    {
     "name": "stdout",
     "output_type": "stream",
     "text": [
      "[Baseline] The generalized entropy error is  0.31\n"
     ]
    }
   ],
   "source": [
    "gen_entr_error = generalized_entropy_error(y_test, y_pred, alpha=1)\n",
    "\n",
    "print(f'[Baseline] The generalized entropy error is {gen_entr_error: .2}')"
   ]
  },
  {
   "cell_type": "markdown",
   "metadata": {},
   "source": [
    "Equal Opportunity Difference This metric is computed as the difference of true positive rates between the unprivileged and the privileged groups. The true positive rate is the ratio of true positives to the total number of actual positives for a given group.\n",
    "The ideal value is 0. A value of < 0 implies higher benefit for the privileged group and a value > 0 implies higher benefit for the unprivileged group."
   ]
  },
  {
   "cell_type": "code",
   "execution_count": 20,
   "metadata": {
    "scrolled": true
   },
   "outputs": [
    {
     "name": "stdout",
     "output_type": "stream",
     "text": [
      "[Baseline] The equal opportunity difference is  0.33\n"
     ]
    }
   ],
   "source": [
    "##\n",
    "eq_opp_diff = equal_opportunity_difference(y_test, y_pred, prot_attr='sex')\n",
    "\n",
    "print(f'[Baseline] The equal opportunity difference is {eq_opp_diff: .2}')"
   ]
  },
  {
   "cell_type": "markdown",
   "metadata": {},
   "source": [
    "Fairness Metrics"
   ]
  },
  {
   "cell_type": "code",
   "execution_count": 21,
   "metadata": {},
   "outputs": [
    {
     "data": {
      "image/png": "[encoded data removed]",
      "text/plain": [
       "<Figure size 1440x288 with 3 Axes>"
      ]
     },
     "metadata": {
      "needs_background": "light"
     },
     "output_type": "display_data"
    }
   ],
   "source": [
    "plot_fair_metrics([0, 0, 0], '')"
   ]
  },
  {
   "cell_type": "markdown",
   "metadata": {},
   "source": [
    "# Rebalancing Data"
   ]
  },
  {
   "cell_type": "code",
   "execution_count": 22,
   "metadata": {},
   "outputs": [
    {
     "name": "stderr",
     "output_type": "stream",
     "text": [
      "lbfgs failed to converge (status=1):\n",
      "STOP: TOTAL NO. of ITERATIONS REACHED LIMIT.\n",
      "\n",
      "Increase the number of iterations (max_iter) or scale the data as shown in:\n",
      "    https://scikit-learn.org/stable/modules/preprocessing.html\n",
      "Please also refer to the documentation for alternative solver options:\n",
      "    https://scikit-learn.org/stable/modules/linear_model.html#logistic-regression\n"
     ]
    }
   ],
   "source": [
    "##Choosing logistic, can choose other models \n",
    "##analyze coefficients to understand the which parts play a role in the analysis su\n",
    "lr = LogisticRegression(solver='lbfgs')\n",
    "rew = ReweighingMeta(estimator=lr, reweigher=Reweighing('sex'))\n",
    "rew.fit(X_train, y_train)\n",
    "y_pred_REW = rew.predict(X_test)"
   ]
  },
  {
   "cell_type": "code",
   "execution_count": 23,
   "metadata": {},
   "outputs": [
    {
     "name": "stdout",
     "output_type": "stream",
     "text": [
      "[Reweighting] The test accuracy of the algorithm is:  58.88%\n"
     ]
    }
   ],
   "source": [
    "acc_REW = accuracy_score(y_test, y_pred_REW)\n",
    "print(f'[Reweighting] The test accuracy of the algorithm is: {acc_REW: .2%}')"
   ]
  },
  {
   "cell_type": "markdown",
   "metadata": {},
   "source": [
    "Confusion Matrix (Reweighting) "
   ]
  },
  {
   "cell_type": "code",
   "execution_count": 24,
   "metadata": {},
   "outputs": [
    {
     "data": {
      "image/png": "[encoded data removed]",
      "text/plain": [
       "<Figure size 432x288 with 2 Axes>"
      ]
     },
     "metadata": {},
     "output_type": "display_data"
    }
   ],
   "source": [
    "cf_matrix = confusion_matrix(y_test, y_pred_REW)\n",
    "make_confusion_matrix(cf_matrix, \"[Reweighting]\")"
   ]
  },
  {
   "cell_type": "markdown",
   "metadata": {},
   "source": [
    "Performance Metrics (Reweighting) "
   ]
  },
  {
   "cell_type": "code",
   "execution_count": 25,
   "metadata": {},
   "outputs": [
    {
     "data": {
      "image/png": "[encoded data removed]",
      "text/plain": [
       "<Figure size 432x288 with 1 Axes>"
      ]
     },
     "metadata": {},
     "output_type": "display_data"
    }
   ],
   "source": [
    "metrics_per_group(y_test, y_pred_REW)"
   ]
  },
  {
   "cell_type": "code",
   "execution_count": 26,
   "metadata": {},
   "outputs": [
    {
     "name": "stdout",
     "output_type": "stream",
     "text": [
      "[Reweighting] The statistical parity difference is  0.04\n"
     ]
    }
   ],
   "source": [
    "stat_par_diff_RW = statistical_parity_difference(y_test, y_pred_REW, prot_attr='sex')\n",
    "print(f'[Reweighting] The statistical parity difference is {stat_par_diff_RW: .2}')"
   ]
  },
  {
   "cell_type": "code",
   "execution_count": 27,
   "metadata": {},
   "outputs": [
    {
     "name": "stdout",
     "output_type": "stream",
     "text": [
      "[Reweighting] The equal opportunity difference is  0.04\n"
     ]
    }
   ],
   "source": [
    "# rebalance the dataset using the algorithm in the paper\n",
    "# train the model\n",
    "# evalute model on the same metrics\n",
    "eq_opp_diff_RW = equal_opportunity_difference(y_test, y_pred_REW, prot_attr='sex')\n",
    "\n",
    "print(f'[Reweighting] The equal opportunity difference is {eq_opp_diff_RW: .2}')"
   ]
  },
  {
   "cell_type": "code",
   "execution_count": 28,
   "metadata": {},
   "outputs": [
    {
     "name": "stdout",
     "output_type": "stream",
     "text": [
      "[Reweighting] The generalized entropy error is  0.32\n"
     ]
    }
   ],
   "source": [
    "gen_entr_error_RW = generalized_entropy_error(y_test, y_pred_REW, alpha=1)\n",
    "\n",
    "\n",
    "print(f'[Reweighting] The generalized entropy error is {gen_entr_error_RW: .2}')"
   ]
  },
  {
   "cell_type": "markdown",
   "metadata": {},
   "source": [
    "Fairness Metrics"
   ]
  },
  {
   "cell_type": "code",
   "execution_count": 29,
   "metadata": {},
   "outputs": [
    {
     "data": {
      "image/png": "[encoded data removed]",
      "text/plain": [
       "<Figure size 1440x288 with 3 Axes>"
      ]
     },
     "metadata": {},
     "output_type": "display_data"
    }
   ],
   "source": [
    "plot_fair_metrics([stat_par_diff_RW, eq_opp_diff_RW, gen_entr_error_RW], 'Reweighting')"
   ]
  },
  {
   "cell_type": "markdown",
   "metadata": {},
   "source": [
    "# Post-Processing: Control Sets"
   ]
  },
  {
   "cell_type": "code",
   "execution_count": 1,
   "metadata": {},
   "outputs": [
    {
     "ename": "NameError",
     "evalue": "name 'lr' is not defined",
     "output_type": "error",
     "traceback": [
      "\u001b[0;31m---------------------------------------------------------------------------\u001b[0m",
      "\u001b[0;31mNameError\u001b[0m                                 Traceback (most recent call last)",
      "\u001b[0;32m<ipython-input-1-e1089033fc42>\u001b[0m in \u001b[0;36m<module>\u001b[0;34m\u001b[0m\n\u001b[1;32m      7\u001b[0m \u001b[0;34m\u001b[0m\u001b[0m\n\u001b[1;32m      8\u001b[0m \u001b[0mpp\u001b[0m \u001b[0;34m=\u001b[0m \u001b[0mCalibratedEqualizedOdds\u001b[0m\u001b[0;34m(\u001b[0m\u001b[0;34m'sex'\u001b[0m\u001b[0;34m,\u001b[0m \u001b[0mcost_constraint\u001b[0m\u001b[0;34m=\u001b[0m\u001b[0;34m'fnr'\u001b[0m\u001b[0;34m,\u001b[0m \u001b[0mrandom_state\u001b[0m\u001b[0;34m=\u001b[0m\u001b[0;36m1234567\u001b[0m\u001b[0;34m)\u001b[0m\u001b[0;34m\u001b[0m\u001b[0;34m\u001b[0m\u001b[0m\n\u001b[0;32m----> 9\u001b[0;31m \u001b[0mceo\u001b[0m \u001b[0;34m=\u001b[0m \u001b[0mPostProcessingMeta\u001b[0m\u001b[0;34m(\u001b[0m\u001b[0mestimator\u001b[0m\u001b[0;34m=\u001b[0m\u001b[0mlr\u001b[0m\u001b[0;34m,\u001b[0m \u001b[0mpostprocessor\u001b[0m\u001b[0;34m=\u001b[0m\u001b[0mpp\u001b[0m\u001b[0;34m,\u001b[0m \u001b[0mrandom_state\u001b[0m\u001b[0;34m=\u001b[0m\u001b[0;36m1234567\u001b[0m\u001b[0;34m)\u001b[0m\u001b[0;34m\u001b[0m\u001b[0;34m\u001b[0m\u001b[0m\n\u001b[0m\u001b[1;32m     10\u001b[0m \u001b[0mceo\u001b[0m\u001b[0;34m.\u001b[0m\u001b[0mfit\u001b[0m\u001b[0;34m(\u001b[0m\u001b[0mX_train\u001b[0m\u001b[0;34m,\u001b[0m \u001b[0my_train\u001b[0m\u001b[0;34m)\u001b[0m\u001b[0;34m\u001b[0m\u001b[0;34m\u001b[0m\u001b[0m\n\u001b[1;32m     11\u001b[0m \u001b[0my_pred_CEO\u001b[0m \u001b[0;34m=\u001b[0m \u001b[0mceo\u001b[0m\u001b[0;34m.\u001b[0m\u001b[0mpredict\u001b[0m\u001b[0;34m(\u001b[0m\u001b[0mX_test\u001b[0m\u001b[0;34m)\u001b[0m\u001b[0;34m\u001b[0m\u001b[0;34m\u001b[0m\u001b[0m\n",
      "\u001b[0;31mNameError\u001b[0m: name 'lr' is not defined"
     ]
    }
   ],
   "source": [
    "# dataset\n",
    "# train model\n",
    "# add the reject opinion based classification algorithm\n",
    "# evaluate on fairness metrics\n",
    "\n",
    "from aif360.sklearn.postprocessing import CalibratedEqualizedOdds, PostProcessingMeta\n",
    "\n",
    "pp = CalibratedEqualizedOdds('sex', cost_constraint='fnr', random_state=1234567)\n",
    "ceo = PostProcessingMeta(estimator=lr, postprocessor=pp, random_state=1234567)\n",
    "ceo.fit(X_train, y_train)\n",
    "y_pred_CEO = ceo.predict(X_test)\n",
    "y_proba_CEO = ceo.predict_proba(X_test)"
   ]
  },
  {
   "cell_type": "code",
   "execution_count": null,
   "metadata": {},
   "outputs": [],
   "source": [
    "acc_CEO = accuracy_score(y_test, y_pred_CEO)\n",
    "print(f'[Calibrated Equalized Odds] The test accuracy of the algorithm is: {acc_CEO: .2%}')"
   ]
  },
  {
   "cell_type": "code",
   "execution_count": null,
   "metadata": {},
   "outputs": [],
   "source": [
    "cf_matrix = confusion_matrix(y_test, y_pred_CEO)\n",
    "make_confusion_matrix(cf_matrix, \"[Calibrated Equalized Odds]\")"
   ]
  },
  {
   "cell_type": "code",
   "execution_count": null,
   "metadata": {},
   "outputs": [],
   "source": [
    "stat_par_diff_CEO = statistical_parity_difference(y_test, y_pred_CEO, prot_attr='sex')\n",
    "\n",
    "print(f'[Calibrated Equalized Odds] The statistical parity difference is {stat_par_diff_CEO: .2}')"
   ]
  },
  {
   "cell_type": "code",
   "execution_count": null,
   "metadata": {},
   "outputs": [],
   "source": [
    "eq_opp_diff_CEO = equal_opportunity_difference(y_test, y_pred_CEO, prot_attr='sex')\n",
    "\n",
    "print(f'[Calibrated Equalized Odds] The equal opportunity difference is {eq_opp_diff_CEO: .2}')"
   ]
  },
  {
   "cell_type": "code",
   "execution_count": null,
   "metadata": {},
   "outputs": [],
   "source": [
    "gen_entr_error_CEO = generalized_entropy_error(y_test, y_pred_CEO, alpha=1)\n",
    "\n",
    "\n",
    "print(f'[Calibrated Equalized Odds] The generalized entropy error is {gen_entr_error_CEO: .2}')"
   ]
  },
  {
   "cell_type": "code",
   "execution_count": null,
   "metadata": {},
   "outputs": [],
   "source": [
    "plot_fair_metrics([stat_par_diff_CEO, eq_opp_diff_CEO, gen_entr_error_CEO], 'Calibrated Equalized Odds')"
   ]
  },
  {
   "cell_type": "code",
   "execution_count": null,
   "metadata": {},
   "outputs": [],
   "source": []
  }
 ],
 "metadata": {
  "kernelspec": {
   "display_name": "Python 3",
   "language": "python",
   "name": "python3"
  },
  "language_info": {
   "codemirror_mode": {
    "name": "ipython",
    "version": 3
   },
   "file_extension": ".py",
   "mimetype": "text/x-python",
   "name": "python",
   "nbconvert_exporter": "python",
   "pygments_lexer": "ipython3",
   "version": "3.7.6"
  }
 },
 "nbformat": 4,
 "nbformat_minor": 4
}
