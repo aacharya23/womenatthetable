{
 "cells": [
  {
   "cell_type": "code",
   "execution_count": 1,
   "metadata": {},
   "outputs": [
    {
     "name": "stdout",
     "output_type": "stream",
     "text": [
      "Defaulting to user installation because normal site-packages is not writeable\n",
      "Requirement already satisfied: aif360 in c:\\users\\ekorn\\appdata\\roaming\\python\\python37\\site-packages (0.4.0)\n",
      "Requirement already satisfied: scikit-learn>=0.22.1 in c:\\users\\ekorn\\appdata\\roaming\\python\\python37\\site-packages (from aif360) (1.0.2)\n",
      "Requirement already satisfied: matplotlib in c:\\program files\\arcgis\\pro\\bin\\python\\envs\\arcgispro-py3\\lib\\site-packages (from aif360) (3.3.1)\n",
      "Requirement already satisfied: numpy>=1.16 in c:\\program files\\arcgis\\pro\\bin\\python\\envs\\arcgispro-py3\\lib\\site-packages (from aif360) (1.20.1)\n",
      "Requirement already satisfied: pandas>=0.24.0 in c:\\program files\\arcgis\\pro\\bin\\python\\envs\\arcgispro-py3\\lib\\site-packages (from aif360) (1.2.3)\n",
      "Requirement already satisfied: tempeh in c:\\users\\ekorn\\appdata\\roaming\\python\\python37\\site-packages (from aif360) (0.1.12)\n",
      "Requirement already satisfied: scipy<1.6.0,>=1.2.0 in c:\\users\\ekorn\\appdata\\roaming\\python\\python37\\site-packages (from aif360) (1.5.4)\n",
      "Requirement already satisfied: pytz>=2017.3 in c:\\program files\\arcgis\\pro\\bin\\python\\envs\\arcgispro-py3\\lib\\site-packages\\pytz-2020.1-py3.7.egg (from pandas>=0.24.0->aif360) (2020.1)\n",
      "Requirement already satisfied: python-dateutil>=2.7.3 in c:\\program files\\arcgis\\pro\\bin\\python\\envs\\arcgispro-py3\\lib\\site-packages (from pandas>=0.24.0->aif360) (2.8.1)\n",
      "Requirement already satisfied: six>=1.5 in c:\\program files\\arcgis\\pro\\bin\\python\\envs\\arcgispro-py3\\lib\\site-packages (from python-dateutil>=2.7.3->pandas>=0.24.0->aif360) (1.15.0)\n",
      "Requirement already satisfied: threadpoolctl>=2.0.0 in c:\\users\\ekorn\\appdata\\roaming\\python\\python37\\site-packages (from scikit-learn>=0.22.1->aif360) (3.1.0)\n",
      "Requirement already satisfied: joblib>=0.11 in c:\\users\\ekorn\\appdata\\roaming\\python\\python37\\site-packages (from scikit-learn>=0.22.1->aif360) (1.1.0)\n",
      "Requirement already satisfied: kiwisolver>=1.0.1 in c:\\program files\\arcgis\\pro\\bin\\python\\envs\\arcgispro-py3\\lib\\site-packages (from matplotlib->aif360) (1.3.1)\n",
      "Requirement already satisfied: pillow>=6.2.0 in c:\\program files\\arcgis\\pro\\bin\\python\\envs\\arcgispro-py3\\lib\\site-packages (from matplotlib->aif360) (7.1.2)\n",
      "Requirement already satisfied: cycler>=0.10 in c:\\program files\\arcgis\\pro\\bin\\python\\envs\\arcgispro-py3\\lib\\site-packages (from matplotlib->aif360) (0.10.0)\n",
      "Requirement already satisfied: pyparsing!=2.0.4,!=2.1.2,!=2.1.6,>=2.0.3 in c:\\program files\\arcgis\\pro\\bin\\python\\envs\\arcgispro-py3\\lib\\site-packages (from matplotlib->aif360) (2.4.7)\n",
      "Requirement already satisfied: certifi>=2020.06.20 in c:\\program files\\arcgis\\pro\\bin\\python\\envs\\arcgispro-py3\\lib\\site-packages (from matplotlib->aif360) (2020.12.5)\n",
      "Requirement already satisfied: requests in c:\\program files\\arcgis\\pro\\bin\\python\\envs\\arcgispro-py3\\lib\\site-packages (from tempeh->aif360) (2.25.1)\n",
      "Requirement already satisfied: pytest in c:\\program files\\arcgis\\pro\\bin\\python\\envs\\arcgispro-py3\\lib\\site-packages (from tempeh->aif360) (0.0.0)\n",
      "Requirement already satisfied: memory-profiler in c:\\users\\ekorn\\appdata\\roaming\\python\\python37\\site-packages (from tempeh->aif360) (0.60.0)\n",
      "Requirement already satisfied: shap in c:\\users\\ekorn\\appdata\\roaming\\python\\python37\\site-packages (from tempeh->aif360) (0.40.0)\n",
      "Requirement already satisfied: psutil in c:\\program files\\arcgis\\pro\\bin\\python\\envs\\arcgispro-py3\\lib\\site-packages (from memory-profiler->tempeh->aif360) (5.8.0)\n",
      "Requirement already satisfied: attrs>=17.4.0 in c:\\program files\\arcgis\\pro\\bin\\python\\envs\\arcgispro-py3\\lib\\site-packages (from pytest->tempeh->aif360) (20.3.0)\n",
      "Requirement already satisfied: iniconfig in c:\\program files\\arcgis\\pro\\bin\\python\\envs\\arcgispro-py3\\lib\\site-packages (from pytest->tempeh->aif360) (1.1.1)\n",
      "Requirement already satisfied: packaging in c:\\users\\ekorn\\appdata\\roaming\\python\\python37\\site-packages (from pytest->tempeh->aif360) (21.3)\n",
      "Requirement already satisfied: pluggy<1.0,>=0.12 in c:\\program files\\arcgis\\pro\\bin\\python\\envs\\arcgispro-py3\\lib\\site-packages (from pytest->tempeh->aif360) (0.13.1)\n",
      "Requirement already satisfied: py>=1.8.2 in c:\\program files\\arcgis\\pro\\bin\\python\\envs\\arcgispro-py3\\lib\\site-packages (from pytest->tempeh->aif360) (1.10.0)\n",
      "Requirement already satisfied: toml in c:\\program files\\arcgis\\pro\\bin\\python\\envs\\arcgispro-py3\\lib\\site-packages (from pytest->tempeh->aif360) (0.10.2)\n",
      "Requirement already satisfied: importlib-metadata>=0.12 in c:\\users\\ekorn\\appdata\\roaming\\python\\python37\\site-packages (from pytest->tempeh->aif360) (4.11.1)\n",
      "Requirement already satisfied: atomicwrites>=1.0 in c:\\program files\\arcgis\\pro\\bin\\python\\envs\\arcgispro-py3\\lib\\site-packages (from pytest->tempeh->aif360) (1.4.0)\n",
      "Requirement already satisfied: colorama in c:\\program files\\arcgis\\pro\\bin\\python\\envs\\arcgispro-py3\\lib\\site-packages (from pytest->tempeh->aif360) (0.4.4)\n",
      "Requirement already satisfied: zipp>=0.5 in c:\\program files\\arcgis\\pro\\bin\\python\\envs\\arcgispro-py3\\lib\\site-packages (from importlib-metadata>=0.12->pytest->tempeh->aif360) (3.4.1)\n",
      "Requirement already satisfied: typing-extensions>=3.6.4 in c:\\program files\\arcgis\\pro\\bin\\python\\envs\\arcgispro-py3\\lib\\site-packages (from importlib-metadata>=0.12->pytest->tempeh->aif360) (3.7.4.3)\n",
      "Requirement already satisfied: idna<3,>=2.5 in c:\\program files\\arcgis\\pro\\bin\\python\\envs\\arcgispro-py3\\lib\\site-packages (from requests->tempeh->aif360) (2.10)\n",
      "Requirement already satisfied: chardet<5,>=3.0.2 in c:\\program files\\arcgis\\pro\\bin\\python\\envs\\arcgispro-py3\\lib\\site-packages (from requests->tempeh->aif360) (4.0.0)\n",
      "Requirement already satisfied: urllib3<1.27,>=1.21.1 in c:\\program files\\arcgis\\pro\\bin\\python\\envs\\arcgispro-py3\\lib\\site-packages (from requests->tempeh->aif360) (1.26.4)\n",
      "Requirement already satisfied: tqdm>4.25.0 in c:\\users\\ekorn\\appdata\\roaming\\python\\python37\\site-packages (from shap->tempeh->aif360) (4.62.3)\n",
      "Requirement already satisfied: cloudpickle in c:\\users\\ekorn\\appdata\\roaming\\python\\python37\\site-packages (from shap->tempeh->aif360) (2.0.0)\n",
      "Requirement already satisfied: slicer==0.0.7 in c:\\users\\ekorn\\appdata\\roaming\\python\\python37\\site-packages (from shap->tempeh->aif360) (0.0.7)\n",
      "Requirement already satisfied: numba in c:\\users\\ekorn\\appdata\\roaming\\python\\python37\\site-packages (from shap->tempeh->aif360) (0.55.1)\n",
      "Requirement already satisfied: setuptools in c:\\program files\\arcgis\\pro\\bin\\python\\envs\\arcgispro-py3\\lib\\site-packages (from numba->shap->tempeh->aif360) (52.0.0.post20210125)\n",
      "Requirement already satisfied: llvmlite<0.39,>=0.38.0rc1 in c:\\users\\ekorn\\appdata\\roaming\\python\\python37\\site-packages (from numba->shap->tempeh->aif360) (0.38.0)\n",
      "Defaulting to user installation because normal site-packages is not writeable\n",
      "Requirement already satisfied: fairlearn in c:\\users\\ekorn\\appdata\\roaming\\python\\python37\\site-packages (0.7.0)\n",
      "Requirement already satisfied: numpy>=1.17.2 in c:\\program files\\arcgis\\pro\\bin\\python\\envs\\arcgispro-py3\\lib\\site-packages (from fairlearn) (1.20.1)\n",
      "Requirement already satisfied: scipy>=1.4.1 in c:\\users\\ekorn\\appdata\\roaming\\python\\python37\\site-packages (from fairlearn) (1.5.4)\n",
      "Requirement already satisfied: scikit-learn>=0.22.1 in c:\\users\\ekorn\\appdata\\roaming\\python\\python37\\site-packages (from fairlearn) (1.0.2)\n",
      "Requirement already satisfied: pandas>=0.25.1 in c:\\program files\\arcgis\\pro\\bin\\python\\envs\\arcgispro-py3\\lib\\site-packages (from fairlearn) (1.2.3)\n",
      "Requirement already satisfied: pytz>=2017.3 in c:\\program files\\arcgis\\pro\\bin\\python\\envs\\arcgispro-py3\\lib\\site-packages\\pytz-2020.1-py3.7.egg (from pandas>=0.25.1->fairlearn) (2020.1)\n",
      "Requirement already satisfied: python-dateutil>=2.7.3 in c:\\program files\\arcgis\\pro\\bin\\python\\envs\\arcgispro-py3\\lib\\site-packages (from pandas>=0.25.1->fairlearn) (2.8.1)\n",
      "Requirement already satisfied: six>=1.5 in c:\\program files\\arcgis\\pro\\bin\\python\\envs\\arcgispro-py3\\lib\\site-packages (from python-dateutil>=2.7.3->pandas>=0.25.1->fairlearn) (1.15.0)\n",
      "Requirement already satisfied: threadpoolctl>=2.0.0 in c:\\users\\ekorn\\appdata\\roaming\\python\\python37\\site-packages (from scikit-learn>=0.22.1->fairlearn) (3.1.0)\n",
      "Requirement already satisfied: joblib>=0.11 in c:\\users\\ekorn\\appdata\\roaming\\python\\python37\\site-packages (from scikit-learn>=0.22.1->fairlearn) (1.1.0)\n"
     ]
    }
   ],
   "source": [
    "!pip install aif360;\n",
    "!pip install fairlearn;\n",
    "##!pip install 'aif360[AdversarialDebiasing]'"
   ]
  },
  {
   "cell_type": "code",
   "execution_count": 4,
   "metadata": {},
   "outputs": [],
   "source": [
    "%matplotlib inline\n",
    "import matplotlib.pyplot as plt\n",
    "import matplotlib.patches as patches\n",
    "import numpy as np\n",
    "import pandas as pd\n",
    "#import seaborn as sns\n",
    "\n",
    "import matplotlib.pyplot as plt\n",
    "import matplotlib.patches as mpatches\n",
    "\n",
    "from sklearn.compose import make_column_transformer\n",
    "from sklearn.linear_model import LogisticRegression\n",
    "from sklearn.metrics import accuracy_score, confusion_matrix, plot_roc_curve, recall_score, precision_score\n",
    "\n",
    "from sklearn.model_selection import GridSearchCV, train_test_split\n",
    "from sklearn.preprocessing import OneHotEncoder"
   ]
  },
  {
   "cell_type": "code",
   "execution_count": null,
   "metadata": {},
   "outputs": [],
   "source": []
  }
 ],
 "metadata": {
  "kernelspec": {
   "display_name": "Python 3",
   "language": "python",
   "name": "python3"
  },
  "language_info": {
   "codemirror_mode": {
    "name": "ipython",
    "version": 3
   },
   "file_extension": ".py",
   "mimetype": "text/x-python",
   "name": "python",
   "nbconvert_exporter": "python",
   "pygments_lexer": "ipython3",
   "version": "3.7.10"
  }
 },
 "nbformat": 4,
 "nbformat_minor": 4
}
